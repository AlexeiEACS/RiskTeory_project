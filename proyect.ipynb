{
 "cells": [
  {
   "cell_type": "code",
   "execution_count": 8,
   "metadata": {},
   "outputs": [],
   "source": [
    "using Distributions"
   ]
  },
  {
   "cell_type": "code",
   "execution_count": 2,
   "metadata": {},
   "outputs": [
    {
     "data": {
      "text/plain": [
       "LogNormal{Float64}(μ=3.912115, σ=2.71873)"
      ]
     },
     "execution_count": 2,
     "metadata": {},
     "output_type": "execute_result"
    }
   ],
   "source": [
    "mu = 3.912115; sigma = 2.71873; \n",
    "\n",
    "freq = NegativeBinomial(3920/17 ,28/45)\n",
    "sev = LogNormal(mu, sigma)"
   ]
  },
  {
   "cell_type": "code",
   "execution_count": 4,
   "metadata": {},
   "outputs": [
    {
     "data": {
      "text/plain": [
       "simul_events (generic function with 1 method)"
      ]
     },
     "execution_count": 4,
     "metadata": {},
     "output_type": "execute_result"
    }
   ],
   "source": [
    "function  simul_events(n)\n",
    "    S = zeros(n)\n",
    "    N = rand(freq, n)\n",
    "    \n",
    "    N_pos = findall(N .> 0)\n",
    "    \n",
    "    for i in N_pos\n",
    "        Yi = rand(sev, N[i])\n",
    "        S[i] = sum(Yi)\n",
    "    end\n",
    "    return(S)\n",
    "end"
   ]
  },
  {
   "cell_type": "code",
   "execution_count": null,
   "metadata": {},
   "outputs": [],
   "source": [
    "S = simul_events(10_000)"
   ]
  },
  {
   "cell_type": "code",
   "execution_count": 10,
   "metadata": {},
   "outputs": [
    {
     "ename": "MethodError",
     "evalue": "\u001b[91mMethodError: no method matching params(::Type{TDist}, ::Array{Float64,1})\u001b[39m\n\u001b[91m\u001b[0mClosest candidates are:\u001b[39m\n\u001b[91m\u001b[0m  params(\u001b[91m::Type{D}\u001b[39m, ::AbstractArray{T,1} where T, \u001b[91m::AbstractArray{T,2} where T\u001b[39m) where D<:Distributions.AbstractMvLogNormal at /home/alexeieacs/.julia/packages/Distributions/fXTVC/src/multivariate/mvlognormal.jl:141\u001b[39m\n\u001b[91m\u001b[0m  params(::Any) at /home/alexeieacs/.julia/packages/StatsBase/PGTj8/src/statmodels.jl:423\u001b[39m",
     "output_type": "error",
     "traceback": [
      "\u001b[91mMethodError: no method matching params(::Type{TDist}, ::Array{Float64,1})\u001b[39m\n\u001b[91m\u001b[0mClosest candidates are:\u001b[39m\n\u001b[91m\u001b[0m  params(\u001b[91m::Type{D}\u001b[39m, ::AbstractArray{T,1} where T, \u001b[91m::AbstractArray{T,2} where T\u001b[39m) where D<:Distributions.AbstractMvLogNormal at /home/alexeieacs/.julia/packages/Distributions/fXTVC/src/multivariate/mvlognormal.jl:141\u001b[39m\n\u001b[91m\u001b[0m  params(::Any) at /home/alexeieacs/.julia/packages/StatsBase/PGTj8/src/statmodels.jl:423\u001b[39m",
      "",
      "Stacktrace:",
      " [1] top-level scope at In[10]:1"
     ]
    }
   ],
   "source": [
    "params(TDist, S)"
   ]
  },
  {
   "cell_type": "code",
   "execution_count": 14,
   "metadata": {},
   "outputs": [
    {
     "ename": "ErrorException",
     "evalue": "\u001b[91msuffstats is not implemented for (TDist, Array{Float64,1}).\u001b[39m",
     "output_type": "error",
     "traceback": [
      "\u001b[91msuffstats is not implemented for (TDist, Array{Float64,1}).\u001b[39m",
      "",
      "Stacktrace:",
      " [1] error(::String) at ./error.jl:33",
      " [2] suffstats(::Type{TDist}, ::Array{Float64,1}) at /home/alexeieacs/.julia/packages/Distributions/fXTVC/src/genericfit.jl:5",
      " [3] fit_mle(::Type{TDist}, ::Array{Float64,1}) at /home/alexeieacs/.julia/packages/Distributions/fXTVC/src/genericfit.jl:27",
      " [4] top-level scope at In[14]:1"
     ]
    }
   ],
   "source": [
    "fit_mle(TDist, S)"
   ]
  },
  {
   "cell_type": "code",
   "execution_count": null,
   "metadata": {},
   "outputs": [],
   "source": []
  }
 ],
 "metadata": {
  "kernelspec": {
   "display_name": "Julia 1.4.1",
   "language": "julia",
   "name": "julia-1.4"
  },
  "language_info": {
   "file_extension": ".jl",
   "mimetype": "application/julia",
   "name": "julia",
   "version": "1.4.1"
  },
  "orig_nbformat": 4
 },
 "nbformat": 4,
 "nbformat_minor": 2
}
