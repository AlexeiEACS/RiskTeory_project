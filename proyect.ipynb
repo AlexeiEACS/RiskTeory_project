{
 "cells": [
  {
   "cell_type": "code",
   "execution_count": 8,
   "metadata": {},
   "outputs": [],
   "source": [
    "using Distributions"
   ]
  },
  {
   "cell_type": "markdown",
   "metadata": {},
   "source": [
    "## Parameters to get S\n",
    "Get the parameters for the N that is our frequency random varible and we know it distributes as N $\\sim$ NegativeBinomial(r, p) but we also know that $\\mathbb{E} = 140$ and also that $\\mathbb{V} = 15²$.\n",
    "\n",
    "Doing a little reasherch we can get that the Expected value of N is $\\frac{r(1-p)}{p}$ and its variance is $\\mathbb{V}(N) = \\frac{r(1-p)}{p²}$\n",
    "So it's only left to plug-in our values and solve for $r$ and $p$. That gives us that $r = 3920/17$ and $p = 28/45$ and we don't need to round the value of r beacuse in julia it's an expression for the distribution in case $r \\in \\mathbb{R}$"
   ]
  },
  {
   "cell_type": "code",
   "execution_count": 2,
   "metadata": {},
   "outputs": [
    {
     "data": {
      "text/plain": [
       "LogNormal{Float64}(μ=3.912115, σ=2.71873)"
      ]
     },
     "execution_count": 2,
     "metadata": {},
     "output_type": "execute_result"
    }
   ],
   "source": [
    "mu = 3.912115; sigma = 2.71873; \n",
    "\n",
    "freq = NegativeBinomial(3920/17 ,28/45)\n",
    "sev = LogNormal(mu, sigma)"
   ]
  },
  {
   "cell_type": "markdown",
   "metadata": {},
   "source": []
  },
  {
   "cell_type": "code",
   "execution_count": 4,
   "metadata": {},
   "outputs": [
    {
     "data": {
      "text/plain": [
       "simul_events (generic function with 1 method)"
      ]
     },
     "execution_count": 4,
     "metadata": {},
     "output_type": "execute_result"
    }
   ],
   "source": [
    "function  simul_events(n)\n",
    "    S = zeros(n)\n",
    "    N = rand(freq, n)\n",
    "    \n",
    "    N_pos = findall(N .> 0)\n",
    "    \n",
    "    for i in N_pos\n",
    "        Yi = rand(sev, N[i])\n",
    "        S[i] = sum(Yi)\n",
    "    end\n",
    "    return(S, N)\n",
    "end"
   ]
  },
  {
   "cell_type": "code",
   "execution_count": null,
   "metadata": {},
   "outputs": [],
   "source": [
    "S = simul_events(10_000)"
   ]
  },
  {
   "cell_type": "markdown",
   "metadata": {},
   "source": [
    "The next step is to fit the "
   ]
  }
 ],
 "metadata": {
  "kernelspec": {
   "display_name": "Julia 1.4.1",
   "language": "julia",
   "name": "julia-1.4"
  },
  "language_info": {
   "file_extension": ".jl",
   "mimetype": "application/julia",
   "name": "julia",
   "version": "1.4.1"
  },
  "orig_nbformat": 4
 },
 "nbformat": 4,
 "nbformat_minor": 2
}
