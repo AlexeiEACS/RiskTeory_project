{
 "cells": [
  {
   "cell_type": "code",
   "execution_count": 1,
   "metadata": {},
   "outputs": [],
   "source": [
    "using Distributions"
   ]
  },
  {
   "cell_type": "markdown",
   "metadata": {},
   "source": [
    "## Parameters to get S\n",
    "Get the parameters for the N that is our frequency random varible and we know it distributes as N $\\sim$ NegativeBinomial(r, p) but we also know that $\\mathbb{E} = 140$ and also that $\\mathbb{V} = 15²$.\n",
    "\n",
    "Doing a little reasherch we can get that the Expected value of N is $\\frac{r(1-p)}{p}$ and its variance is $\\mathbb{V}(N) = \\frac{r(1-p)}{p²}$\n",
    "So it's only left to plug-in our values and solve for $r$ and $p$. That gives us that $r = 3920/17$ and $p = 28/45$ and we don't need to round the value of r beacuse in julia it's an expression for the distribution in case $r \\in \\mathbb{R}$\n",
    "\n",
    "For Y we know that it is distributed as a $LogNormal(\\mu, \\sigma)$ and also that $Median(Y) = 50$ and it's $VaR_{0.995}(Y) = 5500$ \n",
    "Usign a web graphical calculator we ge to the aproximate value of: $\\mu = 3.912115$ $\\sigma = 2.71873$ but we can get a better approximation if we use the EDA Algorith "
   ]
  },
  {
   "cell_type": "code",
   "execution_count": 2,
   "metadata": {},
   "outputs": [
    {
     "data": {
      "text/plain": [
       "EDA"
      ]
     },
     "execution_count": 2,
     "metadata": {},
     "output_type": "execute_result"
    }
   ],
   "source": [
    "include(\"EDA.jl\")"
   ]
  },
  {
   "cell_type": "code",
   "execution_count": 3,
   "metadata": {},
   "outputs": [
    {
     "name": "stdout",
     "output_type": "stream",
     "text": [
      "Iterando... \n",
      "...fin\n",
      "Aviso: se alcanzó el máximo número de iteraciones = 1000\n"
     ]
    },
    {
     "data": {
      "text/plain": [
       "(x = [3.9112135714027922, 1.9519254664061245], fx = 9.076901430394942e-6, iter = 1000)"
      ]
     },
     "execution_count": 3,
     "metadata": {},
     "output_type": "execute_result"
    }
   ],
   "source": [
    "obj_func(x) = (cdf(LogNormal(x[1], x[2]), 50) - 0.5)^2 + (cdf(LogNormal(x[1], x[2]), 5500) - 0.995)^2\n",
    "eda_res = EDA(obj_func,[2,2],[4,3], difmax = 0.000000000001)"
   ]
  },
  {
   "cell_type": "code",
   "execution_count": 4,
   "metadata": {},
   "outputs": [
    {
     "name": "stdout",
     "output_type": "stream",
     "text": [
      "0.9919917558975738\n",
      "0.5001654353366518\n"
     ]
    }
   ],
   "source": [
    "println(cdf(LogNormal(eda_res[1][1], eda_res[1][2]), 5500))\n",
    "println(cdf(LogNormal(eda_res[1][1], eda_res[1][2]), 50))"
   ]
  },
  {
   "cell_type": "markdown",
   "metadata": {},
   "source": [
    "\n",
    "Now we have the parameters for both of the distributions and we can go on"
   ]
  },
  {
   "cell_type": "code",
   "execution_count": 5,
   "metadata": {},
   "outputs": [
    {
     "data": {
      "text/plain": [
       "LogNormal{Float64}(μ=3.9112135714027922, σ=1.9519254664061245)"
      ]
     },
     "execution_count": 5,
     "metadata": {},
     "output_type": "execute_result"
    }
   ],
   "source": [
    "mu = eda_res[1][1]; sigma = eda_res[1][2]; \n",
    "\n",
    "freq = NegativeBinomial(3920/17 ,28/45)\n",
    "sev = LogNormal(mu, sigma)"
   ]
  },
  {
   "cell_type": "markdown",
   "metadata": {},
   "source": [
    "## Simulations of the accidents\n",
    "Now thtat we have the parameters of the severity and the frequency distributions we now can simulate de variable S"
   ]
  },
  {
   "cell_type": "code",
   "execution_count": 6,
   "metadata": {},
   "outputs": [
    {
     "data": {
      "text/plain": [
       "simul_events (generic function with 1 method)"
      ]
     },
     "execution_count": 6,
     "metadata": {},
     "output_type": "execute_result"
    }
   ],
   "source": [
    "function  simul_events(n)\n",
    "    S = zeros(n)\n",
    "    N = rand(freq, n)\n",
    "    \n",
    "    N_pos = findall(N .> 0)\n",
    "    \n",
    "    for i in N_pos\n",
    "        Yi = rand(sev, N[i])\n",
    "        S[i] = sum(Yi)\n",
    "    end\n",
    "    return(S, N)\n",
    "end"
   ]
  },
  {
   "cell_type": "code",
   "execution_count": 7,
   "metadata": {},
   "outputs": [
    {
     "data": {
      "text/plain": [
       "([41994.11054928828, 68565.24596422697, 67160.22193271312, 16157.344365949866, 62192.97171220104, 353377.7662894136, 86162.06584981912, 43677.02525751702, 36718.561463260245, 107406.00058847072  …  45255.71227602371, 36956.1751969352, 49826.08506982208, 50224.25615419464, 30446.267005992122, 23872.516441679876, 48928.99268106975, 33737.09227567637, 80223.43891253346, 111393.95821167307], [146, 140, 102, 108, 150, 155, 133, 169, 141, 151  …  145, 129, 144, 157, 130, 136, 142, 141, 138, 191])"
      ]
     },
     "execution_count": 7,
     "metadata": {},
     "output_type": "execute_result"
    }
   ],
   "source": [
    "#  The exercise ask for 1M simulations\n",
    "S = simul_events(10_000)"
   ]
  },
  {
   "cell_type": "markdown",
   "metadata": {},
   "source": [
    "The next step is to fit the distribution of S into a prior T-Student distribution as $Student(\\mu_{0}, n_{0}\\alpha(n_{0} + 1)^{-1}\\beta^{-1}, 2\\alpha)$\n",
    "\n",
    "We viewed the for of a 3-parameter T-student distribution in class so ownow we will use it and aproximate the parameters.\n",
    "remember that:\n",
    "\n",
    "If $X \\sim ST(\\alpha)$ entonces $f_{X}(x | \\alpha) = \\frac{\\Gamma(\\frac{\\alpha + 1}{2})}{\\sqrt{\\alpha\\pi}\\ \\Gamma(\\frac{\\alpha}{2})} * (1 + \\frac{x^{2}}{\\alpha})^{\\frac{\\alpha +1}{2}}$ \n",
    "\n",
    "and usign a location-scale parametrization:\n",
    "\n",
    "Let $\\mu \\in \\mathbb{R}$, $\\lambda > 0$ and  $T := \\mu + \\frac{1}{\\lambda} X$\n",
    "with\n",
    "$\\mathbb{E}[T] = \\mu$,  $Median[T] = \\mu$  and just in the case that  $\\alpha > 2$  then   $\\mathbb{V}[T] = \\frac{\\alpha}{(\\alpha - 2)\\lambda}$\n",
    "\n",
    "So our new dsitribution function:\n",
    "$f_{T}(t| \\mu, \\lambda, \\alpha) = \\sqrt{\\lambda}\\ f_{X}(\\sqrt{\\lambda} (t -\\mu)\\ | \\alpha)$\n",
    "\n",
    "In our case we can use these parametres as:\n",
    "\n",
    "$\\mathbb{E}(S) = \\mu_{0}$ and the $\\mathbb{E}(N) = n_{0}$\n",
    "\n",
    "So our values to adjust are:\n",
    "\n",
    "$\\mu = \\mu_{0}$ \n",
    "\n",
    "$\\lambda = n_{0}\\alpha(n_{0} + 1)^{-1}\\beta^{-1}$ \n",
    "\n",
    "$\\alpha = 2\\alpha$ "
   ]
  },
  {
   "cell_type": "code",
   "execution_count": 11,
   "metadata": {},
   "outputs": [
    {
     "data": {
      "text/plain": [
       "4.9361399072998235"
      ]
     },
     "execution_count": 11,
     "metadata": {},
     "output_type": "execute_result"
    }
   ],
   "source": [
    "μ0 = mean(log.(S[1]))\n",
    "n0 = mean(log.(S[2]))"
   ]
  },
  {
   "cell_type": "markdown",
   "metadata": {},
   "source": []
  },
  {
   "cell_type": "code",
   "execution_count": 19,
   "metadata": {},
   "outputs": [
    {
     "name": "stdout",
     "output_type": "stream",
     "text": [
      "Iterando... \n"
     ]
    },
    {
     "ename": "ArgumentError",
     "evalue": "\u001b[91mArgumentError: LocationScale: the condition σ > zero(σ) is not satisfied.\u001b[39m",
     "output_type": "error",
     "traceback": [
      "\u001b[91mArgumentError: LocationScale: the condition σ > zero(σ) is not satisfied.\u001b[39m",
      "",
      "Stacktrace:",
      " [1] macro expansion at /home/alexeieacs/.julia/packages/Distributions/fXTVC/src/utils.jl:6 [inlined]",
      " [2] _ at /home/alexeieacs/.julia/packages/Distributions/fXTVC/src/univariate/locationscale.jl:41 [inlined]",
      " [3] #LocationScale#40 at /home/alexeieacs/.julia/packages/Distributions/fXTVC/src/univariate/locationscale.jl:50 [inlined]",
      " [4] LocationScale at /home/alexeieacs/.julia/packages/Distributions/fXTVC/src/univariate/locationscale.jl:47 [inlined]",
      " [5] * at /home/alexeieacs/.julia/packages/Distributions/fXTVC/src/univariate/locationscale.jl:126 [inlined]",
      " [6] obj_func(::Array{Float64,1}) at ./In[19]:1",
      " [7] EDA(::typeof(obj_func), ::Array{Int64,1}, ::Array{Int64,1}; iEnteros::Array{Int64,1}, tamgen::Int64, propselec::Float64, difmax::Float64, maxiter::Int64) at /home/alexeieacs/Documents/FESA/7° Semestre/teoria_del_riesgo/proyect/EDA.jl:66",
      " [8] EDA(::Function, ::Array{Int64,1}, ::Array{Int64,1}) at /home/alexeieacs/Documents/FESA/7° Semestre/teoria_del_riesgo/proyect/EDA.jl:39",
      " [9] top-level scope at In[19]:2"
     ]
    }
   ],
   "source": [
    "obj_func(x) = (cdf(μ0 + x[1] * TDist(x[2]), μ0) - 0.5)^2\n",
    "EDA(obj_func, [1, 2], [50, 10])"
   ]
  },
  {
   "cell_type": "code",
   "execution_count": 37,
   "metadata": {},
   "outputs": [
    {
     "name": "stdout",
     "output_type": "stream",
     "text": [
      "Iterando... \n"
     ]
    },
    {
     "ename": "MethodError",
     "evalue": "\u001b[91mMethodError: no method matching log(::Array{Float64,1})\u001b[39m\n\u001b[91m\u001b[0mClosest candidates are:\u001b[39m\n\u001b[91m\u001b[0m  log(\u001b[91m::Float16\u001b[39m) at math.jl:1114\u001b[39m\n\u001b[91m\u001b[0m  log(\u001b[91m::Complex{Float16}\u001b[39m) at math.jl:1115\u001b[39m\n\u001b[91m\u001b[0m  log(\u001b[91m::Float64\u001b[39m) at special/log.jl:254\u001b[39m\n\u001b[91m\u001b[0m  ...\u001b[39m",
     "output_type": "error",
     "traceback": [
      "\u001b[91mMethodError: no method matching log(::Array{Float64,1})\u001b[39m\n\u001b[91m\u001b[0mClosest candidates are:\u001b[39m\n\u001b[91m\u001b[0m  log(\u001b[91m::Float16\u001b[39m) at math.jl:1114\u001b[39m\n\u001b[91m\u001b[0m  log(\u001b[91m::Complex{Float16}\u001b[39m) at math.jl:1115\u001b[39m\n\u001b[91m\u001b[0m  log(\u001b[91m::Float64\u001b[39m) at special/log.jl:254\u001b[39m\n\u001b[91m\u001b[0m  ...\u001b[39m",
      "",
      "Stacktrace:",
      " [1] _broadcast_getindex_evalf at ./broadcast.jl:631 [inlined]",
      " [2] _broadcast_getindex at ./broadcast.jl:604 [inlined]",
      " [3] (::Base.Broadcast.var\"#19#20\"{Base.Broadcast.Broadcasted{Base.Broadcast.Style{Tuple},Nothing,typeof(log),Tuple{Tuple{Array{Float64,1},Array{Int64,1}}}}})(::Int64) at ./broadcast.jl:1024",
      " [4] ntuple at ./ntuple.jl:42 [inlined]",
      " [5] copy at ./broadcast.jl:1024 [inlined]",
      " [6] materialize(::Base.Broadcast.Broadcasted{Base.Broadcast.Style{Tuple},Nothing,typeof(log),Tuple{Tuple{Array{Float64,1},Array{Int64,1}}}}) at ./broadcast.jl:820",
      " [7] ob2(::Array{Float64,1}) at ./In[37]:1",
      " [8] EDA(::typeof(ob2), ::Array{Int64,1}, ::Array{Int64,1}; iEnteros::Array{Int64,1}, tamgen::Int64, propselec::Float64, difmax::Float64, maxiter::Int64) at /home/alexeieacs/Documents/FESA/7° Semestre/teoria_del_riesgo/proyect/EDA.jl:66",
      " [9] top-level scope at In[37]:2"
     ]
    }
   ],
   "source": [
    "ob2(x) = (cdf(LocationScale(μ0,x[1], TDist(x[2])), μ0) - 0.5)^2 + (cdf(LocationScale(μ0,x[1], TDist(x[2])), quantile(log.(S), 0.75)) - quantile(log.(S), 0.75))^2\n",
    "EDA(ob2, [5,5], [10,10], tamgen= 100 )"
   ]
  },
  {
   "cell_type": "code",
   "execution_count": 35,
   "metadata": {},
   "outputs": [
    {
     "data": {
      "text/plain": [
       "0.5"
      ]
     },
     "execution_count": 35,
     "metadata": {},
     "output_type": "execute_result"
    }
   ],
   "source": [
    "cdf(LocationScale(μ0, 5.0255083957997995, TDist(7.3777147526699505)), μ0)"
   ]
  },
  {
   "cell_type": "code",
   "execution_count": null,
   "metadata": {},
   "outputs": [],
   "source": []
  }
 ],
 "metadata": {
  "kernelspec": {
   "display_name": "Julia 1.4.1",
   "language": "julia",
   "name": "julia-1.4"
  },
  "language_info": {
   "file_extension": ".jl",
   "mimetype": "application/julia",
   "name": "julia",
   "version": "1.4.1"
  },
  "orig_nbformat": 4
 },
 "nbformat": 4,
 "nbformat_minor": 2
}
