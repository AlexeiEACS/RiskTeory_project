{
 "cells": [
  {
   "cell_type": "code",
   "execution_count": 2,
   "id": "5a2561f2",
   "metadata": {},
   "outputs": [
    {
     "name": "stderr",
     "output_type": "stream",
     "text": [
      "┌ Info: Precompiling StatsPlots [f3b207a7-027a-5e70-b257-86293d7955fd]\n",
      "└ @ Base loading.jl:1260\n",
      "WARNING: Method definition Type##kw(Any, Type{Base.MPFR.BigFloat}, Base.Irrational{:twoπ}) in module IrrationalConstants at irrationals.jl:162 overwritten in module StatsFuns at irrationals.jl:162.\n",
      "  ** incremental compilation may be fatally broken for this module **\n",
      "\n",
      "WARNING: Method definition Type##kw(Any, Type{Base.MPFR.BigFloat}, Base.Irrational{:fourπ}) in module IrrationalConstants at irrationals.jl:162 overwritten in module StatsFuns at irrationals.jl:162.\n",
      "  ** incremental compilation may be fatally broken for this module **\n",
      "\n",
      "WARNING: Method definition Type##kw(Any, Type{Base.MPFR.BigFloat}, Base.Irrational{:halfπ}) in module IrrationalConstants at irrationals.jl:162 overwritten in module StatsFuns at irrationals.jl:162.\n",
      "  ** incremental compilation may be fatally broken for this module **\n",
      "\n",
      "WARNING: Method definition Type##kw(Any, Type{Base.MPFR.BigFloat}, Base.Irrational{:quartπ}) in module IrrationalConstants at irrationals.jl:162 overwritten in module StatsFuns at irrationals.jl:162.\n",
      "  ** incremental compilation may be fatally broken for this module **\n",
      "\n",
      "WARNING: Method definition Type##kw(Any, Type{Base.MPFR.BigFloat}, Base.Irrational{:invπ}) in module IrrationalConstants at irrationals.jl:162 overwritten in module StatsFuns at irrationals.jl:162.\n",
      "  ** incremental compilation may be fatally broken for this module **\n",
      "\n",
      "WARNING: Method definition Type##kw(Any, Type{Base.MPFR.BigFloat}, Base.Irrational{:twoinvπ}) in module IrrationalConstants at irrationals.jl:162 overwritten in module StatsFuns at irrationals.jl:162.\n",
      "  ** incremental compilation may be fatally broken for this module **\n",
      "\n",
      "WARNING: Method definition Type##kw(Any, Type{Base.MPFR.BigFloat}, Base.Irrational{:fourinvπ}) in module IrrationalConstants at irrationals.jl:162 overwritten in module StatsFuns at irrationals.jl:162.\n",
      "  ** incremental compilation may be fatally broken for this module **\n",
      "\n",
      "WARNING: Method definition Type##kw(Any, Type{Base.MPFR.BigFloat}, Base.Irrational{:inv2π}) in module IrrationalConstants at irrationals.jl:162 overwritten in module StatsFuns at irrationals.jl:162.\n",
      "  ** incremental compilation may be fatally broken for this module **\n",
      "\n",
      "WARNING: Method definition Type##kw(Any, Type{Base.MPFR.BigFloat}, Base.Irrational{:inv4π}) in module IrrationalConstants at irrationals.jl:162 overwritten in module StatsFuns at irrationals.jl:162.\n",
      "  ** incremental compilation may be fatally broken for this module **\n",
      "\n",
      "WARNING: Method definition Type##kw(Any, Type{Base.MPFR.BigFloat}, Base.Irrational{:sqrt2}) in module IrrationalConstants at irrationals.jl:162 overwritten in module StatsFuns at irrationals.jl:162.\n",
      "  ** incremental compilation may be fatally broken for this module **\n",
      "\n",
      "WARNING: Method definition Type##kw(Any, Type{Base.MPFR.BigFloat}, Base.Irrational{:sqrt3}) in module IrrationalConstants at irrationals.jl:162 overwritten in module StatsFuns at irrationals.jl:162.\n",
      "  ** incremental compilation may be fatally broken for this module **\n",
      "\n",
      "WARNING: Method definition Type##kw(Any, Type{Base.MPFR.BigFloat}, Base.Irrational{:sqrtπ}) in module IrrationalConstants at irrationals.jl:162 overwritten in module StatsFuns at irrationals.jl:162.\n",
      "  ** incremental compilation may be fatally broken for this module **\n",
      "\n",
      "WARNING: Method definition Type##kw(Any, Type{Base.MPFR.BigFloat}, Base.Irrational{:sqrt2π}) in module IrrationalConstants at irrationals.jl:162 overwritten in module StatsFuns at irrationals.jl:162.\n",
      "  ** incremental compilation may be fatally broken for this module **\n",
      "\n",
      "WARNING: Method definition Type##kw(Any, Type{Base.MPFR.BigFloat}, Base.Irrational{:sqrt4π}) in module IrrationalConstants at irrationals.jl:162 overwritten in module StatsFuns at irrationals.jl:162.\n",
      "  ** incremental compilation may be fatally broken for this module **\n",
      "\n",
      "WARNING: Method definition Type##kw(Any, Type{Base.MPFR.BigFloat}, Base.Irrational{:sqrthalfπ}) in module IrrationalConstants at irrationals.jl:162 overwritten in module StatsFuns at irrationals.jl:162.\n",
      "  ** incremental compilation may be fatally broken for this module **\n",
      "\n",
      "WARNING: Method definition Type##kw(Any, Type{Base.MPFR.BigFloat}, Base.Irrational{:invsqrt2}) in module IrrationalConstants at irrationals.jl:162 overwritten in module StatsFuns at irrationals.jl:162.\n",
      "  ** incremental compilation may be fatally broken for this module **\n",
      "\n",
      "WARNING: Method definition Type##kw(Any, Type{Base.MPFR.BigFloat}, Base.Irrational{:invsqrt2π}) in module IrrationalConstants at irrationals.jl:162 overwritten in module StatsFuns at irrationals.jl:162.\n",
      "  ** incremental compilation may be fatally broken for this module **\n",
      "\n",
      "WARNING: Method definition Type##kw(Any, Type{Base.MPFR.BigFloat}, Base.Irrational{:loghalf}) in module IrrationalConstants at irrationals.jl:162 overwritten in module StatsFuns at irrationals.jl:162.\n",
      "  ** incremental compilation may be fatally broken for this module **\n",
      "\n",
      "WARNING: Method definition Type##kw(Any, Type{Base.MPFR.BigFloat}, Base.Irrational{:logtwo}) in module IrrationalConstants at irrationals.jl:155 overwritten in module StatsFuns at irrationals.jl:162.\n",
      "  ** incremental compilation may be fatally broken for this module **\n",
      "\n",
      "WARNING: Method definition Type##kw(Any, Type{Base.MPFR.BigFloat}, Base.Irrational{:logπ}) in module IrrationalConstants at irrationals.jl:162 overwritten in module StatsFuns at irrationals.jl:162.\n",
      "  ** incremental compilation may be fatally broken for this module **\n",
      "\n",
      "WARNING: Method definition Type##kw(Any, Type{Base.MPFR.BigFloat}, Base.Irrational{:log2π}) in module IrrationalConstants at irrationals.jl:162 overwritten in module StatsFuns at irrationals.jl:162.\n",
      "  ** incremental compilation may be fatally broken for this module **\n",
      "\n",
      "WARNING: Method definition Type##kw(Any, Type{Base.MPFR.BigFloat}, Base.Irrational{:log4π}) in module IrrationalConstants at irrationals.jl:162 overwritten in module StatsFuns at irrationals.jl:162.\n",
      "  ** incremental compilation may be fatally broken for this module **\n",
      "\n",
      "WARNING: Method definition (::Type{Float32})(Base.Irrational{:twoπ}) in module IrrationalConstants at irrationals.jl:171 overwritten in module StatsFuns at irrationals.jl:171.\n",
      "  ** incremental compilation may be fatally broken for this module **\n",
      "\n",
      "WARNING: Method definition (::Type{Float32})(Base.Irrational{:fourπ}) in module IrrationalConstants at irrationals.jl:171 overwritten in module StatsFuns at irrationals.jl:171.\n",
      "  ** incremental compilation may be fatally broken for this module **\n",
      "\n",
      "WARNING: Method definition (::Type{Float32})(Base.Irrational{:halfπ}) in module IrrationalConstants at irrationals.jl:171 overwritten in module StatsFuns at irrationals.jl:171.\n",
      "  ** incremental compilation may be fatally broken for this module **\n",
      "\n",
      "WARNING: Method definition (::Type{Float32})(Base.Irrational{:quartπ}) in module IrrationalConstants at irrationals.jl:171 overwritten in module StatsFuns at irrationals.jl:171.\n",
      "  ** incremental compilation may be fatally broken for this module **\n",
      "\n",
      "WARNING: Method definition (::Type{Float32})(Base.Irrational{:invπ}) in module IrrationalConstants at irrationals.jl:171 overwritten in module StatsFuns at irrationals.jl:171.\n",
      "  ** incremental compilation may be fatally broken for this module **\n",
      "\n",
      "WARNING: Method definition (::Type{Float32})(Base.Irrational{:twoinvπ}) in module IrrationalConstants at irrationals.jl:171 overwritten in module StatsFuns at irrationals.jl:171.\n",
      "  ** incremental compilation may be fatally broken for this module **\n",
      "\n",
      "WARNING: Method definition (::Type{Float32})(Base.Irrational{:fourinvπ}) in module IrrationalConstants at irrationals.jl:171 overwritten in module StatsFuns at irrationals.jl:171.\n",
      "  ** incremental compilation may be fatally broken for this module **\n",
      "\n",
      "WARNING: Method definition (::Type{Float32})(Base.Irrational{:inv2π}) in module IrrationalConstants at irrationals.jl:171 overwritten in module StatsFuns at irrationals.jl:171.\n",
      "  ** incremental compilation may be fatally broken for this module **\n",
      "\n",
      "WARNING: Method definition (::Type{Float32})(Base.Irrational{:inv4π}) in module IrrationalConstants at irrationals.jl:171 overwritten in module StatsFuns at irrationals.jl:171.\n",
      "  ** incremental compilation may be fatally broken for this module **\n",
      "\n",
      "WARNING: Method definition (::Type{Float32})(Base.Irrational{:sqrt2}) in module IrrationalConstants at irrationals.jl:171 overwritten in module StatsFuns at irrationals.jl:171.\n",
      "  ** incremental compilation may be fatally broken for this module **\n",
      "\n",
      "WARNING: Method definition (::Type{Float32})(Base.Irrational{:sqrt3}) in module IrrationalConstants at irrationals.jl:171 overwritten in module StatsFuns at irrationals.jl:171.\n",
      "  ** incremental compilation may be fatally broken for this module **\n",
      "\n",
      "WARNING: Method definition (::Type{Float32})(Base.Irrational{:sqrtπ}) in module IrrationalConstants at irrationals.jl:171 overwritten in module StatsFuns at irrationals.jl:171.\n",
      "  ** incremental compilation may be fatally broken for this module **\n",
      "\n",
      "WARNING: Method definition (::Type{Float32})(Base.Irrational{:sqrt2π}) in module IrrationalConstants at irrationals.jl:171 overwritten in module StatsFuns at irrationals.jl:171.\n",
      "  ** incremental compilation may be fatally broken for this module **\n",
      "\n",
      "WARNING: Method definition (::Type{Float32})(Base.Irrational{:sqrt4π}) in module IrrationalConstants at irrationals.jl:171 overwritten in module StatsFuns at irrationals.jl:171.\n",
      "  ** incremental compilation may be fatally broken for this module **\n",
      "\n",
      "WARNING: Method definition (::Type{Float32})(Base.Irrational{:sqrthalfπ}) in module IrrationalConstants at irrationals.jl:171 overwritten in module StatsFuns at irrationals.jl:171.\n",
      "  ** incremental compilation may be fatally broken for this module **\n",
      "\n",
      "WARNING: Method definition (::Type{Float32})(Base.Irrational{:invsqrt2}) in module IrrationalConstants at irrationals.jl:171 overwritten in module StatsFuns at irrationals.jl:171.\n",
      "  ** incremental compilation may be fatally broken for this module **\n",
      "\n",
      "WARNING: Method definition (::Type{Float32})(Base.Irrational{:invsqrt2π}) in module IrrationalConstants at irrationals.jl:171 overwritten in module StatsFuns at irrationals.jl:171.\n",
      "  ** incremental compilation may be fatally broken for this module **\n",
      "\n",
      "WARNING: Method definition (::Type{Float32})(Base.Irrational{:loghalf}) in module IrrationalConstants at irrationals.jl:171 overwritten in module StatsFuns at irrationals.jl:171.\n",
      "  ** incremental compilation may be fatally broken for this module **\n",
      "\n",
      "WARNING: Method definition (::Type{Float32})(Base.Irrational{:logtwo}) in module IrrationalConstants at irrationals.jl:171 overwritten in module StatsFuns at irrationals.jl:171.\n",
      "  ** incremental compilation may be fatally broken for this module **\n",
      "\n",
      "WARNING: Method definition (::Type{Float32})(Base.Irrational{:logπ}) in module IrrationalConstants at irrationals.jl:171 overwritten in module StatsFuns at irrationals.jl:171.\n",
      "  ** incremental compilation may be fatally broken for this module **\n",
      "\n",
      "WARNING: Method definition (::Type{Float32})(Base.Irrational{:log2π}) in module IrrationalConstants at irrationals.jl:171 overwritten in module StatsFuns at irrationals.jl:171.\n",
      "  ** incremental compilation may be fatally broken for this module **\n",
      "\n",
      "WARNING: Method definition (::Type{Float32})(Base.Irrational{:log4π}) in module IrrationalConstants at irrationals.jl:171 overwritten in module StatsFuns at irrationals.jl:171.\n",
      "  ** incremental compilation may be fatally broken for this module **\n",
      "\n",
      "WARNING: Method definition (::Type{Float64})(Base.Irrational{:twoπ}) in module IrrationalConstants at irrationals.jl:170 overwritten in module StatsFuns at irrationals.jl:170.\n",
      "  ** incremental compilation may be fatally broken for this module **\n",
      "\n",
      "WARNING: Method definition (::Type{Float64})(Base.Irrational{:fourπ}) in module IrrationalConstants at irrationals.jl:170 overwritten in module StatsFuns at irrationals.jl:170.\n",
      "  ** incremental compilation may be fatally broken for this module **\n",
      "\n",
      "WARNING: Method definition (::Type{Float64})(Base.Irrational{:halfπ}) in module IrrationalConstants at irrationals.jl:170 overwritten in module StatsFuns at irrationals.jl:170.\n",
      "  ** incremental compilation may be fatally broken for this module **\n",
      "\n",
      "WARNING: Method definition (::Type{Float64})(Base.Irrational{:quartπ}) in module IrrationalConstants at irrationals.jl:170 overwritten in module StatsFuns at irrationals.jl:170.\n",
      "  ** incremental compilation may be fatally broken for this module **\n",
      "\n",
      "WARNING: Method definition (::Type{Float64})(Base.Irrational{:invπ}) in module IrrationalConstants at irrationals.jl:170 overwritten in module StatsFuns at irrationals.jl:170.\n",
      "  ** incremental compilation may be fatally broken for this module **\n",
      "\n",
      "WARNING: Method definition (::Type{Float64})(Base.Irrational{:twoinvπ}) in module IrrationalConstants at irrationals.jl:170 overwritten in module StatsFuns at irrationals.jl:170.\n",
      "  ** incremental compilation may be fatally broken for this module **\n",
      "\n",
      "WARNING: Method definition (::Type{Float64})(Base.Irrational{:fourinvπ}) in module IrrationalConstants at irrationals.jl:170 overwritten in module StatsFuns at irrationals.jl:170.\n",
      "  ** incremental compilation may be fatally broken for this module **\n",
      "\n",
      "WARNING: Method definition (::Type{Float64})(Base.Irrational{:inv2π}) in module IrrationalConstants at irrationals.jl:170 overwritten in module StatsFuns at irrationals.jl:170.\n",
      "  ** incremental compilation may be fatally broken for this module **\n",
      "\n",
      "WARNING: Method definition (::Type{Float64})(Base.Irrational{:inv4π}) in module IrrationalConstants at irrationals.jl:170 overwritten in module StatsFuns at irrationals.jl:170.\n",
      "  ** incremental compilation may be fatally broken for this module **\n",
      "\n",
      "WARNING: Method definition (::Type{Float64})(Base.Irrational{:sqrt2}) in module IrrationalConstants at irrationals.jl:170 overwritten in module StatsFuns at irrationals.jl:170.\n",
      "  ** incremental compilation may be fatally broken for this module **\n",
      "\n",
      "WARNING: Method definition (::Type{Float64})(Base.Irrational{:sqrt3}) in module IrrationalConstants at irrationals.jl:170 overwritten in module StatsFuns at irrationals.jl:170.\n",
      "  ** incremental compilation may be fatally broken for this module **\n",
      "\n",
      "WARNING: Method definition (::Type{Float64})(Base.Irrational{:sqrtπ}) in module IrrationalConstants at irrationals.jl:170 overwritten in module StatsFuns at irrationals.jl:170.\n",
      "  ** incremental compilation may be fatally broken for this module **\n",
      "\n",
      "WARNING: Method definition (::Type{Float64})(Base.Irrational{:sqrt2π}) in module IrrationalConstants at irrationals.jl:170 overwritten in module StatsFuns at irrationals.jl:170.\n",
      "  ** incremental compilation may be fatally broken for this module **\n",
      "\n",
      "WARNING: Method definition (::Type{Float64})(Base.Irrational{:sqrt4π}) in module IrrationalConstants at irrationals.jl:170 overwritten in module StatsFuns at irrationals.jl:170.\n",
      "  ** incremental compilation may be fatally broken for this module **\n",
      "\n",
      "WARNING: Method definition (::Type{Float64})(Base.Irrational{:sqrthalfπ}) in module IrrationalConstants at irrationals.jl:170 overwritten in module StatsFuns at irrationals.jl:170.\n",
      "  ** incremental compilation may be fatally broken for this module **\n",
      "\n",
      "WARNING: Method definition (::Type{Float64})(Base.Irrational{:invsqrt2}) in module IrrationalConstants at irrationals.jl:170 overwritten in module StatsFuns at irrationals.jl:170.\n",
      "  ** incremental compilation may be fatally broken for this module **\n",
      "\n",
      "WARNING: Method definition (::Type{Float64})(Base.Irrational{:invsqrt2π}) in module IrrationalConstants at irrationals.jl:170 overwritten in module StatsFuns at irrationals.jl:170.\n",
      "  ** incremental compilation may be fatally broken for this module **\n",
      "\n",
      "WARNING: Method definition (::Type{Float64})(Base.Irrational{:loghalf}) in module IrrationalConstants at irrationals.jl:170 overwritten in module StatsFuns at irrationals.jl:170.\n",
      "  ** incremental compilation may be fatally broken for this module **\n",
      "\n",
      "WARNING: Method definition (::Type{Float64})(Base.Irrational{:logtwo}) in module IrrationalConstants at irrationals.jl:170 overwritten in module StatsFuns at irrationals.jl:170.\n",
      "  ** incremental compilation may be fatally broken for this module **\n",
      "\n",
      "WARNING: Method definition (::Type{Float64})(Base.Irrational{:logπ}) in module IrrationalConstants at irrationals.jl:170 overwritten in module StatsFuns at irrationals.jl:170.\n",
      "  ** incremental compilation may be fatally broken for this module **\n",
      "\n",
      "WARNING: Method definition (::Type{Float64})(Base.Irrational{:log2π}) in module IrrationalConstants at irrationals.jl:170 overwritten in module StatsFuns at irrationals.jl:170.\n",
      "  ** incremental compilation may be fatally broken for this module **\n",
      "\n",
      "WARNING: Method definition (::Type{Float64})(Base.Irrational{:log4π}) in module IrrationalConstants at irrationals.jl:170 overwritten in module StatsFuns at irrationals.jl:170.\n",
      "  ** incremental compilation may be fatally broken for this module **\n",
      "\n",
      "WARNING: Method definition (::Type{Base.MPFR.BigFloat})(Base.Irrational{:twoπ}) in module IrrationalConstants at irrationals.jl:162 overwritten in module StatsFuns at irrationals.jl:162.\n",
      "  ** incremental compilation may be fatally broken for this module **\n",
      "\n",
      "WARNING: Method definition (::Type{Base.MPFR.BigFloat})(Base.Irrational{:fourπ}) in module IrrationalConstants at irrationals.jl:162 overwritten in module StatsFuns at irrationals.jl:162.\n",
      "  ** incremental compilation may be fatally broken for this module **\n",
      "\n",
      "WARNING: Method definition (::Type{Base.MPFR.BigFloat})(Base.Irrational{:halfπ}) in module IrrationalConstants at irrationals.jl:162 overwritten in module StatsFuns at irrationals.jl:162.\n",
      "  ** incremental compilation may be fatally broken for this module **\n",
      "\n",
      "WARNING: Method definition (::Type{Base.MPFR.BigFloat})(Base.Irrational{:quartπ}) in module IrrationalConstants at irrationals.jl:162 overwritten in module StatsFuns at irrationals.jl:162.\n",
      "  ** incremental compilation may be fatally broken for this module **\n",
      "\n",
      "WARNING: Method definition (::Type{Base.MPFR.BigFloat})(Base.Irrational{:invπ}) in module IrrationalConstants at irrationals.jl:162 overwritten in module StatsFuns at irrationals.jl:162.\n",
      "  ** incremental compilation may be fatally broken for this module **\n",
      "\n",
      "WARNING: Method definition (::Type{Base.MPFR.BigFloat})(Base.Irrational{:twoinvπ}) in module IrrationalConstants at irrationals.jl:162 overwritten in module StatsFuns at irrationals.jl:162.\n",
      "  ** incremental compilation may be fatally broken for this module **\n",
      "\n",
      "WARNING: Method definition (::Type{Base.MPFR.BigFloat})(Base.Irrational{:fourinvπ}) in module IrrationalConstants at irrationals.jl:162 overwritten in module StatsFuns at irrationals.jl:162.\n",
      "  ** incremental compilation may be fatally broken for this module **\n",
      "\n",
      "WARNING: Method definition (::Type{Base.MPFR.BigFloat})(Base.Irrational{:inv2π}) in module IrrationalConstants at irrationals.jl:162 overwritten in module StatsFuns at irrationals.jl:162.\n",
      "  ** incremental compilation may be fatally broken for this module **\n",
      "\n",
      "WARNING: Method definition (::Type{Base.MPFR.BigFloat})(Base.Irrational{:inv4π}) in module IrrationalConstants at irrationals.jl:162 overwritten in module StatsFuns at irrationals.jl:162.\n",
      "  ** incremental compilation may be fatally broken for this module **\n",
      "\n",
      "WARNING: Method definition (::Type{Base.MPFR.BigFloat})(Base.Irrational{:sqrt2}) in module IrrationalConstants at irrationals.jl:162 overwritten in module StatsFuns at irrationals.jl:162.\n",
      "  ** incremental compilation may be fatally broken for this module **\n",
      "\n",
      "WARNING: Method definition (::Type{Base.MPFR.BigFloat})(Base.Irrational{:sqrt3}) in module IrrationalConstants at irrationals.jl:162 overwritten in module StatsFuns at irrationals.jl:162.\n",
      "  ** incremental compilation may be fatally broken for this module **\n",
      "\n",
      "WARNING: Method definition (::Type{Base.MPFR.BigFloat})(Base.Irrational{:sqrtπ}) in module IrrationalConstants at irrationals.jl:162 overwritten in module StatsFuns at irrationals.jl:162.\n",
      "  ** incremental compilation may be fatally broken for this module **\n",
      "\n",
      "WARNING: Method definition (::Type{Base.MPFR.BigFloat})(Base.Irrational{:sqrt2π}) in module IrrationalConstants at irrationals.jl:162 overwritten in module StatsFuns at irrationals.jl:162.\n",
      "  ** incremental compilation may be fatally broken for this module **\n",
      "\n",
      "WARNING: Method definition (::Type{Base.MPFR.BigFloat})(Base.Irrational{:sqrt4π}) in module IrrationalConstants at irrationals.jl:162 overwritten in module StatsFuns at irrationals.jl:162.\n",
      "  ** incremental compilation may be fatally broken for this module **\n",
      "\n",
      "WARNING: Method definition (::Type{Base.MPFR.BigFloat})(Base.Irrational{:sqrthalfπ}) in module IrrationalConstants at irrationals.jl:162 overwritten in module StatsFuns at irrationals.jl:162.\n",
      "  ** incremental compilation may be fatally broken for this module **\n",
      "\n",
      "WARNING: Method definition (::Type{Base.MPFR.BigFloat})(Base.Irrational{:invsqrt2}) in module IrrationalConstants at irrationals.jl:162 overwritten in module StatsFuns at irrationals.jl:162.\n",
      "  ** incremental compilation may be fatally broken for this module **\n",
      "\n",
      "WARNING: Method definition (::Type{Base.MPFR.BigFloat})(Base.Irrational{:invsqrt2π}) in module IrrationalConstants at irrationals.jl:162 overwritten in module StatsFuns at irrationals.jl:162.\n",
      "  ** incremental compilation may be fatally broken for this module **\n",
      "\n",
      "WARNING: Method definition (::Type{Base.MPFR.BigFloat})(Base.Irrational{:loghalf}) in module IrrationalConstants at irrationals.jl:162 overwritten in module StatsFuns at irrationals.jl:162.\n",
      "  ** incremental compilation may be fatally broken for this module **\n",
      "\n",
      "WARNING: Method definition (::Type{Base.MPFR.BigFloat})(Base.Irrational{:logtwo}) in module IrrationalConstants at irrationals.jl:155 overwritten in module StatsFuns at irrationals.jl:162.\n",
      "  ** incremental compilation may be fatally broken for this module **\n",
      "\n",
      "WARNING: Method definition (::Type{Base.MPFR.BigFloat})(Base.Irrational{:logπ}) in module IrrationalConstants at irrationals.jl:162 overwritten in module StatsFuns at irrationals.jl:162.\n",
      "  ** incremental compilation may be fatally broken for this module **\n",
      "\n",
      "WARNING: Method definition (::Type{Base.MPFR.BigFloat})(Base.Irrational{:log2π}) in module IrrationalConstants at irrationals.jl:162 overwritten in module StatsFuns at irrationals.jl:162.\n",
      "  ** incremental compilation may be fatally broken for this module **\n",
      "\n",
      "WARNING: Method definition (::Type{Base.MPFR.BigFloat})(Base.Irrational{:log4π}) in module IrrationalConstants at irrationals.jl:162 overwritten in module StatsFuns at irrationals.jl:162.\n",
      "  ** incremental compilation may be fatally broken for this module **\n",
      "\n",
      "WARNING: Method definition Type##kw(Any, Type{Base.MPFR.BigFloat}, Base.Irrational{:twoπ}) in module IrrationalConstants at irrationals.jl:162 overwritten in module StatsFuns at irrationals.jl:162.\n",
      "  ** incremental compilation may be fatally broken for this module **\n",
      "\n",
      "WARNING: Method definition Type##kw(Any, Type{Base.MPFR.BigFloat}, Base.Irrational{:fourπ}) in module IrrationalConstants at irrationals.jl:162 overwritten in module StatsFuns at irrationals.jl:162.\n",
      "  ** incremental compilation may be fatally broken for this module **\n",
      "\n",
      "WARNING: Method definition Type##kw(Any, Type{Base.MPFR.BigFloat}, Base.Irrational{:halfπ}) in module IrrationalConstants at irrationals.jl:162 overwritten in module StatsFuns at irrationals.jl:162.\n",
      "  ** incremental compilation may be fatally broken for this module **\n",
      "\n",
      "WARNING: Method definition Type##kw(Any, Type{Base.MPFR.BigFloat}, Base.Irrational{:quartπ}) in module IrrationalConstants at irrationals.jl:162 overwritten in module StatsFuns at irrationals.jl:162.\n",
      "  ** incremental compilation may be fatally broken for this module **\n",
      "\n",
      "WARNING: Method definition Type##kw(Any, Type{Base.MPFR.BigFloat}, Base.Irrational{:invπ}) in module IrrationalConstants at irrationals.jl:162 overwritten in module StatsFuns at irrationals.jl:162.\n",
      "  ** incremental compilation may be fatally broken for this module **\n",
      "\n",
      "WARNING: Method definition Type##kw(Any, Type{Base.MPFR.BigFloat}, Base.Irrational{:twoinvπ}) in module IrrationalConstants at irrationals.jl:162 overwritten in module StatsFuns at irrationals.jl:162.\n",
      "  ** incremental compilation may be fatally broken for this module **\n",
      "\n",
      "WARNING: Method definition Type##kw(Any, Type{Base.MPFR.BigFloat}, Base.Irrational{:fourinvπ}) in module IrrationalConstants at irrationals.jl:162 overwritten in module StatsFuns at irrationals.jl:162.\n",
      "  ** incremental compilation may be fatally broken for this module **\n",
      "\n",
      "WARNING: Method definition Type##kw(Any, Type{Base.MPFR.BigFloat}, Base.Irrational{:inv2π}) in module IrrationalConstants at irrationals.jl:162 overwritten in module StatsFuns at irrationals.jl:162.\n",
      "  ** incremental compilation may be fatally broken for this module **\n",
      "\n",
      "WARNING: Method definition Type##kw(Any, Type{Base.MPFR.BigFloat}, Base.Irrational{:inv4π}) in module IrrationalConstants at irrationals.jl:162 overwritten in module StatsFuns at irrationals.jl:162.\n",
      "  ** incremental compilation may be fatally broken for this module **\n",
      "\n",
      "WARNING: Method definition Type##kw(Any, Type{Base.MPFR.BigFloat}, Base.Irrational{:sqrt2}) in module IrrationalConstants at irrationals.jl:162 overwritten in module StatsFuns at irrationals.jl:162.\n",
      "  ** incremental compilation may be fatally broken for this module **\n",
      "\n",
      "WARNING: Method definition Type##kw(Any, Type{Base.MPFR.BigFloat}, Base.Irrational{:sqrt3}) in module IrrationalConstants at irrationals.jl:162 overwritten in module StatsFuns at irrationals.jl:162.\n",
      "  ** incremental compilation may be fatally broken for this module **\n",
      "\n",
      "WARNING: Method definition Type##kw(Any, Type{Base.MPFR.BigFloat}, Base.Irrational{:sqrtπ}) in module IrrationalConstants at irrationals.jl:162 overwritten in module StatsFuns at irrationals.jl:162.\n",
      "  ** incremental compilation may be fatally broken for this module **\n",
      "\n",
      "WARNING: Method definition Type##kw(Any, Type{Base.MPFR.BigFloat}, Base.Irrational{:sqrt2π}) in module IrrationalConstants at irrationals.jl:162 overwritten in module StatsFuns at irrationals.jl:162.\n",
      "  ** incremental compilation may be fatally broken for this module **\n",
      "\n",
      "WARNING: Method definition Type##kw(Any, Type{Base.MPFR.BigFloat}, Base.Irrational{:sqrt4π}) in module IrrationalConstants at irrationals.jl:162 overwritten in module StatsFuns at irrationals.jl:162.\n",
      "  ** incremental compilation may be fatally broken for this module **\n",
      "\n",
      "WARNING: Method definition Type##kw(Any, Type{Base.MPFR.BigFloat}, Base.Irrational{:sqrthalfπ}) in module IrrationalConstants at irrationals.jl:162 overwritten in module StatsFuns at irrationals.jl:162.\n",
      "  ** incremental compilation may be fatally broken for this module **\n",
      "\n",
      "WARNING: Method definition Type##kw(Any, Type{Base.MPFR.BigFloat}, Base.Irrational{:invsqrt2}) in module IrrationalConstants at irrationals.jl:162 overwritten in module StatsFuns at irrationals.jl:162.\n",
      "  ** incremental compilation may be fatally broken for this module **\n",
      "\n",
      "WARNING: Method definition Type##kw(Any, Type{Base.MPFR.BigFloat}, Base.Irrational{:invsqrt2π}) in module IrrationalConstants at irrationals.jl:162 overwritten in module StatsFuns at irrationals.jl:162.\n",
      "  ** incremental compilation may be fatally broken for this module **\n",
      "\n",
      "WARNING: Method definition Type##kw(Any, Type{Base.MPFR.BigFloat}, Base.Irrational{:loghalf}) in module IrrationalConstants at irrationals.jl:162 overwritten in module StatsFuns at irrationals.jl:162.\n",
      "  ** incremental compilation may be fatally broken for this module **\n",
      "\n",
      "WARNING: Method definition Type##kw(Any, Type{Base.MPFR.BigFloat}, Base.Irrational{:logtwo}) in module IrrationalConstants at irrationals.jl:155 overwritten in module StatsFuns at irrationals.jl:162.\n",
      "  ** incremental compilation may be fatally broken for this module **\n",
      "\n",
      "WARNING: Method definition Type##kw(Any, Type{Base.MPFR.BigFloat}, Base.Irrational{:logπ}) in module IrrationalConstants at irrationals.jl:162 overwritten in module StatsFuns at irrationals.jl:162.\n",
      "  ** incremental compilation may be fatally broken for this module **\n",
      "\n",
      "WARNING: Method definition Type##kw(Any, Type{Base.MPFR.BigFloat}, Base.Irrational{:log2π}) in module IrrationalConstants at irrationals.jl:162 overwritten in module StatsFuns at irrationals.jl:162.\n",
      "  ** incremental compilation may be fatally broken for this module **\n",
      "\n",
      "WARNING: Method definition Type##kw(Any, Type{Base.MPFR.BigFloat}, Base.Irrational{:log4π}) in module IrrationalConstants at irrationals.jl:162 overwritten in module StatsFuns at irrationals.jl:162.\n",
      "  ** incremental compilation may be fatally broken for this module **\n",
      "\n",
      "WARNING: Method definition (::Type{Float32})(Base.Irrational{:twoπ}) in module IrrationalConstants at irrationals.jl:171 overwritten in module StatsFuns at irrationals.jl:171.\n",
      "  ** incremental compilation may be fatally broken for this module **\n",
      "\n",
      "WARNING: Method definition (::Type{Float32})(Base.Irrational{:fourπ}) in module IrrationalConstants at irrationals.jl:171 overwritten in module StatsFuns at irrationals.jl:171.\n",
      "  ** incremental compilation may be fatally broken for this module **\n",
      "\n",
      "WARNING: Method definition (::Type{Float32})(Base.Irrational{:halfπ}) in module IrrationalConstants at irrationals.jl:171 overwritten in module StatsFuns at irrationals.jl:171.\n",
      "  ** incremental compilation may be fatally broken for this module **\n",
      "\n",
      "WARNING: Method definition (::Type{Float32})(Base.Irrational{:quartπ}) in module IrrationalConstants at irrationals.jl:171 overwritten in module StatsFuns at irrationals.jl:171.\n",
      "  ** incremental compilation may be fatally broken for this module **\n",
      "\n",
      "WARNING: Method definition (::Type{Float32})(Base.Irrational{:invπ}) in module IrrationalConstants at irrationals.jl:171 overwritten in module StatsFuns at irrationals.jl:171.\n",
      "  ** incremental compilation may be fatally broken for this module **\n",
      "\n",
      "WARNING: Method definition (::Type{Float32})(Base.Irrational{:twoinvπ}) in module IrrationalConstants at irrationals.jl:171 overwritten in module StatsFuns at irrationals.jl:171.\n",
      "  ** incremental compilation may be fatally broken for this module **\n",
      "\n",
      "WARNING: Method definition (::Type{Float32})(Base.Irrational{:fourinvπ}) in module IrrationalConstants at irrationals.jl:171 overwritten in module StatsFuns at irrationals.jl:171.\n",
      "  ** incremental compilation may be fatally broken for this module **\n",
      "\n",
      "WARNING: Method definition (::Type{Float32})(Base.Irrational{:inv2π}) in module IrrationalConstants at irrationals.jl:171 overwritten in module StatsFuns at irrationals.jl:171.\n",
      "  ** incremental compilation may be fatally broken for this module **\n",
      "\n",
      "WARNING: Method definition (::Type{Float32})(Base.Irrational{:inv4π}) in module IrrationalConstants at irrationals.jl:171 overwritten in module StatsFuns at irrationals.jl:171.\n",
      "  ** incremental compilation may be fatally broken for this module **\n",
      "\n",
      "WARNING: Method definition (::Type{Float32})(Base.Irrational{:sqrt2}) in module IrrationalConstants at irrationals.jl:171 overwritten in module StatsFuns at irrationals.jl:171.\n",
      "  ** incremental compilation may be fatally broken for this module **\n",
      "\n",
      "WARNING: Method definition (::Type{Float32})(Base.Irrational{:sqrt3}) in module IrrationalConstants at irrationals.jl:171 overwritten in module StatsFuns at irrationals.jl:171.\n",
      "  ** incremental compilation may be fatally broken for this module **\n",
      "\n",
      "WARNING: Method definition (::Type{Float32})(Base.Irrational{:sqrtπ}) in module IrrationalConstants at irrationals.jl:171 overwritten in module StatsFuns at irrationals.jl:171.\n",
      "  ** incremental compilation may be fatally broken for this module **\n",
      "\n",
      "WARNING: Method definition (::Type{Float32})(Base.Irrational{:sqrt2π}) in module IrrationalConstants at irrationals.jl:171 overwritten in module StatsFuns at irrationals.jl:171.\n",
      "  ** incremental compilation may be fatally broken for this module **\n",
      "\n",
      "WARNING: Method definition (::Type{Float32})(Base.Irrational{:sqrt4π}) in module IrrationalConstants at irrationals.jl:171 overwritten in module StatsFuns at irrationals.jl:171.\n",
      "  ** incremental compilation may be fatally broken for this module **\n",
      "\n",
      "WARNING: Method definition (::Type{Float32})(Base.Irrational{:sqrthalfπ}) in module IrrationalConstants at irrationals.jl:171 overwritten in module StatsFuns at irrationals.jl:171.\n",
      "  ** incremental compilation may be fatally broken for this module **\n",
      "\n",
      "WARNING: Method definition (::Type{Float32})(Base.Irrational{:invsqrt2}) in module IrrationalConstants at irrationals.jl:171 overwritten in module StatsFuns at irrationals.jl:171.\n",
      "  ** incremental compilation may be fatally broken for this module **\n",
      "\n",
      "WARNING: Method definition (::Type{Float32})(Base.Irrational{:invsqrt2π}) in module IrrationalConstants at irrationals.jl:171 overwritten in module StatsFuns at irrationals.jl:171.\n",
      "  ** incremental compilation may be fatally broken for this module **\n",
      "\n",
      "WARNING: Method definition (::Type{Float32})(Base.Irrational{:loghalf}) in module IrrationalConstants at irrationals.jl:171 overwritten in module StatsFuns at irrationals.jl:171.\n",
      "  ** incremental compilation may be fatally broken for this module **\n",
      "\n",
      "WARNING: Method definition (::Type{Float32})(Base.Irrational{:logtwo}) in module IrrationalConstants at irrationals.jl:171 overwritten in module StatsFuns at irrationals.jl:171.\n",
      "  ** incremental compilation may be fatally broken for this module **\n",
      "\n",
      "WARNING: Method definition (::Type{Float32})(Base.Irrational{:logπ}) in module IrrationalConstants at irrationals.jl:171 overwritten in module StatsFuns at irrationals.jl:171.\n",
      "  ** incremental compilation may be fatally broken for this module **\n",
      "\n",
      "WARNING: Method definition (::Type{Float32})(Base.Irrational{:log2π}) in module IrrationalConstants at irrationals.jl:171 overwritten in module StatsFuns at irrationals.jl:171.\n",
      "  ** incremental compilation may be fatally broken for this module **\n",
      "\n",
      "WARNING: Method definition (::Type{Float32})(Base.Irrational{:log4π}) in module IrrationalConstants at irrationals.jl:171 overwritten in module StatsFuns at irrationals.jl:171.\n",
      "  ** incremental compilation may be fatally broken for this module **\n",
      "\n",
      "WARNING: Method definition (::Type{Float64})(Base.Irrational{:twoπ}) in module IrrationalConstants at irrationals.jl:170 overwritten in module StatsFuns at irrationals.jl:170.\n",
      "  ** incremental compilation may be fatally broken for this module **\n",
      "\n",
      "WARNING: Method definition (::Type{Float64})(Base.Irrational{:fourπ}) in module IrrationalConstants at irrationals.jl:170 overwritten in module StatsFuns at irrationals.jl:170.\n",
      "  ** incremental compilation may be fatally broken for this module **\n",
      "\n",
      "WARNING: Method definition (::Type{Float64})(Base.Irrational{:halfπ}) in module IrrationalConstants at irrationals.jl:170 overwritten in module StatsFuns at irrationals.jl:170.\n",
      "  ** incremental compilation may be fatally broken for this module **\n",
      "\n",
      "WARNING: Method definition (::Type{Float64})(Base.Irrational{:quartπ}) in module IrrationalConstants at irrationals.jl:170 overwritten in module StatsFuns at irrationals.jl:170.\n",
      "  ** incremental compilation may be fatally broken for this module **\n",
      "\n",
      "WARNING: Method definition (::Type{Float64})(Base.Irrational{:invπ}) in module IrrationalConstants at irrationals.jl:170 overwritten in module StatsFuns at irrationals.jl:170.\n",
      "  ** incremental compilation may be fatally broken for this module **\n",
      "\n",
      "WARNING: Method definition (::Type{Float64})(Base.Irrational{:twoinvπ}) in module IrrationalConstants at irrationals.jl:170 overwritten in module StatsFuns at irrationals.jl:170.\n",
      "  ** incremental compilation may be fatally broken for this module **\n",
      "\n",
      "WARNING: Method definition (::Type{Float64})(Base.Irrational{:fourinvπ}) in module IrrationalConstants at irrationals.jl:170 overwritten in module StatsFuns at irrationals.jl:170.\n",
      "  ** incremental compilation may be fatally broken for this module **\n",
      "\n",
      "WARNING: Method definition (::Type{Float64})(Base.Irrational{:inv2π}) in module IrrationalConstants at irrationals.jl:170 overwritten in module StatsFuns at irrationals.jl:170.\n",
      "  ** incremental compilation may be fatally broken for this module **\n",
      "\n",
      "WARNING: Method definition (::Type{Float64})(Base.Irrational{:inv4π}) in module IrrationalConstants at irrationals.jl:170 overwritten in module StatsFuns at irrationals.jl:170.\n",
      "  ** incremental compilation may be fatally broken for this module **\n",
      "\n",
      "WARNING: Method definition (::Type{Float64})(Base.Irrational{:sqrt2}) in module IrrationalConstants at irrationals.jl:170 overwritten in module StatsFuns at irrationals.jl:170.\n",
      "  ** incremental compilation may be fatally broken for this module **\n",
      "\n",
      "WARNING: Method definition (::Type{Float64})(Base.Irrational{:sqrt3}) in module IrrationalConstants at irrationals.jl:170 overwritten in module StatsFuns at irrationals.jl:170.\n",
      "  ** incremental compilation may be fatally broken for this module **\n",
      "\n",
      "WARNING: Method definition (::Type{Float64})(Base.Irrational{:sqrtπ}) in module IrrationalConstants at irrationals.jl:170 overwritten in module StatsFuns at irrationals.jl:170.\n",
      "  ** incremental compilation may be fatally broken for this module **\n",
      "\n",
      "WARNING: Method definition (::Type{Float64})(Base.Irrational{:sqrt2π}) in module IrrationalConstants at irrationals.jl:170 overwritten in module StatsFuns at irrationals.jl:170.\n",
      "  ** incremental compilation may be fatally broken for this module **\n",
      "\n",
      "WARNING: Method definition (::Type{Float64})(Base.Irrational{:sqrt4π}) in module IrrationalConstants at irrationals.jl:170 overwritten in module StatsFuns at irrationals.jl:170.\n",
      "  ** incremental compilation may be fatally broken for this module **\n",
      "\n",
      "WARNING: Method definition (::Type{Float64})(Base.Irrational{:sqrthalfπ}) in module IrrationalConstants at irrationals.jl:170 overwritten in module StatsFuns at irrationals.jl:170.\n",
      "  ** incremental compilation may be fatally broken for this module **\n",
      "\n",
      "WARNING: Method definition (::Type{Float64})(Base.Irrational{:invsqrt2}) in module IrrationalConstants at irrationals.jl:170 overwritten in module StatsFuns at irrationals.jl:170.\n",
      "  ** incremental compilation may be fatally broken for this module **\n",
      "\n",
      "WARNING: Method definition (::Type{Float64})(Base.Irrational{:invsqrt2π}) in module IrrationalConstants at irrationals.jl:170 overwritten in module StatsFuns at irrationals.jl:170.\n",
      "  ** incremental compilation may be fatally broken for this module **\n",
      "\n",
      "WARNING: Method definition (::Type{Float64})(Base.Irrational{:loghalf}) in module IrrationalConstants at irrationals.jl:170 overwritten in module StatsFuns at irrationals.jl:170.\n",
      "  ** incremental compilation may be fatally broken for this module **\n",
      "\n",
      "WARNING: Method definition (::Type{Float64})(Base.Irrational{:logtwo}) in module IrrationalConstants at irrationals.jl:170 overwritten in module StatsFuns at irrationals.jl:170.\n",
      "  ** incremental compilation may be fatally broken for this module **\n",
      "\n",
      "WARNING: Method definition (::Type{Float64})(Base.Irrational{:logπ}) in module IrrationalConstants at irrationals.jl:170 overwritten in module StatsFuns at irrationals.jl:170.\n",
      "  ** incremental compilation may be fatally broken for this module **\n",
      "\n",
      "WARNING: Method definition (::Type{Float64})(Base.Irrational{:log2π}) in module IrrationalConstants at irrationals.jl:170 overwritten in module StatsFuns at irrationals.jl:170.\n",
      "  ** incremental compilation may be fatally broken for this module **\n",
      "\n",
      "WARNING: Method definition (::Type{Float64})(Base.Irrational{:log4π}) in module IrrationalConstants at irrationals.jl:170 overwritten in module StatsFuns at irrationals.jl:170.\n",
      "  ** incremental compilation may be fatally broken for this module **\n",
      "\n",
      "WARNING: Method definition (::Type{Base.MPFR.BigFloat})(Base.Irrational{:twoπ}) in module IrrationalConstants at irrationals.jl:162 overwritten in module StatsFuns at irrationals.jl:162.\n",
      "  ** incremental compilation may be fatally broken for this module **\n",
      "\n",
      "WARNING: Method definition (::Type{Base.MPFR.BigFloat})(Base.Irrational{:fourπ}) in module IrrationalConstants at irrationals.jl:162 overwritten in module StatsFuns at irrationals.jl:162.\n",
      "  ** incremental compilation may be fatally broken for this module **\n",
      "\n",
      "WARNING: Method definition (::Type{Base.MPFR.BigFloat})(Base.Irrational{:halfπ}) in module IrrationalConstants at irrationals.jl:162 overwritten in module StatsFuns at irrationals.jl:162.\n",
      "  ** incremental compilation may be fatally broken for this module **\n",
      "\n",
      "WARNING: Method definition (::Type{Base.MPFR.BigFloat})(Base.Irrational{:quartπ}) in module IrrationalConstants at irrationals.jl:162 overwritten in module StatsFuns at irrationals.jl:162.\n",
      "  ** incremental compilation may be fatally broken for this module **\n",
      "\n",
      "WARNING: Method definition (::Type{Base.MPFR.BigFloat})(Base.Irrational{:invπ}) in module IrrationalConstants at irrationals.jl:162 overwritten in module StatsFuns at irrationals.jl:162.\n",
      "  ** incremental compilation may be fatally broken for this module **\n",
      "\n",
      "WARNING: Method definition (::Type{Base.MPFR.BigFloat})(Base.Irrational{:twoinvπ}) in module IrrationalConstants at irrationals.jl:162 overwritten in module StatsFuns at irrationals.jl:162.\n",
      "  ** incremental compilation may be fatally broken for this module **\n",
      "\n",
      "WARNING: Method definition (::Type{Base.MPFR.BigFloat})(Base.Irrational{:fourinvπ}) in module IrrationalConstants at irrationals.jl:162 overwritten in module StatsFuns at irrationals.jl:162.\n",
      "  ** incremental compilation may be fatally broken for this module **\n",
      "\n",
      "WARNING: Method definition (::Type{Base.MPFR.BigFloat})(Base.Irrational{:inv2π}) in module IrrationalConstants at irrationals.jl:162 overwritten in module StatsFuns at irrationals.jl:162.\n",
      "  ** incremental compilation may be fatally broken for this module **\n",
      "\n",
      "WARNING: Method definition (::Type{Base.MPFR.BigFloat})(Base.Irrational{:inv4π}) in module IrrationalConstants at irrationals.jl:162 overwritten in module StatsFuns at irrationals.jl:162.\n",
      "  ** incremental compilation may be fatally broken for this module **\n",
      "\n",
      "WARNING: Method definition (::Type{Base.MPFR.BigFloat})(Base.Irrational{:sqrt2}) in module IrrationalConstants at irrationals.jl:162 overwritten in module StatsFuns at irrationals.jl:162.\n",
      "  ** incremental compilation may be fatally broken for this module **\n",
      "\n",
      "WARNING: Method definition (::Type{Base.MPFR.BigFloat})(Base.Irrational{:sqrt3}) in module IrrationalConstants at irrationals.jl:162 overwritten in module StatsFuns at irrationals.jl:162.\n",
      "  ** incremental compilation may be fatally broken for this module **\n",
      "\n",
      "WARNING: Method definition (::Type{Base.MPFR.BigFloat})(Base.Irrational{:sqrtπ}) in module IrrationalConstants at irrationals.jl:162 overwritten in module StatsFuns at irrationals.jl:162.\n",
      "  ** incremental compilation may be fatally broken for this module **\n",
      "\n",
      "WARNING: Method definition (::Type{Base.MPFR.BigFloat})(Base.Irrational{:sqrt2π}) in module IrrationalConstants at irrationals.jl:162 overwritten in module StatsFuns at irrationals.jl:162.\n",
      "  ** incremental compilation may be fatally broken for this module **\n",
      "\n",
      "WARNING: Method definition (::Type{Base.MPFR.BigFloat})(Base.Irrational{:sqrt4π}) in module IrrationalConstants at irrationals.jl:162 overwritten in module StatsFuns at irrationals.jl:162.\n",
      "  ** incremental compilation may be fatally broken for this module **\n",
      "\n",
      "WARNING: Method definition (::Type{Base.MPFR.BigFloat})(Base.Irrational{:sqrthalfπ}) in module IrrationalConstants at irrationals.jl:162 overwritten in module StatsFuns at irrationals.jl:162.\n",
      "  ** incremental compilation may be fatally broken for this module **\n",
      "\n",
      "WARNING: Method definition (::Type{Base.MPFR.BigFloat})(Base.Irrational{:invsqrt2}) in module IrrationalConstants at irrationals.jl:162 overwritten in module StatsFuns at irrationals.jl:162.\n",
      "  ** incremental compilation may be fatally broken for this module **\n",
      "\n",
      "WARNING: Method definition (::Type{Base.MPFR.BigFloat})(Base.Irrational{:invsqrt2π}) in module IrrationalConstants at irrationals.jl:162 overwritten in module StatsFuns at irrationals.jl:162.\n",
      "  ** incremental compilation may be fatally broken for this module **\n",
      "\n",
      "WARNING: Method definition (::Type{Base.MPFR.BigFloat})(Base.Irrational{:loghalf}) in module IrrationalConstants at irrationals.jl:162 overwritten in module StatsFuns at irrationals.jl:162.\n",
      "  ** incremental compilation may be fatally broken for this module **\n",
      "\n",
      "WARNING: Method definition (::Type{Base.MPFR.BigFloat})(Base.Irrational{:logtwo}) in module IrrationalConstants at irrationals.jl:155 overwritten in module StatsFuns at irrationals.jl:162.\n",
      "  ** incremental compilation may be fatally broken for this module **\n",
      "\n",
      "WARNING: Method definition (::Type{Base.MPFR.BigFloat})(Base.Irrational{:logπ}) in module IrrationalConstants at irrationals.jl:162 overwritten in module StatsFuns at irrationals.jl:162.\n",
      "  ** incremental compilation may be fatally broken for this module **\n",
      "\n",
      "WARNING: Method definition (::Type{Base.MPFR.BigFloat})(Base.Irrational{:log2π}) in module IrrationalConstants at irrationals.jl:162 overwritten in module StatsFuns at irrationals.jl:162.\n",
      "  ** incremental compilation may be fatally broken for this module **\n",
      "\n",
      "WARNING: Method definition (::Type{Base.MPFR.BigFloat})(Base.Irrational{:log4π}) in module IrrationalConstants at irrationals.jl:162 overwritten in module StatsFuns at irrationals.jl:162.\n",
      "  ** incremental compilation may be fatally broken for this module **\n",
      "\n",
      "┌ Info: Precompiling CSV [336ed68f-0bac-5ca0-87d4-7b16caf5d00b]\n",
      "└ @ Base loading.jl:1260\n"
     ]
    }
   ],
   "source": [
    "using Distributions, Statistics, StatsPlots, CSV"
   ]
  },
  {
   "cell_type": "code",
   "execution_count": 3,
   "id": "6a8d0b1a",
   "metadata": {},
   "outputs": [
    {
     "data": {
      "text/plain": [
       "EDA"
      ]
     },
     "execution_count": 3,
     "metadata": {},
     "output_type": "execute_result"
    }
   ],
   "source": [
    "include(\"EDA.jl\")"
   ]
  },
  {
   "cell_type": "code",
   "execution_count": 4,
   "id": "d53031f8",
   "metadata": {},
   "outputs": [
    {
     "name": "stdout",
     "output_type": "stream",
     "text": [
      "Iterando... \n",
      "...fin\n",
      "Aviso: se alcanzó el máximo número de iteraciones = 1000\n"
     ]
    },
    {
     "data": {
      "text/plain": [
       "(x = [3.911075542764998, 1.9650320817520337], fx = 1.1366864557173203e-5, iter = 1000)"
      ]
     },
     "execution_count": 4,
     "metadata": {},
     "output_type": "execute_result"
    }
   ],
   "source": [
    "obj_func(x) = (cdf(LogNormal(x[1], x[2]), 50) - 0.5)^2 + (cdf(LogNormal(x[1], x[2]), 5500) - 0.995)^2\n",
    "eda_res = EDA(obj_func,[2,2],[4,3], difmax = 0.000000000001)"
   ]
  },
  {
   "cell_type": "code",
   "execution_count": 5,
   "id": "088b8a8b",
   "metadata": {},
   "outputs": [
    {
     "name": "stdout",
     "output_type": "stream",
     "text": [
      "0.9916340136250069\n",
      "0.5001923545698291\n"
     ]
    }
   ],
   "source": [
    "println(cdf(LogNormal(eda_res[1][1], eda_res[1][2]), 5500))\n",
    "println(cdf(LogNormal(eda_res[1][1], eda_res[1][2]), 50))"
   ]
  },
  {
   "cell_type": "code",
   "execution_count": 6,
   "id": "5c21ae7e",
   "metadata": {},
   "outputs": [
    {
     "data": {
      "text/plain": [
       "LogNormal{Float64}(μ=3.911075542764998, σ=1.9650320817520337)"
      ]
     },
     "execution_count": 6,
     "metadata": {},
     "output_type": "execute_result"
    }
   ],
   "source": [
    "mu = eda_res[1][1]; sigma = eda_res[1][2]; \n",
    "\n",
    "freq = NegativeBinomial(3920/17 ,28/45)\n",
    "sev = LogNormal(mu, sigma)"
   ]
  },
  {
   "cell_type": "markdown",
   "id": "24802b90",
   "metadata": {},
   "source": [
    "## Simulations of the accidents "
   ]
  },
  {
   "cell_type": "markdown",
   "id": "bc76faa0",
   "metadata": {},
   "source": []
  },
  {
   "cell_type": "code",
   "execution_count": 7,
   "id": "e5c9d0cb",
   "metadata": {},
   "outputs": [
    {
     "data": {
      "text/plain": [
       "simul_events (generic function with 1 method)"
      ]
     },
     "execution_count": 7,
     "metadata": {},
     "output_type": "execute_result"
    }
   ],
   "source": [
    "function  simul_events(n)\n",
    "    S = zeros(n)\n",
    "    N = rand(freq, n)\n",
    "    \n",
    "    N_pos = findall(N .> 0)\n",
    "    \n",
    "    for i in N_pos\n",
    "        Yi = rand(sev, N[i])\n",
    "        S[i] = sum(Yi)\n",
    "    end\n",
    "    return(S, N)\n",
    "end"
   ]
  },
  {
   "cell_type": "code",
   "execution_count": 8,
   "id": "cefacfd6",
   "metadata": {},
   "outputs": [
    {
     "data": {
      "text/plain": [
       "([37548.1270716413, 36761.60081256127, 51059.82456431597, 28523.53383655471, 44660.82391364639, 27736.06396229246, 89501.9588500037, 20171.809010798963, 30469.448926656725, 57026.002339650055  …  62888.98261764674, 37129.92306311095, 38113.953170665845, 39195.102903654915, 47357.42422291751, 31488.92710281552, 21649.24786660482, 51934.94163537612, 43426.60547911877, 31618.375001348424], [152, 129, 131, 114, 144, 157, 154, 128, 147, 146  …  186, 145, 135, 142, 132, 140, 146, 154, 123, 139])"
      ]
     },
     "execution_count": 8,
     "metadata": {},
     "output_type": "execute_result"
    }
   ],
   "source": [
    "#  The exercise ask for 1M simulations\n",
    "S = simul_events(10_000)"
   ]
  },
  {
   "cell_type": "markdown",
   "id": "342c2a96",
   "metadata": {},
   "source": []
  },
  {
   "cell_type": "code",
   "execution_count": 9,
   "id": "469cf425",
   "metadata": {},
   "outputs": [
    {
     "data": {
      "text/plain": [
       "4.93666509102076"
      ]
     },
     "execution_count": 9,
     "metadata": {},
     "output_type": "execute_result"
    }
   ],
   "source": [
    "μ0 = mean(log.(S[1]))\n",
    "n0 = mean(log.(S[2]))"
   ]
  },
  {
   "cell_type": "code",
   "execution_count": null,
   "id": "8556bd60",
   "metadata": {},
   "outputs": [
    {
     "name": "stdout",
     "output_type": "stream",
     "text": [
      "Iterando... \n",
      "...fin\n",
      "Aviso: se alcanzó el máximo número de iteraciones = 1000\n"
     ]
    },
    {
     "data": {
      "text/plain": [
       "(x = [10.952551776793694, 5.3280986668521635], fx = 0.0, iter = 1000)"
      ]
     },
     "execution_count": 38,
     "metadata": {},
     "output_type": "execute_result"
    }
   ],
   "source": [
    "ob2(x) = abs((cdf(LocationScale(μ0,x[1], TDist(x[2])), μ0) - 0.5))\n",
    "EDA(ob2, [9,4], [13,6])"
   ]
  },
  {
   "cell_type": "code",
   "execution_count": 10,
   "id": "64ca6591",
   "metadata": {},
   "outputs": [
    {
     "data": {
      "image/svg+xml": "<?xml version=\"1.0\" encoding=\"utf-8\"?>\n<svg xmlns=\"http://www.w3.org/2000/svg\" xmlns:xlink=\"http://www.w3.org/1999/xlink\" width=\"600\" height=\"400\" viewBox=\"0 0 2400 1600\">\n<defs>\n  <clipPath id=\"clip020\">\n    <rect x=\"0\" y=\"0\" width=\"2400\" height=\"1600\"/>\n  </clipPath>\n</defs>\n<path clip-path=\"url(#clip020)\" d=\"\nM0 1600 L2400 1600 L2400 0 L0 0  Z\n  \" fill=\"#ffffff\" fill-rule=\"evenodd\" fill-opacity=\"1\"/>\n<defs>\n  <clipPath id=\"clip021\">\n    <rect x=\"480\" y=\"0\" width=\"1681\" height=\"1600\"/>\n  </clipPath>\n</defs>\n<path clip-path=\"url(#clip020)\" d=\"\nM148.334 1486.45 L2352.76 1486.45 L2352.76 47.2441 L148.334 47.2441  Z\n  \" fill=\"#ffffff\" fill-rule=\"evenodd\" fill-opacity=\"1\"/>\n<defs>\n  <clipPath id=\"clip022\">\n    <rect x=\"148\" y=\"47\" width=\"2205\" height=\"1440\"/>\n  </clipPath>\n</defs>\n<polyline clip-path=\"url(#clip022)\" style=\"stroke:#000000; stroke-width:2; stroke-opacity:0.1; fill:none\" points=\"\n  279.36,1486.45 279.36,47.2441 \n  \"/>\n<polyline clip-path=\"url(#clip022)\" style=\"stroke:#000000; stroke-width:2; stroke-opacity:0.1; fill:none\" points=\"\n  744.981,1486.45 744.981,47.2441 \n  \"/>\n<polyline clip-path=\"url(#clip022)\" style=\"stroke:#000000; stroke-width:2; stroke-opacity:0.1; fill:none\" points=\"\n  1210.6,1486.45 1210.6,47.2441 \n  \"/>\n<polyline clip-path=\"url(#clip022)\" style=\"stroke:#000000; stroke-width:2; stroke-opacity:0.1; fill:none\" points=\"\n  1676.22,1486.45 1676.22,47.2441 \n  \"/>\n<polyline clip-path=\"url(#clip022)\" style=\"stroke:#000000; stroke-width:2; stroke-opacity:0.1; fill:none\" points=\"\n  2141.84,1486.45 2141.84,47.2441 \n  \"/>\n<polyline clip-path=\"url(#clip020)\" style=\"stroke:#000000; stroke-width:4; stroke-opacity:1; fill:none\" points=\"\n  148.334,1486.45 2352.76,1486.45 \n  \"/>\n<polyline clip-path=\"url(#clip020)\" style=\"stroke:#000000; stroke-width:4; stroke-opacity:1; fill:none\" points=\"\n  279.36,1486.45 279.36,1469.18 \n  \"/>\n<polyline clip-path=\"url(#clip020)\" style=\"stroke:#000000; stroke-width:4; stroke-opacity:1; fill:none\" points=\"\n  744.981,1486.45 744.981,1469.18 \n  \"/>\n<polyline clip-path=\"url(#clip020)\" style=\"stroke:#000000; stroke-width:4; stroke-opacity:1; fill:none\" points=\"\n  1210.6,1486.45 1210.6,1469.18 \n  \"/>\n<polyline clip-path=\"url(#clip020)\" style=\"stroke:#000000; stroke-width:4; stroke-opacity:1; fill:none\" points=\"\n  1676.22,1486.45 1676.22,1469.18 \n  \"/>\n<polyline clip-path=\"url(#clip020)\" style=\"stroke:#000000; stroke-width:4; stroke-opacity:1; fill:none\" points=\"\n  2141.84,1486.45 2141.84,1469.18 \n  \"/>\n<path clip-path=\"url(#clip020)\" d=\"M 0 0 M251.154 1512.56 L269.511 1512.56 L269.511 1516.5 L255.437 1516.5 L255.437 1524.97 Q256.455 1524.62 257.474 1524.46 Q258.492 1524.27 259.511 1524.27 Q265.298 1524.27 268.677 1527.44 Q272.057 1530.62 272.057 1536.03 Q272.057 1541.61 268.585 1544.71 Q265.113 1547.79 258.793 1547.79 Q256.617 1547.79 254.349 1547.42 Q252.103 1547.05 249.696 1546.31 L249.696 1541.61 Q251.779 1542.74 254.002 1543.3 Q256.224 1543.86 258.701 1543.86 Q262.705 1543.86 265.043 1541.75 Q267.381 1539.64 267.381 1536.03 Q267.381 1532.42 265.043 1530.31 Q262.705 1528.21 258.701 1528.21 Q256.826 1528.21 254.951 1528.62 Q253.099 1529.04 251.154 1529.92 L251.154 1512.56 Z\" fill=\"#000000\" fill-rule=\"evenodd\" fill-opacity=\"1\" /><path clip-path=\"url(#clip020)\" d=\"M 0 0 M277.126 1541.24 L282.011 1541.24 L282.011 1547.12 L277.126 1547.12 L277.126 1541.24 Z\" fill=\"#000000\" fill-rule=\"evenodd\" fill-opacity=\"1\" /><path clip-path=\"url(#clip020)\" d=\"M 0 0 M297.08 1515.64 Q293.469 1515.64 291.64 1519.2 Q289.835 1522.75 289.835 1529.87 Q289.835 1536.98 291.64 1540.55 Q293.469 1544.09 297.08 1544.09 Q300.714 1544.09 302.52 1540.55 Q304.348 1536.98 304.348 1529.87 Q304.348 1522.75 302.52 1519.2 Q300.714 1515.64 297.08 1515.64 M297.08 1511.93 Q302.89 1511.93 305.946 1516.54 Q309.024 1521.12 309.024 1529.87 Q309.024 1538.6 305.946 1543.21 Q302.89 1547.79 297.08 1547.79 Q291.27 1547.79 288.191 1543.21 Q285.136 1538.6 285.136 1529.87 Q285.136 1521.12 288.191 1516.54 Q291.27 1511.93 297.08 1511.93 Z\" fill=\"#000000\" fill-rule=\"evenodd\" fill-opacity=\"1\" /><path clip-path=\"url(#clip020)\" d=\"M 0 0 M715.884 1512.56 L738.106 1512.56 L738.106 1514.55 L725.56 1547.12 L720.676 1547.12 L732.481 1516.5 L715.884 1516.5 L715.884 1512.56 Z\" fill=\"#000000\" fill-rule=\"evenodd\" fill-opacity=\"1\" /><path clip-path=\"url(#clip020)\" d=\"M 0 0 M743.175 1541.24 L748.06 1541.24 L748.06 1547.12 L743.175 1547.12 L743.175 1541.24 Z\" fill=\"#000000\" fill-rule=\"evenodd\" fill-opacity=\"1\" /><path clip-path=\"url(#clip020)\" d=\"M 0 0 M753.175 1512.56 L771.532 1512.56 L771.532 1516.5 L757.458 1516.5 L757.458 1524.97 Q758.476 1524.62 759.495 1524.46 Q760.513 1524.27 761.532 1524.27 Q767.319 1524.27 770.698 1527.44 Q774.078 1530.62 774.078 1536.03 Q774.078 1541.61 770.606 1544.71 Q767.134 1547.79 760.814 1547.79 Q758.638 1547.79 756.37 1547.42 Q754.124 1547.05 751.717 1546.31 L751.717 1541.61 Q753.8 1542.74 756.023 1543.3 Q758.245 1543.86 760.722 1543.86 Q764.726 1543.86 767.064 1541.75 Q769.402 1539.64 769.402 1536.03 Q769.402 1532.42 767.064 1530.31 Q764.726 1528.21 760.722 1528.21 Q758.847 1528.21 756.972 1528.62 Q755.12 1529.04 753.175 1529.92 L753.175 1512.56 Z\" fill=\"#000000\" fill-rule=\"evenodd\" fill-opacity=\"1\" /><path clip-path=\"url(#clip020)\" d=\"M 0 0 M1168.99 1543.18 L1176.63 1543.18 L1176.63 1516.82 L1168.32 1518.49 L1168.32 1514.23 L1176.59 1512.56 L1181.26 1512.56 L1181.26 1543.18 L1188.9 1543.18 L1188.9 1547.12 L1168.99 1547.12 L1168.99 1543.18 Z\" fill=\"#000000\" fill-rule=\"evenodd\" fill-opacity=\"1\" /><path clip-path=\"url(#clip020)\" d=\"M 0 0 M1203.97 1515.64 Q1200.36 1515.64 1198.53 1519.2 Q1196.72 1522.75 1196.72 1529.87 Q1196.72 1536.98 1198.53 1540.55 Q1200.36 1544.09 1203.97 1544.09 Q1207.6 1544.09 1209.41 1540.55 Q1211.24 1536.98 1211.24 1529.87 Q1211.24 1522.75 1209.41 1519.2 Q1207.6 1515.64 1203.97 1515.64 M1203.97 1511.93 Q1209.78 1511.93 1212.84 1516.54 Q1215.91 1521.12 1215.91 1529.87 Q1215.91 1538.6 1212.84 1543.21 Q1209.78 1547.79 1203.97 1547.79 Q1198.16 1547.79 1195.08 1543.21 Q1192.03 1538.6 1192.03 1529.87 Q1192.03 1521.12 1195.08 1516.54 Q1198.16 1511.93 1203.97 1511.93 Z\" fill=\"#000000\" fill-rule=\"evenodd\" fill-opacity=\"1\" /><path clip-path=\"url(#clip020)\" d=\"M 0 0 M1220.98 1541.24 L1225.87 1541.24 L1225.87 1547.12 L1220.98 1547.12 L1220.98 1541.24 Z\" fill=\"#000000\" fill-rule=\"evenodd\" fill-opacity=\"1\" /><path clip-path=\"url(#clip020)\" d=\"M 0 0 M1240.94 1515.64 Q1237.33 1515.64 1235.5 1519.2 Q1233.69 1522.75 1233.69 1529.87 Q1233.69 1536.98 1235.5 1540.55 Q1237.33 1544.09 1240.94 1544.09 Q1244.57 1544.09 1246.38 1540.55 Q1248.21 1536.98 1248.21 1529.87 Q1248.21 1522.75 1246.38 1519.2 Q1244.57 1515.64 1240.94 1515.64 M1240.94 1511.93 Q1246.75 1511.93 1249.8 1516.54 Q1252.88 1521.12 1252.88 1529.87 Q1252.88 1538.6 1249.8 1543.21 Q1246.75 1547.79 1240.94 1547.79 Q1235.13 1547.79 1232.05 1543.21 Q1228.99 1538.6 1228.99 1529.87 Q1228.99 1521.12 1232.05 1516.54 Q1235.13 1511.93 1240.94 1511.93 Z\" fill=\"#000000\" fill-rule=\"evenodd\" fill-opacity=\"1\" /><path clip-path=\"url(#clip020)\" d=\"M 0 0 M1635.91 1543.18 L1643.55 1543.18 L1643.55 1516.82 L1635.24 1518.49 L1635.24 1514.23 L1643.5 1512.56 L1648.18 1512.56 L1648.18 1543.18 L1655.82 1543.18 L1655.82 1547.12 L1635.91 1547.12 L1635.91 1543.18 Z\" fill=\"#000000\" fill-rule=\"evenodd\" fill-opacity=\"1\" /><path clip-path=\"url(#clip020)\" d=\"M 0 0 M1664.91 1543.18 L1681.23 1543.18 L1681.23 1547.12 L1659.29 1547.12 L1659.29 1543.18 Q1661.95 1540.43 1666.53 1535.8 Q1671.14 1531.15 1672.32 1529.81 Q1674.57 1527.28 1675.45 1525.55 Q1676.35 1523.79 1676.35 1522.1 Q1676.35 1519.34 1674.41 1517.61 Q1672.48 1515.87 1669.38 1515.87 Q1667.18 1515.87 1664.73 1516.63 Q1662.3 1517.4 1659.52 1518.95 L1659.52 1514.23 Q1662.35 1513.09 1664.8 1512.51 Q1667.25 1511.93 1669.29 1511.93 Q1674.66 1511.93 1677.85 1514.62 Q1681.05 1517.31 1681.05 1521.8 Q1681.05 1523.93 1680.24 1525.85 Q1679.45 1527.74 1677.35 1530.34 Q1676.77 1531.01 1673.66 1534.23 Q1670.56 1537.42 1664.91 1543.18 Z\" fill=\"#000000\" fill-rule=\"evenodd\" fill-opacity=\"1\" /><path clip-path=\"url(#clip020)\" d=\"M 0 0 M1686.3 1541.24 L1691.19 1541.24 L1691.19 1547.12 L1686.3 1547.12 L1686.3 1541.24 Z\" fill=\"#000000\" fill-rule=\"evenodd\" fill-opacity=\"1\" /><path clip-path=\"url(#clip020)\" d=\"M 0 0 M1696.3 1512.56 L1714.66 1512.56 L1714.66 1516.5 L1700.59 1516.5 L1700.59 1524.97 Q1701.6 1524.62 1702.62 1524.46 Q1703.64 1524.27 1704.66 1524.27 Q1710.45 1524.27 1713.83 1527.44 Q1717.21 1530.62 1717.21 1536.03 Q1717.21 1541.61 1713.73 1544.71 Q1710.26 1547.79 1703.94 1547.79 Q1701.77 1547.79 1699.5 1547.42 Q1697.25 1547.05 1694.85 1546.31 L1694.85 1541.61 Q1696.93 1542.74 1699.15 1543.3 Q1701.37 1543.86 1703.85 1543.86 Q1707.85 1543.86 1710.19 1541.75 Q1712.53 1539.64 1712.53 1536.03 Q1712.53 1532.42 1710.19 1530.31 Q1707.85 1528.21 1703.85 1528.21 Q1701.97 1528.21 1700.1 1528.62 Q1698.25 1529.04 1696.3 1529.92 L1696.3 1512.56 Z\" fill=\"#000000\" fill-rule=\"evenodd\" fill-opacity=\"1\" /><path clip-path=\"url(#clip020)\" d=\"M 0 0 M2100.73 1543.18 L2108.37 1543.18 L2108.37 1516.82 L2100.06 1518.49 L2100.06 1514.23 L2108.32 1512.56 L2113 1512.56 L2113 1543.18 L2120.64 1543.18 L2120.64 1547.12 L2100.73 1547.12 L2100.73 1543.18 Z\" fill=\"#000000\" fill-rule=\"evenodd\" fill-opacity=\"1\" /><path clip-path=\"url(#clip020)\" d=\"M 0 0 M2125.76 1512.56 L2144.11 1512.56 L2144.11 1516.5 L2130.04 1516.5 L2130.04 1524.97 Q2131.06 1524.62 2132.07 1524.46 Q2133.09 1524.27 2134.11 1524.27 Q2139.9 1524.27 2143.28 1527.44 Q2146.66 1530.62 2146.66 1536.03 Q2146.66 1541.61 2143.19 1544.71 Q2139.71 1547.79 2133.39 1547.79 Q2131.22 1547.79 2128.95 1547.42 Q2126.7 1547.05 2124.3 1546.31 L2124.3 1541.61 Q2126.38 1542.74 2128.6 1543.3 Q2130.82 1543.86 2133.3 1543.86 Q2137.31 1543.86 2139.64 1541.75 Q2141.98 1539.64 2141.98 1536.03 Q2141.98 1532.42 2139.64 1530.31 Q2137.31 1528.21 2133.3 1528.21 Q2131.43 1528.21 2129.55 1528.62 Q2127.7 1529.04 2125.76 1529.92 L2125.76 1512.56 Z\" fill=\"#000000\" fill-rule=\"evenodd\" fill-opacity=\"1\" /><path clip-path=\"url(#clip020)\" d=\"M 0 0 M2151.73 1541.24 L2156.61 1541.24 L2156.61 1547.12 L2151.73 1547.12 L2151.73 1541.24 Z\" fill=\"#000000\" fill-rule=\"evenodd\" fill-opacity=\"1\" /><path clip-path=\"url(#clip020)\" d=\"M 0 0 M2171.68 1515.64 Q2168.07 1515.64 2166.24 1519.2 Q2164.44 1522.75 2164.44 1529.87 Q2164.44 1536.98 2166.24 1540.55 Q2168.07 1544.09 2171.68 1544.09 Q2175.32 1544.09 2177.12 1540.55 Q2178.95 1536.98 2178.95 1529.87 Q2178.95 1522.75 2177.12 1519.2 Q2175.32 1515.64 2171.68 1515.64 M2171.68 1511.93 Q2177.49 1511.93 2180.55 1516.54 Q2183.63 1521.12 2183.63 1529.87 Q2183.63 1538.6 2180.55 1543.21 Q2177.49 1547.79 2171.68 1547.79 Q2165.87 1547.79 2162.79 1543.21 Q2159.74 1538.6 2159.74 1529.87 Q2159.74 1521.12 2162.79 1516.54 Q2165.87 1511.93 2171.68 1511.93 Z\" fill=\"#000000\" fill-rule=\"evenodd\" fill-opacity=\"1\" /><polyline clip-path=\"url(#clip022)\" style=\"stroke:#000000; stroke-width:2; stroke-opacity:0.1; fill:none\" points=\"\n  148.334,1445.72 2352.76,1445.72 \n  \"/>\n<polyline clip-path=\"url(#clip022)\" style=\"stroke:#000000; stroke-width:2; stroke-opacity:0.1; fill:none\" points=\"\n  148.334,1222.12 2352.76,1222.12 \n  \"/>\n<polyline clip-path=\"url(#clip022)\" style=\"stroke:#000000; stroke-width:2; stroke-opacity:0.1; fill:none\" points=\"\n  148.334,998.52 2352.76,998.52 \n  \"/>\n<polyline clip-path=\"url(#clip022)\" style=\"stroke:#000000; stroke-width:2; stroke-opacity:0.1; fill:none\" points=\"\n  148.334,774.922 2352.76,774.922 \n  \"/>\n<polyline clip-path=\"url(#clip022)\" style=\"stroke:#000000; stroke-width:2; stroke-opacity:0.1; fill:none\" points=\"\n  148.334,551.324 2352.76,551.324 \n  \"/>\n<polyline clip-path=\"url(#clip022)\" style=\"stroke:#000000; stroke-width:2; stroke-opacity:0.1; fill:none\" points=\"\n  148.334,327.726 2352.76,327.726 \n  \"/>\n<polyline clip-path=\"url(#clip022)\" style=\"stroke:#000000; stroke-width:2; stroke-opacity:0.1; fill:none\" points=\"\n  148.334,104.128 2352.76,104.128 \n  \"/>\n<polyline clip-path=\"url(#clip020)\" style=\"stroke:#000000; stroke-width:4; stroke-opacity:1; fill:none\" points=\"\n  148.334,1486.45 148.334,47.2441 \n  \"/>\n<polyline clip-path=\"url(#clip020)\" style=\"stroke:#000000; stroke-width:4; stroke-opacity:1; fill:none\" points=\"\n  148.334,1445.72 174.787,1445.72 \n  \"/>\n<polyline clip-path=\"url(#clip020)\" style=\"stroke:#000000; stroke-width:4; stroke-opacity:1; fill:none\" points=\"\n  148.334,1222.12 174.787,1222.12 \n  \"/>\n<polyline clip-path=\"url(#clip020)\" style=\"stroke:#000000; stroke-width:4; stroke-opacity:1; fill:none\" points=\"\n  148.334,998.52 174.787,998.52 \n  \"/>\n<polyline clip-path=\"url(#clip020)\" style=\"stroke:#000000; stroke-width:4; stroke-opacity:1; fill:none\" points=\"\n  148.334,774.922 174.787,774.922 \n  \"/>\n<polyline clip-path=\"url(#clip020)\" style=\"stroke:#000000; stroke-width:4; stroke-opacity:1; fill:none\" points=\"\n  148.334,551.324 174.787,551.324 \n  \"/>\n<polyline clip-path=\"url(#clip020)\" style=\"stroke:#000000; stroke-width:4; stroke-opacity:1; fill:none\" points=\"\n  148.334,327.726 174.787,327.726 \n  \"/>\n<polyline clip-path=\"url(#clip020)\" style=\"stroke:#000000; stroke-width:4; stroke-opacity:1; fill:none\" points=\"\n  148.334,104.128 174.787,104.128 \n  \"/>\n<path clip-path=\"url(#clip020)\" d=\"M 0 0 M63.4226 1431.51 Q59.8115 1431.51 57.9828 1435.08 Q56.1773 1438.62 56.1773 1445.75 Q56.1773 1452.86 57.9828 1456.42 Q59.8115 1459.96 63.4226 1459.96 Q67.0569 1459.96 68.8624 1456.42 Q70.6911 1452.86 70.6911 1445.75 Q70.6911 1438.62 68.8624 1435.08 Q67.0569 1431.51 63.4226 1431.51 M63.4226 1427.81 Q69.2328 1427.81 72.2883 1432.42 Q75.367 1437 75.367 1445.75 Q75.367 1454.48 72.2883 1459.08 Q69.2328 1463.67 63.4226 1463.67 Q57.6125 1463.67 54.5338 1459.08 Q51.4782 1454.48 51.4782 1445.75 Q51.4782 1437 54.5338 1432.42 Q57.6125 1427.81 63.4226 1427.81 Z\" fill=\"#000000\" fill-rule=\"evenodd\" fill-opacity=\"1\" /><path clip-path=\"url(#clip020)\" d=\"M 0 0 M80.4364 1457.12 L85.3206 1457.12 L85.3206 1463 L80.4364 1463 L80.4364 1457.12 Z\" fill=\"#000000\" fill-rule=\"evenodd\" fill-opacity=\"1\" /><path clip-path=\"url(#clip020)\" d=\"M 0 0 M100.39 1431.51 Q96.7789 1431.51 94.9502 1435.08 Q93.1447 1438.62 93.1447 1445.75 Q93.1447 1452.86 94.9502 1456.42 Q96.7789 1459.96 100.39 1459.96 Q104.024 1459.96 105.83 1456.42 Q107.658 1452.86 107.658 1445.75 Q107.658 1438.62 105.83 1435.08 Q104.024 1431.51 100.39 1431.51 M100.39 1427.81 Q106.2 1427.81 109.256 1432.42 Q112.334 1437 112.334 1445.75 Q112.334 1454.48 109.256 1459.08 Q106.2 1463.67 100.39 1463.67 Q94.5799 1463.67 91.5012 1459.08 Q88.4456 1454.48 88.4456 1445.75 Q88.4456 1437 91.5012 1432.42 Q94.5799 1427.81 100.39 1427.81 Z\" fill=\"#000000\" fill-rule=\"evenodd\" fill-opacity=\"1\" /><path clip-path=\"url(#clip020)\" d=\"M 0 0 M65.0198 1207.92 Q61.4087 1207.92 59.58 1211.48 Q57.7745 1215.02 57.7745 1222.15 Q57.7745 1229.26 59.58 1232.82 Q61.4087 1236.37 65.0198 1236.37 Q68.6541 1236.37 70.4596 1232.82 Q72.2883 1229.26 72.2883 1222.15 Q72.2883 1215.02 70.4596 1211.48 Q68.6541 1207.92 65.0198 1207.92 M65.0198 1204.21 Q70.83 1204.21 73.8855 1208.82 Q76.9642 1213.4 76.9642 1222.15 Q76.9642 1230.88 73.8855 1235.49 Q70.83 1240.07 65.0198 1240.07 Q59.2097 1240.07 56.131 1235.49 Q53.0754 1230.88 53.0754 1222.15 Q53.0754 1213.4 56.131 1208.82 Q59.2097 1204.21 65.0198 1204.21 Z\" fill=\"#000000\" fill-rule=\"evenodd\" fill-opacity=\"1\" /><path clip-path=\"url(#clip020)\" d=\"M 0 0 M82.0336 1233.52 L86.9179 1233.52 L86.9179 1239.4 L82.0336 1239.4 L82.0336 1233.52 Z\" fill=\"#000000\" fill-rule=\"evenodd\" fill-opacity=\"1\" /><path clip-path=\"url(#clip020)\" d=\"M 0 0 M96.015 1235.46 L112.334 1235.46 L112.334 1239.4 L90.3901 1239.4 L90.3901 1235.46 Q93.0521 1232.71 97.6354 1228.08 Q102.242 1223.43 103.422 1222.08 Q105.668 1219.56 106.547 1217.82 Q107.45 1216.06 107.45 1214.37 Q107.45 1211.62 105.506 1209.88 Q103.584 1208.15 100.483 1208.15 Q98.2835 1208.15 95.8298 1208.91 Q93.3993 1209.68 90.6215 1211.23 L90.6215 1206.5 Q93.4456 1205.37 95.8993 1204.79 Q98.353 1204.21 100.39 1204.21 Q105.76 1204.21 108.955 1206.9 Q112.149 1209.58 112.149 1214.07 Q112.149 1216.2 111.339 1218.12 Q110.552 1220.02 108.446 1222.62 Q107.867 1223.29 104.765 1226.5 Q101.663 1229.7 96.015 1235.46 Z\" fill=\"#000000\" fill-rule=\"evenodd\" fill-opacity=\"1\" /><path clip-path=\"url(#clip020)\" d=\"M 0 0 M62.9365 984.319 Q59.3254 984.319 57.4967 987.883 Q55.6912 991.425 55.6912 998.555 Q55.6912 1005.66 57.4967 1009.23 Q59.3254 1012.77 62.9365 1012.77 Q66.5707 1012.77 68.3763 1009.23 Q70.205 1005.66 70.205 998.555 Q70.205 991.425 68.3763 987.883 Q66.5707 984.319 62.9365 984.319 M62.9365 980.615 Q68.7467 980.615 71.8022 985.221 Q74.8809 989.805 74.8809 998.555 Q74.8809 1007.28 71.8022 1011.89 Q68.7467 1016.47 62.9365 1016.47 Q57.1264 1016.47 54.0477 1011.89 Q50.9921 1007.28 50.9921 998.555 Q50.9921 989.805 54.0477 985.221 Q57.1264 980.615 62.9365 980.615 Z\" fill=\"#000000\" fill-rule=\"evenodd\" fill-opacity=\"1\" /><path clip-path=\"url(#clip020)\" d=\"M 0 0 M79.9503 1009.92 L84.8345 1009.92 L84.8345 1015.8 L79.9503 1015.8 L79.9503 1009.92 Z\" fill=\"#000000\" fill-rule=\"evenodd\" fill-opacity=\"1\" /><path clip-path=\"url(#clip020)\" d=\"M 0 0 M102.751 985.314 L90.9456 1003.76 L102.751 1003.76 L102.751 985.314 M101.524 981.24 L107.404 981.24 L107.404 1003.76 L112.334 1003.76 L112.334 1007.65 L107.404 1007.65 L107.404 1015.8 L102.751 1015.8 L102.751 1007.65 L87.1493 1007.65 L87.1493 1003.14 L101.524 981.24 Z\" fill=\"#000000\" fill-rule=\"evenodd\" fill-opacity=\"1\" /><path clip-path=\"url(#clip020)\" d=\"M 0 0 M63.2606 760.721 Q59.6495 760.721 57.8208 764.286 Q56.0152 767.827 56.0152 774.957 Q56.0152 782.063 57.8208 785.628 Q59.6495 789.17 63.2606 789.17 Q66.8948 789.17 68.7004 785.628 Q70.5291 782.063 70.5291 774.957 Q70.5291 767.827 68.7004 764.286 Q66.8948 760.721 63.2606 760.721 M63.2606 757.017 Q69.0707 757.017 72.1263 761.623 Q75.205 766.207 75.205 774.957 Q75.205 783.684 72.1263 788.29 Q69.0707 792.873 63.2606 792.873 Q57.4504 792.873 54.3717 788.29 Q51.3162 783.684 51.3162 774.957 Q51.3162 766.207 54.3717 761.623 Q57.4504 757.017 63.2606 757.017 Z\" fill=\"#000000\" fill-rule=\"evenodd\" fill-opacity=\"1\" /><path clip-path=\"url(#clip020)\" d=\"M 0 0 M80.2744 786.322 L85.1586 786.322 L85.1586 792.202 L80.2744 792.202 L80.2744 786.322 Z\" fill=\"#000000\" fill-rule=\"evenodd\" fill-opacity=\"1\" /><path clip-path=\"url(#clip020)\" d=\"M 0 0 M100.807 773.059 Q97.6585 773.059 95.8067 775.211 Q93.978 777.364 93.978 781.114 Q93.978 784.841 95.8067 787.017 Q97.6585 789.17 100.807 789.17 Q103.955 789.17 105.783 787.017 Q107.635 784.841 107.635 781.114 Q107.635 777.364 105.783 775.211 Q103.955 773.059 100.807 773.059 M110.089 758.406 L110.089 762.665 Q108.33 761.832 106.524 761.392 Q104.742 760.952 102.983 760.952 Q98.353 760.952 95.8993 764.077 Q93.4688 767.202 93.1215 773.522 Q94.4873 771.508 96.5474 770.443 Q98.6076 769.355 101.084 769.355 Q106.293 769.355 109.302 772.526 Q112.334 775.674 112.334 781.114 Q112.334 786.438 109.186 789.656 Q106.038 792.873 100.807 792.873 Q94.8113 792.873 91.6401 788.29 Q88.4688 783.684 88.4688 774.957 Q88.4688 766.762 92.3576 761.901 Q96.2465 757.017 102.797 757.017 Q104.557 757.017 106.339 757.364 Q108.145 757.711 110.089 758.406 Z\" fill=\"#000000\" fill-rule=\"evenodd\" fill-opacity=\"1\" /><path clip-path=\"url(#clip020)\" d=\"M 0 0 M63.5152 537.123 Q59.9041 537.123 58.0754 540.688 Q56.2699 544.229 56.2699 551.359 Q56.2699 558.465 58.0754 562.03 Q59.9041 565.572 63.5152 565.572 Q67.1494 565.572 68.955 562.03 Q70.7837 558.465 70.7837 551.359 Q70.7837 544.229 68.955 540.688 Q67.1494 537.123 63.5152 537.123 M63.5152 533.419 Q69.3254 533.419 72.3809 538.026 Q75.4596 542.609 75.4596 551.359 Q75.4596 560.086 72.3809 564.692 Q69.3254 569.275 63.5152 569.275 Q57.7051 569.275 54.6264 564.692 Q51.5708 560.086 51.5708 551.359 Q51.5708 542.609 54.6264 538.026 Q57.7051 533.419 63.5152 533.419 Z\" fill=\"#000000\" fill-rule=\"evenodd\" fill-opacity=\"1\" /><path clip-path=\"url(#clip020)\" d=\"M 0 0 M80.529 562.725 L85.4132 562.725 L85.4132 568.604 L80.529 568.604 L80.529 562.725 Z\" fill=\"#000000\" fill-rule=\"evenodd\" fill-opacity=\"1\" /><path clip-path=\"url(#clip020)\" d=\"M 0 0 M100.483 552.192 Q97.1493 552.192 95.228 553.975 Q93.3299 555.757 93.3299 558.882 Q93.3299 562.007 95.228 563.789 Q97.1493 565.572 100.483 565.572 Q103.816 565.572 105.737 563.789 Q107.658 561.984 107.658 558.882 Q107.658 555.757 105.737 553.975 Q103.839 552.192 100.483 552.192 M95.8067 550.201 Q92.7975 549.461 91.1077 547.401 Q89.441 545.34 89.441 542.377 Q89.441 538.234 92.3808 535.827 Q95.3437 533.419 100.483 533.419 Q105.645 533.419 108.584 535.827 Q111.524 538.234 111.524 542.377 Q111.524 545.34 109.834 547.401 Q108.168 549.461 105.182 550.201 Q108.561 550.989 110.436 553.28 Q112.334 555.572 112.334 558.882 Q112.334 563.905 109.256 566.59 Q106.2 569.275 100.483 569.275 Q94.765 569.275 91.6864 566.59 Q88.6308 563.905 88.6308 558.882 Q88.6308 555.572 90.529 553.28 Q92.4271 550.989 95.8067 550.201 M94.0937 542.817 Q94.0937 545.502 95.7604 547.007 Q97.4502 548.512 100.483 548.512 Q103.492 548.512 105.182 547.007 Q106.895 545.502 106.895 542.817 Q106.895 540.132 105.182 538.627 Q103.492 537.123 100.483 537.123 Q97.4502 537.123 95.7604 538.627 Q94.0937 540.132 94.0937 542.817 Z\" fill=\"#000000\" fill-rule=\"evenodd\" fill-opacity=\"1\" /><path clip-path=\"url(#clip020)\" d=\"M 0 0 M55.4597 341.071 L63.0985 341.071 L63.0985 314.706 L54.7884 316.372 L54.7884 312.113 L63.0522 310.446 L67.7281 310.446 L67.7281 341.071 L75.367 341.071 L75.367 345.006 L55.4597 345.006 L55.4597 341.071 Z\" fill=\"#000000\" fill-rule=\"evenodd\" fill-opacity=\"1\" /><path clip-path=\"url(#clip020)\" d=\"M 0 0 M80.4364 339.127 L85.3206 339.127 L85.3206 345.006 L80.4364 345.006 L80.4364 339.127 Z\" fill=\"#000000\" fill-rule=\"evenodd\" fill-opacity=\"1\" /><path clip-path=\"url(#clip020)\" d=\"M 0 0 M100.39 313.525 Q96.7789 313.525 94.9502 317.09 Q93.1447 320.631 93.1447 327.761 Q93.1447 334.867 94.9502 338.432 Q96.7789 341.974 100.39 341.974 Q104.024 341.974 105.83 338.432 Q107.658 334.867 107.658 327.761 Q107.658 320.631 105.83 317.09 Q104.024 313.525 100.39 313.525 M100.39 309.821 Q106.2 309.821 109.256 314.428 Q112.334 319.011 112.334 327.761 Q112.334 336.488 109.256 341.094 Q106.2 345.678 100.39 345.678 Q94.5799 345.678 91.5012 341.094 Q88.4456 336.488 88.4456 327.761 Q88.4456 319.011 91.5012 314.428 Q94.5799 309.821 100.39 309.821 Z\" fill=\"#000000\" fill-rule=\"evenodd\" fill-opacity=\"1\" /><path clip-path=\"url(#clip020)\" d=\"M 0 0 M57.0569 117.473 L64.6958 117.473 L64.6958 91.1076 L56.3856 92.7743 L56.3856 88.515 L64.6495 86.8484 L69.3254 86.8484 L69.3254 117.473 L76.9642 117.473 L76.9642 121.408 L57.0569 121.408 L57.0569 117.473 Z\" fill=\"#000000\" fill-rule=\"evenodd\" fill-opacity=\"1\" /><path clip-path=\"url(#clip020)\" d=\"M 0 0 M82.0336 115.529 L86.9179 115.529 L86.9179 121.408 L82.0336 121.408 L82.0336 115.529 Z\" fill=\"#000000\" fill-rule=\"evenodd\" fill-opacity=\"1\" /><path clip-path=\"url(#clip020)\" d=\"M 0 0 M96.015 117.473 L112.334 117.473 L112.334 121.408 L90.3901 121.408 L90.3901 117.473 Q93.0521 114.719 97.6354 110.089 Q102.242 105.436 103.422 104.094 Q105.668 101.571 106.547 99.8344 Q107.45 98.0752 107.45 96.3854 Q107.45 93.6308 105.506 91.8947 Q103.584 90.1585 100.483 90.1585 Q98.2835 90.1585 95.8298 90.9224 Q93.3993 91.6863 90.6215 93.2372 L90.6215 88.515 Q93.4456 87.3808 95.8993 86.8021 Q98.353 86.2234 100.39 86.2234 Q105.76 86.2234 108.955 88.9086 Q112.149 91.5937 112.149 96.0844 Q112.149 98.2141 111.339 100.135 Q110.552 102.033 108.446 104.626 Q107.867 105.297 104.765 108.515 Q101.663 111.709 96.015 117.473 Z\" fill=\"#000000\" fill-rule=\"evenodd\" fill-opacity=\"1\" /><path clip-path=\"url(#clip022)\" d=\"\nM1108.17 1443.48 L1108.17 1445.72 L1117.48 1445.72 L1117.48 1443.48 L1108.17 1443.48 L1108.17 1443.48  Z\n  \" fill=\"#009af9\" fill-rule=\"evenodd\" fill-opacity=\"1\"/>\n<polyline clip-path=\"url(#clip022)\" style=\"stroke:#000000; stroke-width:4; stroke-opacity:1; fill:none\" points=\"\n  1108.17,1443.48 1108.17,1445.72 1117.48,1445.72 1117.48,1443.48 1108.17,1443.48 \n  \"/>\n<path clip-path=\"url(#clip022)\" d=\"\nM1117.48 1439.01 L1117.48 1445.72 L1126.79 1445.72 L1126.79 1439.01 L1117.48 1439.01 L1117.48 1439.01  Z\n  \" fill=\"#009af9\" fill-rule=\"evenodd\" fill-opacity=\"1\"/>\n<polyline clip-path=\"url(#clip022)\" style=\"stroke:#000000; stroke-width:4; stroke-opacity:1; fill:none\" points=\"\n  1117.48,1439.01 1117.48,1445.72 1126.79,1445.72 1126.79,1439.01 1117.48,1439.01 \n  \"/>\n<path clip-path=\"url(#clip022)\" d=\"\nM1126.79 1430.06 L1126.79 1445.72 L1136.1 1445.72 L1136.1 1430.06 L1126.79 1430.06 L1126.79 1430.06  Z\n  \" fill=\"#009af9\" fill-rule=\"evenodd\" fill-opacity=\"1\"/>\n<polyline clip-path=\"url(#clip022)\" style=\"stroke:#000000; stroke-width:4; stroke-opacity:1; fill:none\" points=\"\n  1126.79,1430.06 1126.79,1445.72 1136.1,1445.72 1136.1,1430.06 1126.79,1430.06 \n  \"/>\n<path clip-path=\"url(#clip022)\" d=\"\nM1136.1 1436.77 L1136.1 1445.72 L1145.41 1445.72 L1145.41 1436.77 L1136.1 1436.77 L1136.1 1436.77  Z\n  \" fill=\"#009af9\" fill-rule=\"evenodd\" fill-opacity=\"1\"/>\n<polyline clip-path=\"url(#clip022)\" style=\"stroke:#000000; stroke-width:4; stroke-opacity:1; fill:none\" points=\"\n  1136.1,1436.77 1136.1,1445.72 1145.41,1445.72 1145.41,1436.77 1136.1,1436.77 \n  \"/>\n<path clip-path=\"url(#clip022)\" d=\"\nM1145.41 1421.12 L1145.41 1445.72 L1154.73 1445.72 L1154.73 1421.12 L1145.41 1421.12 L1145.41 1421.12  Z\n  \" fill=\"#009af9\" fill-rule=\"evenodd\" fill-opacity=\"1\"/>\n<polyline clip-path=\"url(#clip022)\" style=\"stroke:#000000; stroke-width:4; stroke-opacity:1; fill:none\" points=\"\n  1145.41,1421.12 1145.41,1445.72 1154.73,1445.72 1154.73,1421.12 1145.41,1421.12 \n  \"/>\n<path clip-path=\"url(#clip022)\" d=\"\nM1154.73 1427.83 L1154.73 1445.72 L1164.04 1445.72 L1164.04 1427.83 L1154.73 1427.83 L1154.73 1427.83  Z\n  \" fill=\"#009af9\" fill-rule=\"evenodd\" fill-opacity=\"1\"/>\n<polyline clip-path=\"url(#clip022)\" style=\"stroke:#000000; stroke-width:4; stroke-opacity:1; fill:none\" points=\"\n  1154.73,1427.83 1154.73,1445.72 1164.04,1445.72 1164.04,1427.83 1154.73,1427.83 \n  \"/>\n<path clip-path=\"url(#clip022)\" d=\"\nM1164.04 1398.76 L1164.04 1445.72 L1173.35 1445.72 L1173.35 1398.76 L1164.04 1398.76 L1164.04 1398.76  Z\n  \" fill=\"#009af9\" fill-rule=\"evenodd\" fill-opacity=\"1\"/>\n<polyline clip-path=\"url(#clip022)\" style=\"stroke:#000000; stroke-width:4; stroke-opacity:1; fill:none\" points=\"\n  1164.04,1398.76 1164.04,1445.72 1173.35,1445.72 1173.35,1398.76 1164.04,1398.76 \n  \"/>\n<path clip-path=\"url(#clip022)\" d=\"\nM1173.35 1387.58 L1173.35 1445.72 L1182.66 1445.72 L1182.66 1387.58 L1173.35 1387.58 L1173.35 1387.58  Z\n  \" fill=\"#009af9\" fill-rule=\"evenodd\" fill-opacity=\"1\"/>\n<polyline clip-path=\"url(#clip022)\" style=\"stroke:#000000; stroke-width:4; stroke-opacity:1; fill:none\" points=\"\n  1173.35,1387.58 1173.35,1445.72 1182.66,1445.72 1182.66,1387.58 1173.35,1387.58 \n  \"/>\n<path clip-path=\"url(#clip022)\" d=\"\nM1182.66 1356.28 L1182.66 1445.72 L1191.98 1445.72 L1191.98 1356.28 L1182.66 1356.28 L1182.66 1356.28  Z\n  \" fill=\"#009af9\" fill-rule=\"evenodd\" fill-opacity=\"1\"/>\n<polyline clip-path=\"url(#clip022)\" style=\"stroke:#000000; stroke-width:4; stroke-opacity:1; fill:none\" points=\"\n  1182.66,1356.28 1182.66,1445.72 1191.98,1445.72 1191.98,1356.28 1182.66,1356.28 \n  \"/>\n<path clip-path=\"url(#clip022)\" d=\"\nM1191.98 1318.26 L1191.98 1445.72 L1201.29 1445.72 L1201.29 1318.26 L1191.98 1318.26 L1191.98 1318.26  Z\n  \" fill=\"#009af9\" fill-rule=\"evenodd\" fill-opacity=\"1\"/>\n<polyline clip-path=\"url(#clip022)\" style=\"stroke:#000000; stroke-width:4; stroke-opacity:1; fill:none\" points=\"\n  1191.98,1318.26 1191.98,1445.72 1201.29,1445.72 1201.29,1318.26 1191.98,1318.26 \n  \"/>\n<path clip-path=\"url(#clip022)\" d=\"\nM1201.29 1293.67 L1201.29 1445.72 L1210.6 1445.72 L1210.6 1293.67 L1201.29 1293.67 L1201.29 1293.67  Z\n  \" fill=\"#009af9\" fill-rule=\"evenodd\" fill-opacity=\"1\"/>\n<polyline clip-path=\"url(#clip022)\" style=\"stroke:#000000; stroke-width:4; stroke-opacity:1; fill:none\" points=\"\n  1201.29,1293.67 1201.29,1445.72 1210.6,1445.72 1210.6,1293.67 1201.29,1293.67 \n  \"/>\n<path clip-path=\"url(#clip022)\" d=\"\nM1210.6 1195.29 L1210.6 1445.72 L1219.91 1445.72 L1219.91 1195.29 L1210.6 1195.29 L1210.6 1195.29  Z\n  \" fill=\"#009af9\" fill-rule=\"evenodd\" fill-opacity=\"1\"/>\n<polyline clip-path=\"url(#clip022)\" style=\"stroke:#000000; stroke-width:4; stroke-opacity:1; fill:none\" points=\"\n  1210.6,1195.29 1210.6,1445.72 1219.91,1445.72 1219.91,1195.29 1210.6,1195.29 \n  \"/>\n<path clip-path=\"url(#clip022)\" d=\"\nM1219.91 1168.45 L1219.91 1445.72 L1229.23 1445.72 L1229.23 1168.45 L1219.91 1168.45 L1219.91 1168.45  Z\n  \" fill=\"#009af9\" fill-rule=\"evenodd\" fill-opacity=\"1\"/>\n<polyline clip-path=\"url(#clip022)\" style=\"stroke:#000000; stroke-width:4; stroke-opacity:1; fill:none\" points=\"\n  1219.91,1168.45 1219.91,1445.72 1229.23,1445.72 1229.23,1168.45 1219.91,1168.45 \n  \"/>\n<path clip-path=\"url(#clip022)\" d=\"\nM1229.23 1094.67 L1229.23 1445.72 L1238.54 1445.72 L1238.54 1094.67 L1229.23 1094.67 L1229.23 1094.67  Z\n  \" fill=\"#009af9\" fill-rule=\"evenodd\" fill-opacity=\"1\"/>\n<polyline clip-path=\"url(#clip022)\" style=\"stroke:#000000; stroke-width:4; stroke-opacity:1; fill:none\" points=\"\n  1229.23,1094.67 1229.23,1445.72 1238.54,1445.72 1238.54,1094.67 1229.23,1094.67 \n  \"/>\n<path clip-path=\"url(#clip022)\" d=\"\nM1238.54 1016.41 L1238.54 1445.72 L1247.85 1445.72 L1247.85 1016.41 L1238.54 1016.41 L1238.54 1016.41  Z\n  \" fill=\"#009af9\" fill-rule=\"evenodd\" fill-opacity=\"1\"/>\n<polyline clip-path=\"url(#clip022)\" style=\"stroke:#000000; stroke-width:4; stroke-opacity:1; fill:none\" points=\"\n  1238.54,1016.41 1238.54,1445.72 1247.85,1445.72 1247.85,1016.41 1238.54,1016.41 \n  \"/>\n<path clip-path=\"url(#clip022)\" d=\"\nM1247.85 795.046 L1247.85 1445.72 L1257.16 1445.72 L1257.16 795.046 L1247.85 795.046 L1247.85 795.046  Z\n  \" fill=\"#009af9\" fill-rule=\"evenodd\" fill-opacity=\"1\"/>\n<polyline clip-path=\"url(#clip022)\" style=\"stroke:#000000; stroke-width:4; stroke-opacity:1; fill:none\" points=\"\n  1247.85,795.046 1247.85,1445.72 1257.16,1445.72 1257.16,795.046 1247.85,795.046 \n  \"/>\n<path clip-path=\"url(#clip022)\" d=\"\nM1257.16 721.259 L1257.16 1445.72 L1266.48 1445.72 L1266.48 721.259 L1257.16 721.259 L1257.16 721.259  Z\n  \" fill=\"#009af9\" fill-rule=\"evenodd\" fill-opacity=\"1\"/>\n<polyline clip-path=\"url(#clip022)\" style=\"stroke:#000000; stroke-width:4; stroke-opacity:1; fill:none\" points=\"\n  1257.16,721.259 1257.16,1445.72 1266.48,1445.72 1266.48,721.259 1257.16,721.259 \n  \"/>\n<path clip-path=\"url(#clip022)\" d=\"\nM1266.48 575.92 L1266.48 1445.72 L1275.79 1445.72 L1275.79 575.92 L1266.48 575.92 L1266.48 575.92  Z\n  \" fill=\"#009af9\" fill-rule=\"evenodd\" fill-opacity=\"1\"/>\n<polyline clip-path=\"url(#clip022)\" style=\"stroke:#000000; stroke-width:4; stroke-opacity:1; fill:none\" points=\"\n  1266.48,575.92 1266.48,1445.72 1275.79,1445.72 1275.79,575.92 1266.48,575.92 \n  \"/>\n<path clip-path=\"url(#clip022)\" d=\"\nM1275.79 482.009 L1275.79 1445.72 L1285.1 1445.72 L1285.1 482.009 L1275.79 482.009 L1275.79 482.009  Z\n  \" fill=\"#009af9\" fill-rule=\"evenodd\" fill-opacity=\"1\"/>\n<polyline clip-path=\"url(#clip022)\" style=\"stroke:#000000; stroke-width:4; stroke-opacity:1; fill:none\" points=\"\n  1275.79,482.009 1275.79,1445.72 1285.1,1445.72 1285.1,482.009 1275.79,482.009 \n  \"/>\n<path clip-path=\"url(#clip022)\" d=\"\nM1285.1 390.334 L1285.1 1445.72 L1294.41 1445.72 L1294.41 390.334 L1285.1 390.334 L1285.1 390.334  Z\n  \" fill=\"#009af9\" fill-rule=\"evenodd\" fill-opacity=\"1\"/>\n<polyline clip-path=\"url(#clip022)\" style=\"stroke:#000000; stroke-width:4; stroke-opacity:1; fill:none\" points=\"\n  1285.1,390.334 1285.1,1445.72 1294.41,1445.72 1294.41,390.334 1285.1,390.334 \n  \"/>\n<path clip-path=\"url(#clip022)\" d=\"\nM1294.41 401.514 L1294.41 1445.72 L1303.73 1445.72 L1303.73 401.514 L1294.41 401.514 L1294.41 401.514  Z\n  \" fill=\"#009af9\" fill-rule=\"evenodd\" fill-opacity=\"1\"/>\n<polyline clip-path=\"url(#clip022)\" style=\"stroke:#000000; stroke-width:4; stroke-opacity:1; fill:none\" points=\"\n  1294.41,401.514 1294.41,1445.72 1303.73,1445.72 1303.73,401.514 1294.41,401.514 \n  \"/>\n<path clip-path=\"url(#clip022)\" d=\"\nM1303.73 220.399 L1303.73 1445.72 L1313.04 1445.72 L1313.04 220.399 L1303.73 220.399 L1303.73 220.399  Z\n  \" fill=\"#009af9\" fill-rule=\"evenodd\" fill-opacity=\"1\"/>\n<polyline clip-path=\"url(#clip022)\" style=\"stroke:#000000; stroke-width:4; stroke-opacity:1; fill:none\" points=\"\n  1303.73,220.399 1303.73,1445.72 1313.04,1445.72 1313.04,220.399 1303.73,220.399 \n  \"/>\n<path clip-path=\"url(#clip022)\" d=\"\nM1313.04 247.231 L1313.04 1445.72 L1322.35 1445.72 L1322.35 247.231 L1313.04 247.231 L1313.04 247.231  Z\n  \" fill=\"#009af9\" fill-rule=\"evenodd\" fill-opacity=\"1\"/>\n<polyline clip-path=\"url(#clip022)\" style=\"stroke:#000000; stroke-width:4; stroke-opacity:1; fill:none\" points=\"\n  1313.04,247.231 1313.04,1445.72 1322.35,1445.72 1322.35,247.231 1313.04,247.231 \n  \"/>\n<path clip-path=\"url(#clip022)\" d=\"\nM1322.35 202.511 L1322.35 1445.72 L1331.66 1445.72 L1331.66 202.511 L1322.35 202.511 L1322.35 202.511  Z\n  \" fill=\"#009af9\" fill-rule=\"evenodd\" fill-opacity=\"1\"/>\n<polyline clip-path=\"url(#clip022)\" style=\"stroke:#000000; stroke-width:4; stroke-opacity:1; fill:none\" points=\"\n  1322.35,202.511 1322.35,1445.72 1331.66,1445.72 1331.66,202.511 1322.35,202.511 \n  \"/>\n<path clip-path=\"url(#clip022)\" d=\"\nM1331.66 135.432 L1331.66 1445.72 L1340.98 1445.72 L1340.98 135.432 L1331.66 135.432 L1331.66 135.432  Z\n  \" fill=\"#009af9\" fill-rule=\"evenodd\" fill-opacity=\"1\"/>\n<polyline clip-path=\"url(#clip022)\" style=\"stroke:#000000; stroke-width:4; stroke-opacity:1; fill:none\" points=\"\n  1331.66,135.432 1331.66,1445.72 1340.98,1445.72 1340.98,135.432 1331.66,135.432 \n  \"/>\n<path clip-path=\"url(#clip022)\" d=\"\nM1340.98 303.13 L1340.98 1445.72 L1350.29 1445.72 L1350.29 303.13 L1340.98 303.13 L1340.98 303.13  Z\n  \" fill=\"#009af9\" fill-rule=\"evenodd\" fill-opacity=\"1\"/>\n<polyline clip-path=\"url(#clip022)\" style=\"stroke:#000000; stroke-width:4; stroke-opacity:1; fill:none\" points=\"\n  1340.98,303.13 1340.98,1445.72 1350.29,1445.72 1350.29,303.13 1340.98,303.13 \n  \"/>\n<path clip-path=\"url(#clip022)\" d=\"\nM1350.29 341.142 L1350.29 1445.72 L1359.6 1445.72 L1359.6 341.142 L1350.29 341.142 L1350.29 341.142  Z\n  \" fill=\"#009af9\" fill-rule=\"evenodd\" fill-opacity=\"1\"/>\n<polyline clip-path=\"url(#clip022)\" style=\"stroke:#000000; stroke-width:4; stroke-opacity:1; fill:none\" points=\"\n  1350.29,341.142 1350.29,1445.72 1359.6,1445.72 1359.6,341.142 1350.29,341.142 \n  \"/>\n<path clip-path=\"url(#clip022)\" d=\"\nM1359.6 397.042 L1359.6 1445.72 L1368.91 1445.72 L1368.91 397.042 L1359.6 397.042 L1359.6 397.042  Z\n  \" fill=\"#009af9\" fill-rule=\"evenodd\" fill-opacity=\"1\"/>\n<polyline clip-path=\"url(#clip022)\" style=\"stroke:#000000; stroke-width:4; stroke-opacity:1; fill:none\" points=\"\n  1359.6,397.042 1359.6,1445.72 1368.91,1445.72 1368.91,397.042 1359.6,397.042 \n  \"/>\n<path clip-path=\"url(#clip022)\" d=\"\nM1368.91 506.605 L1368.91 1445.72 L1378.23 1445.72 L1378.23 506.605 L1368.91 506.605 L1368.91 506.605  Z\n  \" fill=\"#009af9\" fill-rule=\"evenodd\" fill-opacity=\"1\"/>\n<polyline clip-path=\"url(#clip022)\" style=\"stroke:#000000; stroke-width:4; stroke-opacity:1; fill:none\" points=\"\n  1368.91,506.605 1368.91,1445.72 1378.23,1445.72 1378.23,506.605 1368.91,506.605 \n  \"/>\n<path clip-path=\"url(#clip022)\" d=\"\nM1378.23 562.504 L1378.23 1445.72 L1387.54 1445.72 L1387.54 562.504 L1378.23 562.504 L1378.23 562.504  Z\n  \" fill=\"#009af9\" fill-rule=\"evenodd\" fill-opacity=\"1\"/>\n<polyline clip-path=\"url(#clip022)\" style=\"stroke:#000000; stroke-width:4; stroke-opacity:1; fill:none\" points=\"\n  1378.23,562.504 1378.23,1445.72 1387.54,1445.72 1387.54,562.504 1378.23,562.504 \n  \"/>\n<path clip-path=\"url(#clip022)\" d=\"\nM1387.54 645.235 L1387.54 1445.72 L1396.85 1445.72 L1396.85 645.235 L1387.54 645.235 L1387.54 645.235  Z\n  \" fill=\"#009af9\" fill-rule=\"evenodd\" fill-opacity=\"1\"/>\n<polyline clip-path=\"url(#clip022)\" style=\"stroke:#000000; stroke-width:4; stroke-opacity:1; fill:none\" points=\"\n  1387.54,645.235 1387.54,1445.72 1396.85,1445.72 1396.85,645.235 1387.54,645.235 \n  \"/>\n<path clip-path=\"url(#clip022)\" d=\"\nM1396.85 752.562 L1396.85 1445.72 L1406.16 1445.72 L1406.16 752.562 L1396.85 752.562 L1396.85 752.562  Z\n  \" fill=\"#009af9\" fill-rule=\"evenodd\" fill-opacity=\"1\"/>\n<polyline clip-path=\"url(#clip022)\" style=\"stroke:#000000; stroke-width:4; stroke-opacity:1; fill:none\" points=\"\n  1396.85,752.562 1396.85,1445.72 1406.16,1445.72 1406.16,752.562 1396.85,752.562 \n  \"/>\n<path clip-path=\"url(#clip022)\" d=\"\nM1406.16 828.586 L1406.16 1445.72 L1415.47 1445.72 L1415.47 828.586 L1406.16 828.586 L1406.16 828.586  Z\n  \" fill=\"#009af9\" fill-rule=\"evenodd\" fill-opacity=\"1\"/>\n<polyline clip-path=\"url(#clip022)\" style=\"stroke:#000000; stroke-width:4; stroke-opacity:1; fill:none\" points=\"\n  1406.16,828.586 1406.16,1445.72 1415.47,1445.72 1415.47,828.586 1406.16,828.586 \n  \"/>\n<path clip-path=\"url(#clip022)\" d=\"\nM1415.47 924.733 L1415.47 1445.72 L1424.79 1445.72 L1424.79 924.733 L1415.47 924.733 L1415.47 924.733  Z\n  \" fill=\"#009af9\" fill-rule=\"evenodd\" fill-opacity=\"1\"/>\n<polyline clip-path=\"url(#clip022)\" style=\"stroke:#000000; stroke-width:4; stroke-opacity:1; fill:none\" points=\"\n  1415.47,924.733 1415.47,1445.72 1424.79,1445.72 1424.79,924.733 1415.47,924.733 \n  \"/>\n<path clip-path=\"url(#clip022)\" d=\"\nM1424.79 1061.13 L1424.79 1445.72 L1434.1 1445.72 L1434.1 1061.13 L1424.79 1061.13 L1424.79 1061.13  Z\n  \" fill=\"#009af9\" fill-rule=\"evenodd\" fill-opacity=\"1\"/>\n<polyline clip-path=\"url(#clip022)\" style=\"stroke:#000000; stroke-width:4; stroke-opacity:1; fill:none\" points=\"\n  1424.79,1061.13 1424.79,1445.72 1434.1,1445.72 1434.1,1061.13 1424.79,1061.13 \n  \"/>\n<path clip-path=\"url(#clip022)\" d=\"\nM1434.1 1103.61 L1434.1 1445.72 L1443.41 1445.72 L1443.41 1103.61 L1434.1 1103.61 L1434.1 1103.61  Z\n  \" fill=\"#009af9\" fill-rule=\"evenodd\" fill-opacity=\"1\"/>\n<polyline clip-path=\"url(#clip022)\" style=\"stroke:#000000; stroke-width:4; stroke-opacity:1; fill:none\" points=\"\n  1434.1,1103.61 1434.1,1445.72 1443.41,1445.72 1443.41,1103.61 1434.1,1103.61 \n  \"/>\n<path clip-path=\"url(#clip022)\" d=\"\nM1443.41 1163.98 L1443.41 1445.72 L1452.72 1445.72 L1452.72 1163.98 L1443.41 1163.98 L1443.41 1163.98  Z\n  \" fill=\"#009af9\" fill-rule=\"evenodd\" fill-opacity=\"1\"/>\n<polyline clip-path=\"url(#clip022)\" style=\"stroke:#000000; stroke-width:4; stroke-opacity:1; fill:none\" points=\"\n  1443.41,1163.98 1443.41,1445.72 1452.72,1445.72 1452.72,1163.98 1443.41,1163.98 \n  \"/>\n<path clip-path=\"url(#clip022)\" d=\"\nM1452.72 1224.35 L1452.72 1445.72 L1462.04 1445.72 L1462.04 1224.35 L1452.72 1224.35 L1452.72 1224.35  Z\n  \" fill=\"#009af9\" fill-rule=\"evenodd\" fill-opacity=\"1\"/>\n<polyline clip-path=\"url(#clip022)\" style=\"stroke:#000000; stroke-width:4; stroke-opacity:1; fill:none\" points=\"\n  1452.72,1224.35 1452.72,1445.72 1462.04,1445.72 1462.04,1224.35 1452.72,1224.35 \n  \"/>\n<path clip-path=\"url(#clip022)\" d=\"\nM1462.04 1273.55 L1462.04 1445.72 L1471.35 1445.72 L1471.35 1273.55 L1462.04 1273.55 L1462.04 1273.55  Z\n  \" fill=\"#009af9\" fill-rule=\"evenodd\" fill-opacity=\"1\"/>\n<polyline clip-path=\"url(#clip022)\" style=\"stroke:#000000; stroke-width:4; stroke-opacity:1; fill:none\" points=\"\n  1462.04,1273.55 1462.04,1445.72 1471.35,1445.72 1471.35,1273.55 1462.04,1273.55 \n  \"/>\n<path clip-path=\"url(#clip022)\" d=\"\nM1471.35 1242.24 L1471.35 1445.72 L1480.66 1445.72 L1480.66 1242.24 L1471.35 1242.24 L1471.35 1242.24  Z\n  \" fill=\"#009af9\" fill-rule=\"evenodd\" fill-opacity=\"1\"/>\n<polyline clip-path=\"url(#clip022)\" style=\"stroke:#000000; stroke-width:4; stroke-opacity:1; fill:none\" points=\"\n  1471.35,1242.24 1471.35,1445.72 1480.66,1445.72 1480.66,1242.24 1471.35,1242.24 \n  \"/>\n<path clip-path=\"url(#clip022)\" d=\"\nM1480.66 1280.25 L1480.66 1445.72 L1489.97 1445.72 L1489.97 1280.25 L1480.66 1280.25 L1480.66 1280.25  Z\n  \" fill=\"#009af9\" fill-rule=\"evenodd\" fill-opacity=\"1\"/>\n<polyline clip-path=\"url(#clip022)\" style=\"stroke:#000000; stroke-width:4; stroke-opacity:1; fill:none\" points=\"\n  1480.66,1280.25 1480.66,1445.72 1489.97,1445.72 1489.97,1280.25 1480.66,1280.25 \n  \"/>\n<path clip-path=\"url(#clip022)\" d=\"\nM1489.97 1329.44 L1489.97 1445.72 L1499.29 1445.72 L1499.29 1329.44 L1489.97 1329.44 L1489.97 1329.44  Z\n  \" fill=\"#009af9\" fill-rule=\"evenodd\" fill-opacity=\"1\"/>\n<polyline clip-path=\"url(#clip022)\" style=\"stroke:#000000; stroke-width:4; stroke-opacity:1; fill:none\" points=\"\n  1489.97,1329.44 1489.97,1445.72 1499.29,1445.72 1499.29,1329.44 1489.97,1329.44 \n  \"/>\n<path clip-path=\"url(#clip022)\" d=\"\nM1499.29 1347.33 L1499.29 1445.72 L1508.6 1445.72 L1508.6 1347.33 L1499.29 1347.33 L1499.29 1347.33  Z\n  \" fill=\"#009af9\" fill-rule=\"evenodd\" fill-opacity=\"1\"/>\n<polyline clip-path=\"url(#clip022)\" style=\"stroke:#000000; stroke-width:4; stroke-opacity:1; fill:none\" points=\"\n  1499.29,1347.33 1499.29,1445.72 1508.6,1445.72 1508.6,1347.33 1499.29,1347.33 \n  \"/>\n<path clip-path=\"url(#clip022)\" d=\"\nM1508.6 1376.4 L1508.6 1445.72 L1517.91 1445.72 L1517.91 1376.4 L1508.6 1376.4 L1508.6 1376.4  Z\n  \" fill=\"#009af9\" fill-rule=\"evenodd\" fill-opacity=\"1\"/>\n<polyline clip-path=\"url(#clip022)\" style=\"stroke:#000000; stroke-width:4; stroke-opacity:1; fill:none\" points=\"\n  1508.6,1376.4 1508.6,1445.72 1517.91,1445.72 1517.91,1376.4 1508.6,1376.4 \n  \"/>\n<path clip-path=\"url(#clip022)\" d=\"\nM1517.91 1367.46 L1517.91 1445.72 L1527.22 1445.72 L1527.22 1367.46 L1517.91 1367.46 L1517.91 1367.46  Z\n  \" fill=\"#009af9\" fill-rule=\"evenodd\" fill-opacity=\"1\"/>\n<polyline clip-path=\"url(#clip022)\" style=\"stroke:#000000; stroke-width:4; stroke-opacity:1; fill:none\" points=\"\n  1517.91,1367.46 1517.91,1445.72 1527.22,1445.72 1527.22,1367.46 1517.91,1367.46 \n  \"/>\n<path clip-path=\"url(#clip022)\" d=\"\nM1527.22 1387.58 L1527.22 1445.72 L1536.54 1445.72 L1536.54 1387.58 L1527.22 1387.58 L1527.22 1387.58  Z\n  \" fill=\"#009af9\" fill-rule=\"evenodd\" fill-opacity=\"1\"/>\n<polyline clip-path=\"url(#clip022)\" style=\"stroke:#000000; stroke-width:4; stroke-opacity:1; fill:none\" points=\"\n  1527.22,1387.58 1527.22,1445.72 1536.54,1445.72 1536.54,1387.58 1527.22,1387.58 \n  \"/>\n<path clip-path=\"url(#clip022)\" d=\"\nM1536.54 1398.76 L1536.54 1445.72 L1545.85 1445.72 L1545.85 1398.76 L1536.54 1398.76 L1536.54 1398.76  Z\n  \" fill=\"#009af9\" fill-rule=\"evenodd\" fill-opacity=\"1\"/>\n<polyline clip-path=\"url(#clip022)\" style=\"stroke:#000000; stroke-width:4; stroke-opacity:1; fill:none\" points=\"\n  1536.54,1398.76 1536.54,1445.72 1545.85,1445.72 1545.85,1398.76 1536.54,1398.76 \n  \"/>\n<path clip-path=\"url(#clip022)\" d=\"\nM1545.85 1412.18 L1545.85 1445.72 L1555.16 1445.72 L1555.16 1412.18 L1545.85 1412.18 L1545.85 1412.18  Z\n  \" fill=\"#009af9\" fill-rule=\"evenodd\" fill-opacity=\"1\"/>\n<polyline clip-path=\"url(#clip022)\" style=\"stroke:#000000; stroke-width:4; stroke-opacity:1; fill:none\" points=\"\n  1545.85,1412.18 1545.85,1445.72 1555.16,1445.72 1555.16,1412.18 1545.85,1412.18 \n  \"/>\n<path clip-path=\"url(#clip022)\" d=\"\nM1555.16 1434.54 L1555.16 1445.72 L1564.47 1445.72 L1564.47 1434.54 L1555.16 1434.54 L1555.16 1434.54  Z\n  \" fill=\"#009af9\" fill-rule=\"evenodd\" fill-opacity=\"1\"/>\n<polyline clip-path=\"url(#clip022)\" style=\"stroke:#000000; stroke-width:4; stroke-opacity:1; fill:none\" points=\"\n  1555.16,1434.54 1555.16,1445.72 1564.47,1445.72 1564.47,1434.54 1555.16,1434.54 \n  \"/>\n<path clip-path=\"url(#clip022)\" d=\"\nM1564.47 1423.36 L1564.47 1445.72 L1573.79 1445.72 L1573.79 1423.36 L1564.47 1423.36 L1564.47 1423.36  Z\n  \" fill=\"#009af9\" fill-rule=\"evenodd\" fill-opacity=\"1\"/>\n<polyline clip-path=\"url(#clip022)\" style=\"stroke:#000000; stroke-width:4; stroke-opacity:1; fill:none\" points=\"\n  1564.47,1423.36 1564.47,1445.72 1573.79,1445.72 1573.79,1423.36 1564.47,1423.36 \n  \"/>\n<path clip-path=\"url(#clip022)\" d=\"\nM1573.79 1412.18 L1573.79 1445.72 L1583.1 1445.72 L1583.1 1412.18 L1573.79 1412.18 L1573.79 1412.18  Z\n  \" fill=\"#009af9\" fill-rule=\"evenodd\" fill-opacity=\"1\"/>\n<polyline clip-path=\"url(#clip022)\" style=\"stroke:#000000; stroke-width:4; stroke-opacity:1; fill:none\" points=\"\n  1573.79,1412.18 1573.79,1445.72 1583.1,1445.72 1583.1,1412.18 1573.79,1412.18 \n  \"/>\n<path clip-path=\"url(#clip022)\" d=\"\nM1583.1 1425.59 L1583.1 1445.72 L1592.41 1445.72 L1592.41 1425.59 L1583.1 1425.59 L1583.1 1425.59  Z\n  \" fill=\"#009af9\" fill-rule=\"evenodd\" fill-opacity=\"1\"/>\n<polyline clip-path=\"url(#clip022)\" style=\"stroke:#000000; stroke-width:4; stroke-opacity:1; fill:none\" points=\"\n  1583.1,1425.59 1583.1,1445.72 1592.41,1445.72 1592.41,1425.59 1583.1,1425.59 \n  \"/>\n<path clip-path=\"url(#clip022)\" d=\"\nM1592.41 1432.3 L1592.41 1445.72 L1601.72 1445.72 L1601.72 1432.3 L1592.41 1432.3 L1592.41 1432.3  Z\n  \" fill=\"#009af9\" fill-rule=\"evenodd\" fill-opacity=\"1\"/>\n<polyline clip-path=\"url(#clip022)\" style=\"stroke:#000000; stroke-width:4; stroke-opacity:1; fill:none\" points=\"\n  1592.41,1432.3 1592.41,1445.72 1601.72,1445.72 1601.72,1432.3 1592.41,1432.3 \n  \"/>\n<path clip-path=\"url(#clip022)\" d=\"\nM1601.72 1430.06 L1601.72 1445.72 L1611.04 1445.72 L1611.04 1430.06 L1601.72 1430.06 L1601.72 1430.06  Z\n  \" fill=\"#009af9\" fill-rule=\"evenodd\" fill-opacity=\"1\"/>\n<polyline clip-path=\"url(#clip022)\" style=\"stroke:#000000; stroke-width:4; stroke-opacity:1; fill:none\" points=\"\n  1601.72,1430.06 1601.72,1445.72 1611.04,1445.72 1611.04,1430.06 1601.72,1430.06 \n  \"/>\n<path clip-path=\"url(#clip022)\" d=\"\nM1611.04 1436.77 L1611.04 1445.72 L1620.35 1445.72 L1620.35 1436.77 L1611.04 1436.77 L1611.04 1436.77  Z\n  \" fill=\"#009af9\" fill-rule=\"evenodd\" fill-opacity=\"1\"/>\n<polyline clip-path=\"url(#clip022)\" style=\"stroke:#000000; stroke-width:4; stroke-opacity:1; fill:none\" points=\"\n  1611.04,1436.77 1611.04,1445.72 1620.35,1445.72 1620.35,1436.77 1611.04,1436.77 \n  \"/>\n<path clip-path=\"url(#clip022)\" d=\"\nM1620.35 1425.59 L1620.35 1445.72 L1629.66 1445.72 L1629.66 1425.59 L1620.35 1425.59 L1620.35 1425.59  Z\n  \" fill=\"#009af9\" fill-rule=\"evenodd\" fill-opacity=\"1\"/>\n<polyline clip-path=\"url(#clip022)\" style=\"stroke:#000000; stroke-width:4; stroke-opacity:1; fill:none\" points=\"\n  1620.35,1425.59 1620.35,1445.72 1629.66,1445.72 1629.66,1425.59 1620.35,1425.59 \n  \"/>\n<path clip-path=\"url(#clip022)\" d=\"\nM1629.66 1436.77 L1629.66 1445.72 L1638.97 1445.72 L1638.97 1436.77 L1629.66 1436.77 L1629.66 1436.77  Z\n  \" fill=\"#009af9\" fill-rule=\"evenodd\" fill-opacity=\"1\"/>\n<polyline clip-path=\"url(#clip022)\" style=\"stroke:#000000; stroke-width:4; stroke-opacity:1; fill:none\" points=\"\n  1629.66,1436.77 1629.66,1445.72 1638.97,1445.72 1638.97,1436.77 1629.66,1436.77 \n  \"/>\n<path clip-path=\"url(#clip022)\" d=\"\nM1638.97 1439.01 L1638.97 1445.72 L1648.29 1445.72 L1648.29 1439.01 L1638.97 1439.01 L1638.97 1439.01  Z\n  \" fill=\"#009af9\" fill-rule=\"evenodd\" fill-opacity=\"1\"/>\n<polyline clip-path=\"url(#clip022)\" style=\"stroke:#000000; stroke-width:4; stroke-opacity:1; fill:none\" points=\"\n  1638.97,1439.01 1638.97,1445.72 1648.29,1445.72 1648.29,1439.01 1638.97,1439.01 \n  \"/>\n<path clip-path=\"url(#clip022)\" d=\"\nM1648.29 1445.72 L1648.29 1445.72 L1657.6 1445.72 L1657.6 1445.72 L1648.29 1445.72 L1648.29 1445.72  Z\n  \" fill=\"#009af9\" fill-rule=\"evenodd\" fill-opacity=\"1\"/>\n<polyline clip-path=\"url(#clip022)\" style=\"stroke:#000000; stroke-width:4; stroke-opacity:1; fill:none\" points=\"\n  1648.29,1445.72 1648.29,1445.72 1657.6,1445.72 1648.29,1445.72 \n  \"/>\n<path clip-path=\"url(#clip022)\" d=\"\nM1657.6 1445.72 L1657.6 1445.72 L1666.91 1445.72 L1666.91 1445.72 L1657.6 1445.72 L1657.6 1445.72  Z\n  \" fill=\"#009af9\" fill-rule=\"evenodd\" fill-opacity=\"1\"/>\n<polyline clip-path=\"url(#clip022)\" style=\"stroke:#000000; stroke-width:4; stroke-opacity:1; fill:none\" points=\"\n  1657.6,1445.72 1657.6,1445.72 1666.91,1445.72 1657.6,1445.72 \n  \"/>\n<path clip-path=\"url(#clip022)\" d=\"\nM1666.91 1443.48 L1666.91 1445.72 L1676.22 1445.72 L1676.22 1443.48 L1666.91 1443.48 L1666.91 1443.48  Z\n  \" fill=\"#009af9\" fill-rule=\"evenodd\" fill-opacity=\"1\"/>\n<polyline clip-path=\"url(#clip022)\" style=\"stroke:#000000; stroke-width:4; stroke-opacity:1; fill:none\" points=\"\n  1666.91,1443.48 1666.91,1445.72 1676.22,1445.72 1676.22,1443.48 1666.91,1443.48 \n  \"/>\n<path clip-path=\"url(#clip022)\" d=\"\nM1676.22 1441.24 L1676.22 1445.72 L1685.53 1445.72 L1685.53 1441.24 L1676.22 1441.24 L1676.22 1441.24  Z\n  \" fill=\"#009af9\" fill-rule=\"evenodd\" fill-opacity=\"1\"/>\n<polyline clip-path=\"url(#clip022)\" style=\"stroke:#000000; stroke-width:4; stroke-opacity:1; fill:none\" points=\"\n  1676.22,1441.24 1676.22,1445.72 1685.53,1445.72 1685.53,1441.24 1676.22,1441.24 \n  \"/>\n<path clip-path=\"url(#clip022)\" d=\"\nM1685.53 1441.24 L1685.53 1445.72 L1694.85 1445.72 L1694.85 1441.24 L1685.53 1441.24 L1685.53 1441.24  Z\n  \" fill=\"#009af9\" fill-rule=\"evenodd\" fill-opacity=\"1\"/>\n<polyline clip-path=\"url(#clip022)\" style=\"stroke:#000000; stroke-width:4; stroke-opacity:1; fill:none\" points=\"\n  1685.53,1441.24 1685.53,1445.72 1694.85,1445.72 1694.85,1441.24 1685.53,1441.24 \n  \"/>\n<path clip-path=\"url(#clip022)\" d=\"\nM1694.85 1441.24 L1694.85 1445.72 L1704.16 1445.72 L1704.16 1441.24 L1694.85 1441.24 L1694.85 1441.24  Z\n  \" fill=\"#009af9\" fill-rule=\"evenodd\" fill-opacity=\"1\"/>\n<polyline clip-path=\"url(#clip022)\" style=\"stroke:#000000; stroke-width:4; stroke-opacity:1; fill:none\" points=\"\n  1694.85,1441.24 1694.85,1445.72 1704.16,1445.72 1704.16,1441.24 1694.85,1441.24 \n  \"/>\n<path clip-path=\"url(#clip022)\" d=\"\nM1704.16 1443.48 L1704.16 1445.72 L1713.47 1445.72 L1713.47 1443.48 L1704.16 1443.48 L1704.16 1443.48  Z\n  \" fill=\"#009af9\" fill-rule=\"evenodd\" fill-opacity=\"1\"/>\n<polyline clip-path=\"url(#clip022)\" style=\"stroke:#000000; stroke-width:4; stroke-opacity:1; fill:none\" points=\"\n  1704.16,1443.48 1704.16,1445.72 1713.47,1445.72 1713.47,1443.48 1704.16,1443.48 \n  \"/>\n<path clip-path=\"url(#clip022)\" d=\"\nM1713.47 1445.72 L1713.47 1445.72 L1722.78 1445.72 L1722.78 1445.72 L1713.47 1445.72 L1713.47 1445.72  Z\n  \" fill=\"#009af9\" fill-rule=\"evenodd\" fill-opacity=\"1\"/>\n<polyline clip-path=\"url(#clip022)\" style=\"stroke:#000000; stroke-width:4; stroke-opacity:1; fill:none\" points=\"\n  1713.47,1445.72 1713.47,1445.72 1722.78,1445.72 1713.47,1445.72 \n  \"/>\n<path clip-path=\"url(#clip022)\" d=\"\nM1722.78 1441.24 L1722.78 1445.72 L1732.1 1445.72 L1732.1 1441.24 L1722.78 1441.24 L1722.78 1441.24  Z\n  \" fill=\"#009af9\" fill-rule=\"evenodd\" fill-opacity=\"1\"/>\n<polyline clip-path=\"url(#clip022)\" style=\"stroke:#000000; stroke-width:4; stroke-opacity:1; fill:none\" points=\"\n  1722.78,1441.24 1722.78,1445.72 1732.1,1445.72 1732.1,1441.24 1722.78,1441.24 \n  \"/>\n<path clip-path=\"url(#clip022)\" d=\"\nM1732.1 1445.72 L1732.1 1445.72 L1741.41 1445.72 L1741.41 1445.72 L1732.1 1445.72 L1732.1 1445.72  Z\n  \" fill=\"#009af9\" fill-rule=\"evenodd\" fill-opacity=\"1\"/>\n<polyline clip-path=\"url(#clip022)\" style=\"stroke:#000000; stroke-width:4; stroke-opacity:1; fill:none\" points=\"\n  1732.1,1445.72 1732.1,1445.72 1741.41,1445.72 1732.1,1445.72 \n  \"/>\n<path clip-path=\"url(#clip022)\" d=\"\nM1741.41 1443.48 L1741.41 1445.72 L1750.72 1445.72 L1750.72 1443.48 L1741.41 1443.48 L1741.41 1443.48  Z\n  \" fill=\"#009af9\" fill-rule=\"evenodd\" fill-opacity=\"1\"/>\n<polyline clip-path=\"url(#clip022)\" style=\"stroke:#000000; stroke-width:4; stroke-opacity:1; fill:none\" points=\"\n  1741.41,1443.48 1741.41,1445.72 1750.72,1445.72 1750.72,1443.48 1741.41,1443.48 \n  \"/>\n<path clip-path=\"url(#clip022)\" d=\"\nM1750.72 1445.72 L1750.72 1445.72 L1760.03 1445.72 L1760.03 1445.72 L1750.72 1445.72 L1750.72 1445.72  Z\n  \" fill=\"#009af9\" fill-rule=\"evenodd\" fill-opacity=\"1\"/>\n<polyline clip-path=\"url(#clip022)\" style=\"stroke:#000000; stroke-width:4; stroke-opacity:1; fill:none\" points=\"\n  1750.72,1445.72 1750.72,1445.72 1760.03,1445.72 1750.72,1445.72 \n  \"/>\n<path clip-path=\"url(#clip022)\" d=\"\nM1760.03 1443.48 L1760.03 1445.72 L1769.35 1445.72 L1769.35 1443.48 L1760.03 1443.48 L1760.03 1443.48  Z\n  \" fill=\"#009af9\" fill-rule=\"evenodd\" fill-opacity=\"1\"/>\n<polyline clip-path=\"url(#clip022)\" style=\"stroke:#000000; stroke-width:4; stroke-opacity:1; fill:none\" points=\"\n  1760.03,1443.48 1760.03,1445.72 1769.35,1445.72 1769.35,1443.48 1760.03,1443.48 \n  \"/>\n<path clip-path=\"url(#clip022)\" d=\"\nM1769.35 1443.48 L1769.35 1445.72 L1778.66 1445.72 L1778.66 1443.48 L1769.35 1443.48 L1769.35 1443.48  Z\n  \" fill=\"#009af9\" fill-rule=\"evenodd\" fill-opacity=\"1\"/>\n<polyline clip-path=\"url(#clip022)\" style=\"stroke:#000000; stroke-width:4; stroke-opacity:1; fill:none\" points=\"\n  1769.35,1443.48 1769.35,1445.72 1778.66,1445.72 1778.66,1443.48 1769.35,1443.48 \n  \"/>\n<path clip-path=\"url(#clip022)\" d=\"\nM1778.66 1443.48 L1778.66 1445.72 L1787.97 1445.72 L1787.97 1443.48 L1778.66 1443.48 L1778.66 1443.48  Z\n  \" fill=\"#009af9\" fill-rule=\"evenodd\" fill-opacity=\"1\"/>\n<polyline clip-path=\"url(#clip022)\" style=\"stroke:#000000; stroke-width:4; stroke-opacity:1; fill:none\" points=\"\n  1778.66,1443.48 1778.66,1445.72 1787.97,1445.72 1787.97,1443.48 1778.66,1443.48 \n  \"/>\n<path clip-path=\"url(#clip022)\" d=\"\nM1787.97 1445.72 L1787.97 1445.72 L1797.28 1445.72 L1797.28 1445.72 L1787.97 1445.72 L1787.97 1445.72  Z\n  \" fill=\"#009af9\" fill-rule=\"evenodd\" fill-opacity=\"1\"/>\n<polyline clip-path=\"url(#clip022)\" style=\"stroke:#000000; stroke-width:4; stroke-opacity:1; fill:none\" points=\"\n  1787.97,1445.72 1787.97,1445.72 1797.28,1445.72 1787.97,1445.72 \n  \"/>\n<path clip-path=\"url(#clip022)\" d=\"\nM1797.28 1445.72 L1797.28 1445.72 L1806.6 1445.72 L1806.6 1445.72 L1797.28 1445.72 L1797.28 1445.72  Z\n  \" fill=\"#009af9\" fill-rule=\"evenodd\" fill-opacity=\"1\"/>\n<polyline clip-path=\"url(#clip022)\" style=\"stroke:#000000; stroke-width:4; stroke-opacity:1; fill:none\" points=\"\n  1797.28,1445.72 1797.28,1445.72 1806.6,1445.72 1797.28,1445.72 \n  \"/>\n<path clip-path=\"url(#clip022)\" d=\"\nM1806.6 1445.72 L1806.6 1445.72 L1815.91 1445.72 L1815.91 1445.72 L1806.6 1445.72 L1806.6 1445.72  Z\n  \" fill=\"#009af9\" fill-rule=\"evenodd\" fill-opacity=\"1\"/>\n<polyline clip-path=\"url(#clip022)\" style=\"stroke:#000000; stroke-width:4; stroke-opacity:1; fill:none\" points=\"\n  1806.6,1445.72 1806.6,1445.72 1815.91,1445.72 1806.6,1445.72 \n  \"/>\n<path clip-path=\"url(#clip022)\" d=\"\nM1815.91 1445.72 L1815.91 1445.72 L1825.22 1445.72 L1825.22 1445.72 L1815.91 1445.72 L1815.91 1445.72  Z\n  \" fill=\"#009af9\" fill-rule=\"evenodd\" fill-opacity=\"1\"/>\n<polyline clip-path=\"url(#clip022)\" style=\"stroke:#000000; stroke-width:4; stroke-opacity:1; fill:none\" points=\"\n  1815.91,1445.72 1815.91,1445.72 1825.22,1445.72 1815.91,1445.72 \n  \"/>\n<path clip-path=\"url(#clip022)\" d=\"\nM1825.22 1445.72 L1825.22 1445.72 L1834.53 1445.72 L1834.53 1445.72 L1825.22 1445.72 L1825.22 1445.72  Z\n  \" fill=\"#009af9\" fill-rule=\"evenodd\" fill-opacity=\"1\"/>\n<polyline clip-path=\"url(#clip022)\" style=\"stroke:#000000; stroke-width:4; stroke-opacity:1; fill:none\" points=\"\n  1825.22,1445.72 1825.22,1445.72 1834.53,1445.72 1825.22,1445.72 \n  \"/>\n<path clip-path=\"url(#clip022)\" d=\"\nM1834.53 1445.72 L1834.53 1445.72 L1843.85 1445.72 L1843.85 1445.72 L1834.53 1445.72 L1834.53 1445.72  Z\n  \" fill=\"#009af9\" fill-rule=\"evenodd\" fill-opacity=\"1\"/>\n<polyline clip-path=\"url(#clip022)\" style=\"stroke:#000000; stroke-width:4; stroke-opacity:1; fill:none\" points=\"\n  1834.53,1445.72 1834.53,1445.72 1843.85,1445.72 1834.53,1445.72 \n  \"/>\n<path clip-path=\"url(#clip022)\" d=\"\nM1843.85 1445.72 L1843.85 1445.72 L1853.16 1445.72 L1853.16 1445.72 L1843.85 1445.72 L1843.85 1445.72  Z\n  \" fill=\"#009af9\" fill-rule=\"evenodd\" fill-opacity=\"1\"/>\n<polyline clip-path=\"url(#clip022)\" style=\"stroke:#000000; stroke-width:4; stroke-opacity:1; fill:none\" points=\"\n  1843.85,1445.72 1843.85,1445.72 1853.16,1445.72 1843.85,1445.72 \n  \"/>\n<path clip-path=\"url(#clip022)\" d=\"\nM1853.16 1445.72 L1853.16 1445.72 L1862.47 1445.72 L1862.47 1445.72 L1853.16 1445.72 L1853.16 1445.72  Z\n  \" fill=\"#009af9\" fill-rule=\"evenodd\" fill-opacity=\"1\"/>\n<polyline clip-path=\"url(#clip022)\" style=\"stroke:#000000; stroke-width:4; stroke-opacity:1; fill:none\" points=\"\n  1853.16,1445.72 1853.16,1445.72 1862.47,1445.72 1853.16,1445.72 \n  \"/>\n<path clip-path=\"url(#clip022)\" d=\"\nM1862.47 1443.48 L1862.47 1445.72 L1871.78 1445.72 L1871.78 1443.48 L1862.47 1443.48 L1862.47 1443.48  Z\n  \" fill=\"#009af9\" fill-rule=\"evenodd\" fill-opacity=\"1\"/>\n<polyline clip-path=\"url(#clip022)\" style=\"stroke:#000000; stroke-width:4; stroke-opacity:1; fill:none\" points=\"\n  1862.47,1443.48 1862.47,1445.72 1871.78,1445.72 1871.78,1443.48 1862.47,1443.48 \n  \"/>\n<polyline clip-path=\"url(#clip022)\" style=\"stroke:#e26f46; stroke-width:4; stroke-opacity:1; fill:none\" points=\"\n  210.724,1445.71 221.174,1445.7 231.625,1445.71 242.075,1445.71 252.526,1445.7 262.976,1445.71 273.426,1445.72 283.877,1445.72 294.327,1445.72 304.778,1445.72 \n  315.228,1445.72 325.679,1445.72 336.129,1445.72 346.58,1445.72 357.03,1445.72 367.481,1445.72 377.931,1445.72 388.382,1445.72 398.832,1445.72 409.283,1445.71 \n  419.733,1445.7 430.183,1445.71 440.634,1445.72 451.084,1445.72 461.535,1445.72 471.985,1445.72 482.436,1445.72 492.886,1445.72 503.337,1445.71 513.787,1445.7 \n  524.238,1445.71 534.688,1445.71 545.139,1445.7 555.589,1445.7 566.04,1445.69 576.49,1445.71 586.94,1445.72 597.391,1445.71 607.841,1445.67 618.292,1445.69 \n  628.742,1445.71 639.193,1445.7 649.643,1445.68 660.094,1445.67 670.544,1445.7 680.995,1445.69 691.445,1445.67 701.896,1445.66 712.346,1445.68 722.797,1445.64 \n  733.247,1445.66 743.697,1445.66 754.148,1445.63 764.598,1445.64 775.049,1445.64 785.499,1445.59 795.95,1445.62 806.4,1445.61 816.851,1445.6 827.301,1445.63 \n  837.752,1445.57 848.202,1445.47 858.653,1445.39 869.103,1445.39 879.554,1445.41 890.004,1445.24 900.455,1445.28 910.905,1445.24 921.355,1445.16 931.806,1445.18 \n  942.256,1444.94 952.707,1444.85 963.157,1444.65 973.608,1444.5 984.058,1444.07 994.509,1443.9 1004.96,1443.32 1015.41,1442.84 1025.86,1442.4 1036.31,1441.94 \n  1046.76,1440.98 1057.21,1439.9 1067.66,1438.77 1078.11,1437.07 1088.56,1434.61 1099.01,1431.9 1109.46,1429.16 1119.91,1424.7 1130.36,1418.37 1140.82,1412.54 \n  1151.27,1403.36 1161.72,1392.63 1172.17,1377.21 1182.62,1359.38 1193.07,1332.95 1203.52,1299.13 1213.97,1256.13 1224.42,1205.25 1234.87,1136.93 1245.32,1055.35 \n  1255.77,959.311 1266.22,840.194 1276.67,707.023 1287.12,570.849 1297.57,434.579 1308.02,293.455 1318.47,183.688 1328.92,113.903 1339.37,87.9763 1349.82,110.179 \n  1360.28,186.077 1370.73,298.497 1381.18,432.687 1391.63,568.821 1402.08,709.704 1412.53,841.434 1422.98,955.854 1433.43,1053.64 1443.88,1135.48 1454.33,1202.48 \n  1464.78,1257.34 1475.23,1298.09 1485.68,1329.7 1496.13,1356.18 1506.58,1377.21 1517.03,1392.3 1527.48,1401.62 1537.93,1410.38 1548.38,1418.43 1558.83,1424.6 \n  1569.28,1428.9 1579.73,1432.6 1590.19,1435.47 1600.64,1436.87 1611.09,1438.51 1621.54,1440.03 1631.99,1441.2 1642.44,1441.97 1652.89,1442.39 1663.34,1442.9 \n  1673.79,1443.45 1684.24,1443.79 1694.69,1444.13 1705.14,1444.24 1715.59,1444.33 1726.04,1444.8 1736.49,1444.93 1746.94,1445.08 1757.39,1445.19 1767.84,1445.35 \n  1778.29,1445.22 1788.74,1445.33 1799.19,1445.37 1809.65,1445.49 1820.1,1445.49 1830.55,1445.52 1841,1445.58 1851.45,1445.62 1861.9,1445.62 1872.35,1445.58 \n  1882.8,1445.55 1893.25,1445.54 1903.7,1445.61 1914.15,1445.6 1924.6,1445.55 1935.05,1445.65 1945.5,1445.68 1955.95,1445.7 1966.4,1445.67 1976.85,1445.63 \n  1987.3,1445.65 1997.75,1445.67 2008.2,1445.66 2018.65,1445.66 2029.1,1445.68 2039.56,1445.7 2050.01,1445.69 2060.46,1445.69 2070.91,1445.7 2081.36,1445.7 \n  2091.81,1445.71 2102.26,1445.69 2112.71,1445.69 2123.16,1445.68 2133.61,1445.71 2144.06,1445.7 2154.51,1445.7 2164.96,1445.7 2175.41,1445.71 2185.86,1445.72 \n  2196.31,1445.72 2206.76,1445.72 2217.21,1445.72 2227.66,1445.71 2238.11,1445.7 2248.56,1445.71 2259.02,1445.72 2269.47,1445.71 2279.92,1445.7 2290.37,1445.71 \n  \n  \"/>\n<path clip-path=\"url(#clip020)\" d=\"\nM1983.32 276.658 L2279.28 276.658 L2279.28 95.2176 L1983.32 95.2176  Z\n  \" fill=\"#ffffff\" fill-rule=\"evenodd\" fill-opacity=\"1\"/>\n<polyline clip-path=\"url(#clip020)\" style=\"stroke:#000000; stroke-width:4; stroke-opacity:1; fill:none\" points=\"\n  1983.32,276.658 2279.28,276.658 2279.28,95.2176 1983.32,95.2176 1983.32,276.658 \n  \"/>\n<path clip-path=\"url(#clip020)\" d=\"\nM2007.81 179.89 L2154.78 179.89 L2154.78 131.506 L2007.81 131.506 L2007.81 179.89  Z\n  \" fill=\"#009af9\" fill-rule=\"evenodd\" fill-opacity=\"1\"/>\n<polyline clip-path=\"url(#clip020)\" style=\"stroke:#000000; stroke-width:4; stroke-opacity:1; fill:none\" points=\"\n  2007.81,179.89 2154.78,179.89 2154.78,131.506 2007.81,131.506 2007.81,179.89 \n  \"/>\n<path clip-path=\"url(#clip020)\" d=\"M 0 0 M2193.11 175.385 Q2191.31 180.015 2189.59 181.427 Q2187.88 182.839 2185.01 182.839 L2181.61 182.839 L2181.61 179.274 L2184.11 179.274 Q2185.87 179.274 2186.84 178.44 Q2187.81 177.607 2188.99 174.505 L2189.76 172.561 L2179.27 147.052 L2183.78 147.052 L2191.89 167.329 L2199.99 147.052 L2204.5 147.052 L2193.11 175.385 Z\" fill=\"#000000\" fill-rule=\"evenodd\" fill-opacity=\"1\" /><path clip-path=\"url(#clip020)\" d=\"M 0 0 M2210.38 169.042 L2218.02 169.042 L2218.02 142.677 L2209.71 144.343 L2209.71 140.084 L2217.97 138.418 L2222.65 138.418 L2222.65 169.042 L2230.29 169.042 L2230.29 172.978 L2210.38 172.978 L2210.38 169.042 Z\" fill=\"#000000\" fill-rule=\"evenodd\" fill-opacity=\"1\" /><polyline clip-path=\"url(#clip020)\" style=\"stroke:#e26f46; stroke-width:4; stroke-opacity:1; fill:none\" points=\"\n  2007.81,216.178 2154.78,216.178 \n  \"/>\n<path clip-path=\"url(#clip020)\" d=\"M 0 0 M2193.11 235.865 Q2191.31 240.495 2189.59 241.907 Q2187.88 243.319 2185.01 243.319 L2181.61 243.319 L2181.61 239.754 L2184.11 239.754 Q2185.87 239.754 2186.84 238.92 Q2187.81 238.087 2188.99 234.985 L2189.76 233.041 L2179.27 207.532 L2183.78 207.532 L2191.89 227.809 L2199.99 207.532 L2204.5 207.532 L2193.11 235.865 Z\" fill=\"#000000\" fill-rule=\"evenodd\" fill-opacity=\"1\" /><path clip-path=\"url(#clip020)\" d=\"M 0 0 M2213.6 229.522 L2229.92 229.522 L2229.92 233.458 L2207.97 233.458 L2207.97 229.522 Q2210.64 226.768 2215.22 222.138 Q2219.83 217.485 2221.01 216.143 Q2223.25 213.62 2224.13 211.884 Q2225.03 210.124 2225.03 208.435 Q2225.03 205.68 2223.09 203.944 Q2221.17 202.208 2218.07 202.208 Q2215.87 202.208 2213.41 202.972 Q2210.98 203.735 2208.2 205.286 L2208.2 200.564 Q2211.03 199.43 2213.48 198.851 Q2215.94 198.273 2217.97 198.273 Q2223.34 198.273 2226.54 200.958 Q2229.73 203.643 2229.73 208.134 Q2229.73 210.263 2228.92 212.185 Q2228.14 214.083 2226.03 216.675 Q2225.45 217.347 2222.35 220.564 Q2219.25 223.759 2213.6 229.522 Z\" fill=\"#000000\" fill-rule=\"evenodd\" fill-opacity=\"1\" /></svg>\n"
     },
     "execution_count": 10,
     "metadata": {},
     "output_type": "execute_result"
    }
   ],
   "source": [
    "histogram(log.(S[1]), normalize= true)\n",
    "density!(rand(LocationScale(μ0, 1/sqrt(10.205), TDist(5.71)), 1_000_000))"
   ]
  },
  {
   "cell_type": "code",
   "execution_count": 11,
   "id": "c4fe485e",
   "metadata": {},
   "outputs": [
    {
     "data": {
      "image/svg+xml": "<?xml version=\"1.0\" encoding=\"utf-8\"?>\n<svg xmlns=\"http://www.w3.org/2000/svg\" xmlns:xlink=\"http://www.w3.org/1999/xlink\" width=\"600\" height=\"400\" viewBox=\"0 0 2400 1600\">\n<defs>\n  <clipPath id=\"clip060\">\n    <rect x=\"0\" y=\"0\" width=\"2400\" height=\"1600\"/>\n  </clipPath>\n</defs>\n<path clip-path=\"url(#clip060)\" d=\"\nM0 1600 L2400 1600 L2400 0 L0 0  Z\n  \" fill=\"#ffffff\" fill-rule=\"evenodd\" fill-opacity=\"1\"/>\n<defs>\n  <clipPath id=\"clip061\">\n    <rect x=\"480\" y=\"0\" width=\"1681\" height=\"1600\"/>\n  </clipPath>\n</defs>\n<path clip-path=\"url(#clip060)\" d=\"\nM174.862 1486.45 L2352.76 1486.45 L2352.76 47.2441 L174.862 47.2441  Z\n  \" fill=\"#ffffff\" fill-rule=\"evenodd\" fill-opacity=\"1\"/>\n<defs>\n  <clipPath id=\"clip062\">\n    <rect x=\"174\" y=\"47\" width=\"2179\" height=\"1440\"/>\n  </clipPath>\n</defs>\n<polyline clip-path=\"url(#clip062)\" style=\"stroke:#000000; stroke-width:2; stroke-opacity:0.1; fill:none\" points=\"\n  507.792,1486.45 507.792,47.2441 \n  \"/>\n<polyline clip-path=\"url(#clip062)\" style=\"stroke:#000000; stroke-width:2; stroke-opacity:0.1; fill:none\" points=\"\n  857.571,1486.45 857.571,47.2441 \n  \"/>\n<polyline clip-path=\"url(#clip062)\" style=\"stroke:#000000; stroke-width:2; stroke-opacity:0.1; fill:none\" points=\"\n  1207.35,1486.45 1207.35,47.2441 \n  \"/>\n<polyline clip-path=\"url(#clip062)\" style=\"stroke:#000000; stroke-width:2; stroke-opacity:0.1; fill:none\" points=\"\n  1557.13,1486.45 1557.13,47.2441 \n  \"/>\n<polyline clip-path=\"url(#clip062)\" style=\"stroke:#000000; stroke-width:2; stroke-opacity:0.1; fill:none\" points=\"\n  1906.91,1486.45 1906.91,47.2441 \n  \"/>\n<polyline clip-path=\"url(#clip062)\" style=\"stroke:#000000; stroke-width:2; stroke-opacity:0.1; fill:none\" points=\"\n  2256.69,1486.45 2256.69,47.2441 \n  \"/>\n<polyline clip-path=\"url(#clip060)\" style=\"stroke:#000000; stroke-width:4; stroke-opacity:1; fill:none\" points=\"\n  174.862,1486.45 2352.76,1486.45 \n  \"/>\n<polyline clip-path=\"url(#clip060)\" style=\"stroke:#000000; stroke-width:4; stroke-opacity:1; fill:none\" points=\"\n  507.792,1486.45 507.792,1469.18 \n  \"/>\n<polyline clip-path=\"url(#clip060)\" style=\"stroke:#000000; stroke-width:4; stroke-opacity:1; fill:none\" points=\"\n  857.571,1486.45 857.571,1469.18 \n  \"/>\n<polyline clip-path=\"url(#clip060)\" style=\"stroke:#000000; stroke-width:4; stroke-opacity:1; fill:none\" points=\"\n  1207.35,1486.45 1207.35,1469.18 \n  \"/>\n<polyline clip-path=\"url(#clip060)\" style=\"stroke:#000000; stroke-width:4; stroke-opacity:1; fill:none\" points=\"\n  1557.13,1486.45 1557.13,1469.18 \n  \"/>\n<polyline clip-path=\"url(#clip060)\" style=\"stroke:#000000; stroke-width:4; stroke-opacity:1; fill:none\" points=\"\n  1906.91,1486.45 1906.91,1469.18 \n  \"/>\n<polyline clip-path=\"url(#clip060)\" style=\"stroke:#000000; stroke-width:4; stroke-opacity:1; fill:none\" points=\"\n  2256.69,1486.45 2256.69,1469.18 \n  \"/>\n<path clip-path=\"url(#clip060)\" d=\"M 0 0 M498.093 1546.4 L498.093 1542.14 Q499.852 1542.98 501.658 1543.42 Q503.464 1543.86 505.2 1543.86 Q509.829 1543.86 512.26 1540.75 Q514.714 1537.63 515.061 1531.29 Q513.718 1533.28 511.658 1534.34 Q509.598 1535.41 507.098 1535.41 Q501.913 1535.41 498.88 1532.28 Q495.871 1529.13 495.871 1523.69 Q495.871 1518.37 499.019 1515.15 Q502.167 1511.93 507.399 1511.93 Q513.394 1511.93 516.542 1516.54 Q519.713 1521.12 519.713 1529.87 Q519.713 1538.05 515.825 1542.93 Q511.959 1547.79 505.408 1547.79 Q503.649 1547.79 501.843 1547.44 Q500.038 1547.1 498.093 1546.4 M507.399 1531.75 Q510.547 1531.75 512.376 1529.6 Q514.227 1527.44 514.227 1523.69 Q514.227 1519.97 512.376 1517.81 Q510.547 1515.64 507.399 1515.64 Q504.251 1515.64 502.399 1517.81 Q500.57 1519.97 500.57 1523.69 Q500.57 1527.44 502.399 1529.6 Q504.251 1531.75 507.399 1531.75 Z\" fill=\"#000000\" fill-rule=\"evenodd\" fill-opacity=\"1\" /><path clip-path=\"url(#clip060)\" d=\"M 0 0 M834.446 1543.18 L842.085 1543.18 L842.085 1516.82 L833.775 1518.49 L833.775 1514.23 L842.039 1512.56 L846.715 1512.56 L846.715 1543.18 L854.354 1543.18 L854.354 1547.12 L834.446 1547.12 L834.446 1543.18 Z\" fill=\"#000000\" fill-rule=\"evenodd\" fill-opacity=\"1\" /><path clip-path=\"url(#clip060)\" d=\"M 0 0 M869.423 1515.64 Q865.812 1515.64 863.983 1519.2 Q862.178 1522.75 862.178 1529.87 Q862.178 1536.98 863.983 1540.55 Q865.812 1544.09 869.423 1544.09 Q873.057 1544.09 874.863 1540.55 Q876.692 1536.98 876.692 1529.87 Q876.692 1522.75 874.863 1519.2 Q873.057 1515.64 869.423 1515.64 M869.423 1511.93 Q875.233 1511.93 878.289 1516.54 Q881.367 1521.12 881.367 1529.87 Q881.367 1538.6 878.289 1543.21 Q875.233 1547.79 869.423 1547.79 Q863.613 1547.79 860.534 1543.21 Q857.479 1538.6 857.479 1529.87 Q857.479 1521.12 860.534 1516.54 Q863.613 1511.93 869.423 1511.93 Z\" fill=\"#000000\" fill-rule=\"evenodd\" fill-opacity=\"1\" /><path clip-path=\"url(#clip060)\" d=\"M 0 0 M1184.84 1543.18 L1192.48 1543.18 L1192.48 1516.82 L1184.17 1518.49 L1184.17 1514.23 L1192.43 1512.56 L1197.11 1512.56 L1197.11 1543.18 L1204.75 1543.18 L1204.75 1547.12 L1184.84 1547.12 L1184.84 1543.18 Z\" fill=\"#000000\" fill-rule=\"evenodd\" fill-opacity=\"1\" /><path clip-path=\"url(#clip060)\" d=\"M 0 0 M1210.63 1543.18 L1218.26 1543.18 L1218.26 1516.82 L1209.95 1518.49 L1209.95 1514.23 L1218.22 1512.56 L1222.89 1512.56 L1222.89 1543.18 L1230.53 1543.18 L1230.53 1547.12 L1210.63 1547.12 L1210.63 1543.18 Z\" fill=\"#000000\" fill-rule=\"evenodd\" fill-opacity=\"1\" /><path clip-path=\"url(#clip060)\" d=\"M 0 0 M1534.8 1543.18 L1542.44 1543.18 L1542.44 1516.82 L1534.13 1518.49 L1534.13 1514.23 L1542.4 1512.56 L1547.07 1512.56 L1547.07 1543.18 L1554.71 1543.18 L1554.71 1547.12 L1534.8 1547.12 L1534.8 1543.18 Z\" fill=\"#000000\" fill-rule=\"evenodd\" fill-opacity=\"1\" /><path clip-path=\"url(#clip060)\" d=\"M 0 0 M1563.81 1543.18 L1580.13 1543.18 L1580.13 1547.12 L1558.18 1547.12 L1558.18 1543.18 Q1560.84 1540.43 1565.43 1535.8 Q1570.03 1531.15 1571.21 1529.81 Q1573.46 1527.28 1574.34 1525.55 Q1575.24 1523.79 1575.24 1522.1 Q1575.24 1519.34 1573.3 1517.61 Q1571.38 1515.87 1568.28 1515.87 Q1566.08 1515.87 1563.62 1516.63 Q1561.19 1517.4 1558.41 1518.95 L1558.41 1514.23 Q1561.24 1513.09 1563.69 1512.51 Q1566.15 1511.93 1568.18 1511.93 Q1573.55 1511.93 1576.75 1514.62 Q1579.94 1517.31 1579.94 1521.8 Q1579.94 1523.93 1579.13 1525.85 Q1578.34 1527.74 1576.24 1530.34 Q1575.66 1531.01 1572.56 1534.23 Q1569.46 1537.42 1563.81 1543.18 Z\" fill=\"#000000\" fill-rule=\"evenodd\" fill-opacity=\"1\" /><path clip-path=\"url(#clip060)\" d=\"M 0 0 M1884.11 1543.18 L1891.75 1543.18 L1891.75 1516.82 L1883.44 1518.49 L1883.44 1514.23 L1891.7 1512.56 L1896.38 1512.56 L1896.38 1543.18 L1904.01 1543.18 L1904.01 1547.12 L1884.11 1547.12 L1884.11 1543.18 Z\" fill=\"#000000\" fill-rule=\"evenodd\" fill-opacity=\"1\" /><path clip-path=\"url(#clip060)\" d=\"M 0 0 M1923.25 1528.49 Q1926.61 1529.2 1928.48 1531.47 Q1930.38 1533.74 1930.38 1537.07 Q1930.38 1542.19 1926.86 1544.99 Q1923.34 1547.79 1916.86 1547.79 Q1914.69 1547.79 1912.37 1547.35 Q1910.08 1546.93 1907.63 1546.08 L1907.63 1541.56 Q1909.57 1542.7 1911.89 1543.28 Q1914.2 1543.86 1916.72 1543.86 Q1921.12 1543.86 1923.41 1542.12 Q1925.73 1540.38 1925.73 1537.07 Q1925.73 1534.02 1923.57 1532.31 Q1921.45 1530.57 1917.63 1530.57 L1913.6 1530.57 L1913.6 1526.73 L1917.81 1526.73 Q1921.26 1526.73 1923.09 1525.36 Q1924.92 1523.97 1924.92 1521.38 Q1924.92 1518.72 1923.02 1517.31 Q1921.14 1515.87 1917.63 1515.87 Q1915.7 1515.87 1913.51 1516.29 Q1911.31 1516.7 1908.67 1517.58 L1908.67 1513.42 Q1911.33 1512.68 1913.64 1512.31 Q1915.98 1511.93 1918.04 1511.93 Q1923.37 1511.93 1926.47 1514.37 Q1929.57 1516.77 1929.57 1520.89 Q1929.57 1523.76 1927.93 1525.75 Q1926.28 1527.72 1923.25 1528.49 Z\" fill=\"#000000\" fill-rule=\"evenodd\" fill-opacity=\"1\" /><path clip-path=\"url(#clip060)\" d=\"M 0 0 M2233.32 1543.18 L2240.96 1543.18 L2240.96 1516.82 L2232.65 1518.49 L2232.65 1514.23 L2240.91 1512.56 L2245.59 1512.56 L2245.59 1543.18 L2253.23 1543.18 L2253.23 1547.12 L2233.32 1547.12 L2233.32 1543.18 Z\" fill=\"#000000\" fill-rule=\"evenodd\" fill-opacity=\"1\" /><path clip-path=\"url(#clip060)\" d=\"M 0 0 M2271.14 1516.63 L2259.34 1535.08 L2271.14 1535.08 L2271.14 1516.63 M2269.92 1512.56 L2275.8 1512.56 L2275.8 1535.08 L2280.73 1535.08 L2280.73 1538.97 L2275.8 1538.97 L2275.8 1547.12 L2271.14 1547.12 L2271.14 1538.97 L2255.54 1538.97 L2255.54 1534.46 L2269.92 1512.56 Z\" fill=\"#000000\" fill-rule=\"evenodd\" fill-opacity=\"1\" /><polyline clip-path=\"url(#clip062)\" style=\"stroke:#000000; stroke-width:2; stroke-opacity:0.1; fill:none\" points=\"\n  174.862,1445.72 2352.76,1445.72 \n  \"/>\n<polyline clip-path=\"url(#clip062)\" style=\"stroke:#000000; stroke-width:2; stroke-opacity:0.1; fill:none\" points=\"\n  174.862,1200.41 2352.76,1200.41 \n  \"/>\n<polyline clip-path=\"url(#clip062)\" style=\"stroke:#000000; stroke-width:2; stroke-opacity:0.1; fill:none\" points=\"\n  174.862,955.11 2352.76,955.11 \n  \"/>\n<polyline clip-path=\"url(#clip062)\" style=\"stroke:#000000; stroke-width:2; stroke-opacity:0.1; fill:none\" points=\"\n  174.862,709.807 2352.76,709.807 \n  \"/>\n<polyline clip-path=\"url(#clip062)\" style=\"stroke:#000000; stroke-width:2; stroke-opacity:0.1; fill:none\" points=\"\n  174.862,464.504 2352.76,464.504 \n  \"/>\n<polyline clip-path=\"url(#clip062)\" style=\"stroke:#000000; stroke-width:2; stroke-opacity:0.1; fill:none\" points=\"\n  174.862,219.202 2352.76,219.202 \n  \"/>\n<polyline clip-path=\"url(#clip060)\" style=\"stroke:#000000; stroke-width:4; stroke-opacity:1; fill:none\" points=\"\n  174.862,1486.45 174.862,47.2441 \n  \"/>\n<polyline clip-path=\"url(#clip060)\" style=\"stroke:#000000; stroke-width:4; stroke-opacity:1; fill:none\" points=\"\n  174.862,1445.72 200.997,1445.72 \n  \"/>\n<polyline clip-path=\"url(#clip060)\" style=\"stroke:#000000; stroke-width:4; stroke-opacity:1; fill:none\" points=\"\n  174.862,1200.41 200.997,1200.41 \n  \"/>\n<polyline clip-path=\"url(#clip060)\" style=\"stroke:#000000; stroke-width:4; stroke-opacity:1; fill:none\" points=\"\n  174.862,955.11 200.997,955.11 \n  \"/>\n<polyline clip-path=\"url(#clip060)\" style=\"stroke:#000000; stroke-width:4; stroke-opacity:1; fill:none\" points=\"\n  174.862,709.807 200.997,709.807 \n  \"/>\n<polyline clip-path=\"url(#clip060)\" style=\"stroke:#000000; stroke-width:4; stroke-opacity:1; fill:none\" points=\"\n  174.862,464.504 200.997,464.504 \n  \"/>\n<polyline clip-path=\"url(#clip060)\" style=\"stroke:#000000; stroke-width:4; stroke-opacity:1; fill:none\" points=\"\n  174.862,219.202 200.997,219.202 \n  \"/>\n<path clip-path=\"url(#clip060)\" d=\"M 0 0 M62.9365 1431.51 Q59.3254 1431.51 57.4967 1435.08 Q55.6912 1438.62 55.6912 1445.75 Q55.6912 1452.86 57.4967 1456.42 Q59.3254 1459.96 62.9365 1459.96 Q66.5707 1459.96 68.3763 1456.42 Q70.205 1452.86 70.205 1445.75 Q70.205 1438.62 68.3763 1435.08 Q66.5707 1431.51 62.9365 1431.51 M62.9365 1427.81 Q68.7467 1427.81 71.8022 1432.42 Q74.8809 1437 74.8809 1445.75 Q74.8809 1454.48 71.8022 1459.08 Q68.7467 1463.67 62.9365 1463.67 Q57.1264 1463.67 54.0477 1459.08 Q50.9921 1454.48 50.9921 1445.75 Q50.9921 1437 54.0477 1432.42 Q57.1264 1427.81 62.9365 1427.81 Z\" fill=\"#000000\" fill-rule=\"evenodd\" fill-opacity=\"1\" /><path clip-path=\"url(#clip060)\" d=\"M 0 0 M79.9503 1457.12 L84.8345 1457.12 L84.8345 1463 L79.9503 1463 L79.9503 1457.12 Z\" fill=\"#000000\" fill-rule=\"evenodd\" fill-opacity=\"1\" /><path clip-path=\"url(#clip060)\" d=\"M 0 0 M99.9039 1431.51 Q96.2928 1431.51 94.4641 1435.08 Q92.6586 1438.62 92.6586 1445.75 Q92.6586 1452.86 94.4641 1456.42 Q96.2928 1459.96 99.9039 1459.96 Q103.538 1459.96 105.344 1456.42 Q107.172 1452.86 107.172 1445.75 Q107.172 1438.62 105.344 1435.08 Q103.538 1431.51 99.9039 1431.51 M99.9039 1427.81 Q105.714 1427.81 108.77 1432.42 Q111.848 1437 111.848 1445.75 Q111.848 1454.48 108.77 1459.08 Q105.714 1463.67 99.9039 1463.67 Q94.0937 1463.67 91.0151 1459.08 Q87.9595 1454.48 87.9595 1445.75 Q87.9595 1437 91.0151 1432.42 Q94.0937 1427.81 99.9039 1427.81 Z\" fill=\"#000000\" fill-rule=\"evenodd\" fill-opacity=\"1\" /><path clip-path=\"url(#clip060)\" d=\"M 0 0 M126.918 1431.51 Q123.307 1431.51 121.478 1435.08 Q119.672 1438.62 119.672 1445.75 Q119.672 1452.86 121.478 1456.42 Q123.307 1459.96 126.918 1459.96 Q130.552 1459.96 132.357 1456.42 Q134.186 1452.86 134.186 1445.75 Q134.186 1438.62 132.357 1435.08 Q130.552 1431.51 126.918 1431.51 M126.918 1427.81 Q132.728 1427.81 135.783 1432.42 Q138.862 1437 138.862 1445.75 Q138.862 1454.48 135.783 1459.08 Q132.728 1463.67 126.918 1463.67 Q121.107 1463.67 118.029 1459.08 Q114.973 1454.48 114.973 1445.75 Q114.973 1437 118.029 1432.42 Q121.107 1427.81 126.918 1427.81 Z\" fill=\"#000000\" fill-rule=\"evenodd\" fill-opacity=\"1\" /><path clip-path=\"url(#clip060)\" d=\"M 0 0 M65.5291 1186.21 Q61.918 1186.21 60.0893 1189.78 Q58.2838 1193.32 58.2838 1200.45 Q58.2838 1207.55 60.0893 1211.12 Q61.918 1214.66 65.5291 1214.66 Q69.1633 1214.66 70.9689 1211.12 Q72.7976 1207.55 72.7976 1200.45 Q72.7976 1193.32 70.9689 1189.78 Q69.1633 1186.21 65.5291 1186.21 M65.5291 1182.51 Q71.3392 1182.51 74.3948 1187.11 Q77.4735 1191.7 77.4735 1200.45 Q77.4735 1209.17 74.3948 1213.78 Q71.3392 1218.36 65.5291 1218.36 Q59.7189 1218.36 56.6402 1213.78 Q53.5847 1209.17 53.5847 1200.45 Q53.5847 1191.7 56.6402 1187.11 Q59.7189 1182.51 65.5291 1182.51 Z\" fill=\"#000000\" fill-rule=\"evenodd\" fill-opacity=\"1\" /><path clip-path=\"url(#clip060)\" d=\"M 0 0 M82.5429 1211.81 L87.4271 1211.81 L87.4271 1217.69 L82.5429 1217.69 L82.5429 1211.81 Z\" fill=\"#000000\" fill-rule=\"evenodd\" fill-opacity=\"1\" /><path clip-path=\"url(#clip060)\" d=\"M 0 0 M96.5243 1213.76 L112.844 1213.76 L112.844 1217.69 L90.8993 1217.69 L90.8993 1213.76 Q93.5613 1211 98.1447 1206.37 Q102.751 1201.72 103.932 1200.38 Q106.177 1197.86 107.057 1196.12 Q107.959 1194.36 107.959 1192.67 Q107.959 1189.92 106.015 1188.18 Q104.094 1186.44 100.992 1186.44 Q98.7928 1186.44 96.3391 1187.21 Q93.9086 1187.97 91.1308 1189.52 L91.1308 1184.8 Q93.9549 1183.67 96.4085 1183.09 Q98.8622 1182.51 100.899 1182.51 Q106.27 1182.51 109.464 1185.19 Q112.658 1187.88 112.658 1192.37 Q112.658 1194.5 111.848 1196.42 Q111.061 1198.32 108.955 1200.91 Q108.376 1201.58 105.274 1204.8 Q102.172 1207.99 96.5243 1213.76 Z\" fill=\"#000000\" fill-rule=\"evenodd\" fill-opacity=\"1\" /><path clip-path=\"url(#clip060)\" d=\"M 0 0 M117.959 1183.13 L136.316 1183.13 L136.316 1187.07 L122.242 1187.07 L122.242 1195.54 Q123.26 1195.19 124.279 1195.03 Q125.297 1194.85 126.316 1194.85 Q132.103 1194.85 135.482 1198.02 Q138.862 1201.19 138.862 1206.6 Q138.862 1212.18 135.39 1215.29 Q131.918 1218.36 125.598 1218.36 Q123.422 1218.36 121.154 1217.99 Q118.908 1217.62 116.501 1216.88 L116.501 1212.18 Q118.584 1213.32 120.807 1213.87 Q123.029 1214.43 125.506 1214.43 Q129.51 1214.43 131.848 1212.32 Q134.186 1210.22 134.186 1206.6 Q134.186 1202.99 131.848 1200.89 Q129.51 1198.78 125.506 1198.78 Q123.631 1198.78 121.756 1199.2 Q119.904 1199.61 117.959 1200.49 L117.959 1183.13 Z\" fill=\"#000000\" fill-rule=\"evenodd\" fill-opacity=\"1\" /><path clip-path=\"url(#clip060)\" d=\"M 0 0 M63.9319 940.909 Q60.3208 940.909 58.4921 944.474 Q56.6865 948.015 56.6865 955.145 Q56.6865 962.251 58.4921 965.816 Q60.3208 969.358 63.9319 969.358 Q67.5661 969.358 69.3717 965.816 Q71.2004 962.251 71.2004 955.145 Q71.2004 948.015 69.3717 944.474 Q67.5661 940.909 63.9319 940.909 M63.9319 937.205 Q69.742 937.205 72.7976 941.811 Q75.8763 946.395 75.8763 955.145 Q75.8763 963.872 72.7976 968.478 Q69.742 973.061 63.9319 973.061 Q58.1217 973.061 55.043 968.478 Q51.9875 963.872 51.9875 955.145 Q51.9875 946.395 55.043 941.811 Q58.1217 937.205 63.9319 937.205 Z\" fill=\"#000000\" fill-rule=\"evenodd\" fill-opacity=\"1\" /><path clip-path=\"url(#clip060)\" d=\"M 0 0 M80.9457 966.51 L85.8299 966.51 L85.8299 972.39 L80.9457 972.39 L80.9457 966.51 Z\" fill=\"#000000\" fill-rule=\"evenodd\" fill-opacity=\"1\" /><path clip-path=\"url(#clip060)\" d=\"M 0 0 M90.9456 937.83 L109.302 937.83 L109.302 941.765 L95.228 941.765 L95.228 950.237 Q96.2465 949.89 97.265 949.728 Q98.2835 949.543 99.3021 949.543 Q105.089 949.543 108.469 952.714 Q111.848 955.885 111.848 961.302 Q111.848 966.881 108.376 969.983 Q104.904 973.061 98.5845 973.061 Q96.4085 973.061 94.14 972.691 Q91.8947 972.321 89.4873 971.58 L89.4873 966.881 Q91.5706 968.015 93.7928 968.571 Q96.015 969.126 98.4919 969.126 Q102.496 969.126 104.834 967.02 Q107.172 964.913 107.172 961.302 Q107.172 957.691 104.834 955.585 Q102.496 953.478 98.4919 953.478 Q96.6169 953.478 94.7419 953.895 Q92.89 954.311 90.9456 955.191 L90.9456 937.83 Z\" fill=\"#000000\" fill-rule=\"evenodd\" fill-opacity=\"1\" /><path clip-path=\"url(#clip060)\" d=\"M 0 0 M126.918 940.909 Q123.307 940.909 121.478 944.474 Q119.672 948.015 119.672 955.145 Q119.672 962.251 121.478 965.816 Q123.307 969.358 126.918 969.358 Q130.552 969.358 132.357 965.816 Q134.186 962.251 134.186 955.145 Q134.186 948.015 132.357 944.474 Q130.552 940.909 126.918 940.909 M126.918 937.205 Q132.728 937.205 135.783 941.811 Q138.862 946.395 138.862 955.145 Q138.862 963.872 135.783 968.478 Q132.728 973.061 126.918 973.061 Q121.107 973.061 118.029 968.478 Q114.973 963.872 114.973 955.145 Q114.973 946.395 118.029 941.811 Q121.107 937.205 126.918 937.205 Z\" fill=\"#000000\" fill-rule=\"evenodd\" fill-opacity=\"1\" /><path clip-path=\"url(#clip060)\" d=\"M 0 0 M64.8346 695.606 Q61.2236 695.606 59.3949 699.171 Q57.5893 702.712 57.5893 709.842 Q57.5893 716.948 59.3949 720.513 Q61.2236 724.055 64.8346 724.055 Q68.4689 724.055 70.2744 720.513 Q72.1031 716.948 72.1031 709.842 Q72.1031 702.712 70.2744 699.171 Q68.4689 695.606 64.8346 695.606 M64.8346 691.902 Q70.6448 691.902 73.7003 696.509 Q76.779 701.092 76.779 709.842 Q76.779 718.569 73.7003 723.175 Q70.6448 727.759 64.8346 727.759 Q59.0245 727.759 55.9458 723.175 Q52.8903 718.569 52.8903 709.842 Q52.8903 701.092 55.9458 696.509 Q59.0245 691.902 64.8346 691.902 Z\" fill=\"#000000\" fill-rule=\"evenodd\" fill-opacity=\"1\" /><path clip-path=\"url(#clip060)\" d=\"M 0 0 M81.8484 721.208 L86.7327 721.208 L86.7327 727.087 L81.8484 727.087 L81.8484 721.208 Z\" fill=\"#000000\" fill-rule=\"evenodd\" fill-opacity=\"1\" /><path clip-path=\"url(#clip060)\" d=\"M 0 0 M90.6215 692.527 L112.844 692.527 L112.844 694.518 L100.297 727.087 L95.4132 727.087 L107.219 696.462 L90.6215 696.462 L90.6215 692.527 Z\" fill=\"#000000\" fill-rule=\"evenodd\" fill-opacity=\"1\" /><path clip-path=\"url(#clip060)\" d=\"M 0 0 M117.959 692.527 L136.316 692.527 L136.316 696.462 L122.242 696.462 L122.242 704.935 Q123.26 704.587 124.279 704.425 Q125.297 704.24 126.316 704.24 Q132.103 704.24 135.482 707.411 Q138.862 710.583 138.862 715.999 Q138.862 721.578 135.39 724.68 Q131.918 727.759 125.598 727.759 Q123.422 727.759 121.154 727.388 Q118.908 727.018 116.501 726.277 L116.501 721.578 Q118.584 722.712 120.807 723.268 Q123.029 723.823 125.506 723.823 Q129.51 723.823 131.848 721.717 Q134.186 719.61 134.186 715.999 Q134.186 712.388 131.848 710.282 Q129.51 708.175 125.506 708.175 Q123.631 708.175 121.756 708.592 Q119.904 709.009 117.959 709.888 L117.959 692.527 Z\" fill=\"#000000\" fill-rule=\"evenodd\" fill-opacity=\"1\" /><path clip-path=\"url(#clip060)\" d=\"M 0 0 M54.9736 477.849 L62.6124 477.849 L62.6124 451.484 L54.3023 453.15 L54.3023 448.891 L62.5661 447.224 L67.242 447.224 L67.242 477.849 L74.8809 477.849 L74.8809 481.784 L54.9736 481.784 L54.9736 477.849 Z\" fill=\"#000000\" fill-rule=\"evenodd\" fill-opacity=\"1\" /><path clip-path=\"url(#clip060)\" d=\"M 0 0 M79.9503 475.905 L84.8345 475.905 L84.8345 481.784 L79.9503 481.784 L79.9503 475.905 Z\" fill=\"#000000\" fill-rule=\"evenodd\" fill-opacity=\"1\" /><path clip-path=\"url(#clip060)\" d=\"M 0 0 M99.9039 450.303 Q96.2928 450.303 94.4641 453.868 Q92.6586 457.41 92.6586 464.539 Q92.6586 471.646 94.4641 475.21 Q96.2928 478.752 99.9039 478.752 Q103.538 478.752 105.344 475.21 Q107.172 471.646 107.172 464.539 Q107.172 457.41 105.344 453.868 Q103.538 450.303 99.9039 450.303 M99.9039 446.599 Q105.714 446.599 108.77 451.206 Q111.848 455.789 111.848 464.539 Q111.848 473.266 108.77 477.872 Q105.714 482.456 99.9039 482.456 Q94.0937 482.456 91.0151 477.872 Q87.9595 473.266 87.9595 464.539 Q87.9595 455.789 91.0151 451.206 Q94.0937 446.599 99.9039 446.599 Z\" fill=\"#000000\" fill-rule=\"evenodd\" fill-opacity=\"1\" /><path clip-path=\"url(#clip060)\" d=\"M 0 0 M126.918 450.303 Q123.307 450.303 121.478 453.868 Q119.672 457.41 119.672 464.539 Q119.672 471.646 121.478 475.21 Q123.307 478.752 126.918 478.752 Q130.552 478.752 132.357 475.21 Q134.186 471.646 134.186 464.539 Q134.186 457.41 132.357 453.868 Q130.552 450.303 126.918 450.303 M126.918 446.599 Q132.728 446.599 135.783 451.206 Q138.862 455.789 138.862 464.539 Q138.862 473.266 135.783 477.872 Q132.728 482.456 126.918 482.456 Q121.107 482.456 118.029 477.872 Q114.973 473.266 114.973 464.539 Q114.973 455.789 118.029 451.206 Q121.107 446.599 126.918 446.599 Z\" fill=\"#000000\" fill-rule=\"evenodd\" fill-opacity=\"1\" /><path clip-path=\"url(#clip060)\" d=\"M 0 0 M57.5662 232.546 L65.205 232.546 L65.205 206.181 L56.8949 207.847 L56.8949 203.588 L65.1587 201.922 L69.8346 201.922 L69.8346 232.546 L77.4735 232.546 L77.4735 236.482 L57.5662 236.482 L57.5662 232.546 Z\" fill=\"#000000\" fill-rule=\"evenodd\" fill-opacity=\"1\" /><path clip-path=\"url(#clip060)\" d=\"M 0 0 M82.5429 230.602 L87.4271 230.602 L87.4271 236.482 L82.5429 236.482 L82.5429 230.602 Z\" fill=\"#000000\" fill-rule=\"evenodd\" fill-opacity=\"1\" /><path clip-path=\"url(#clip060)\" d=\"M 0 0 M96.5243 232.546 L112.844 232.546 L112.844 236.482 L90.8993 236.482 L90.8993 232.546 Q93.5613 229.792 98.1447 225.162 Q102.751 220.509 103.932 219.167 Q106.177 216.644 107.057 214.908 Q107.959 213.148 107.959 211.459 Q107.959 208.704 106.015 206.968 Q104.094 205.232 100.992 205.232 Q98.7928 205.232 96.3391 205.996 Q93.9086 206.759 91.1308 208.31 L91.1308 203.588 Q93.9549 202.454 96.4085 201.875 Q98.8622 201.297 100.899 201.297 Q106.27 201.297 109.464 203.982 Q112.658 206.667 112.658 211.158 Q112.658 213.287 111.848 215.209 Q111.061 217.107 108.955 219.699 Q108.376 220.371 105.274 223.588 Q102.172 226.783 96.5243 232.546 Z\" fill=\"#000000\" fill-rule=\"evenodd\" fill-opacity=\"1\" /><path clip-path=\"url(#clip060)\" d=\"M 0 0 M117.959 201.922 L136.316 201.922 L136.316 205.857 L122.242 205.857 L122.242 214.329 Q123.26 213.982 124.279 213.82 Q125.297 213.634 126.316 213.634 Q132.103 213.634 135.482 216.806 Q138.862 219.977 138.862 225.394 Q138.862 230.972 135.39 234.074 Q131.918 237.153 125.598 237.153 Q123.422 237.153 121.154 236.782 Q118.908 236.412 116.501 235.671 L116.501 230.972 Q118.584 232.107 120.807 232.662 Q123.029 233.218 125.506 233.218 Q129.51 233.218 131.848 231.111 Q134.186 229.005 134.186 225.394 Q134.186 221.783 131.848 219.676 Q129.51 217.57 125.506 217.57 Q123.631 217.57 121.756 217.986 Q119.904 218.403 117.959 219.283 L117.959 201.922 Z\" fill=\"#000000\" fill-rule=\"evenodd\" fill-opacity=\"1\" /><path clip-path=\"url(#clip062)\" d=\"\nM665.193 1443.75 L665.193 1445.72 L682.682 1445.72 L682.682 1443.75 L665.193 1443.75 L665.193 1443.75  Z\n  \" fill=\"#009af9\" fill-rule=\"evenodd\" fill-opacity=\"1\"/>\n<polyline clip-path=\"url(#clip062)\" style=\"stroke:#000000; stroke-width:4; stroke-opacity:1; fill:none\" points=\"\n  665.193,1443.75 665.193,1445.72 682.682,1445.72 682.682,1443.75 665.193,1443.75 \n  \"/>\n<path clip-path=\"url(#clip062)\" d=\"\nM682.682 1439.83 L682.682 1445.72 L700.171 1445.72 L700.171 1439.83 L682.682 1439.83 L682.682 1439.83  Z\n  \" fill=\"#009af9\" fill-rule=\"evenodd\" fill-opacity=\"1\"/>\n<polyline clip-path=\"url(#clip062)\" style=\"stroke:#000000; stroke-width:4; stroke-opacity:1; fill:none\" points=\"\n  682.682,1439.83 682.682,1445.72 700.171,1445.72 700.171,1439.83 682.682,1439.83 \n  \"/>\n<path clip-path=\"url(#clip062)\" d=\"\nM700.171 1431.98 L700.171 1445.72 L717.66 1445.72 L717.66 1431.98 L700.171 1431.98 L700.171 1431.98  Z\n  \" fill=\"#009af9\" fill-rule=\"evenodd\" fill-opacity=\"1\"/>\n<polyline clip-path=\"url(#clip062)\" style=\"stroke:#000000; stroke-width:4; stroke-opacity:1; fill:none\" points=\"\n  700.171,1431.98 700.171,1445.72 717.66,1445.72 717.66,1431.98 700.171,1431.98 \n  \"/>\n<path clip-path=\"url(#clip062)\" d=\"\nM717.66 1437.87 L717.66 1445.72 L735.149 1445.72 L735.149 1437.87 L717.66 1437.87 L717.66 1437.87  Z\n  \" fill=\"#009af9\" fill-rule=\"evenodd\" fill-opacity=\"1\"/>\n<polyline clip-path=\"url(#clip062)\" style=\"stroke:#000000; stroke-width:4; stroke-opacity:1; fill:none\" points=\"\n  717.66,1437.87 717.66,1445.72 735.149,1445.72 735.149,1437.87 717.66,1437.87 \n  \"/>\n<path clip-path=\"url(#clip062)\" d=\"\nM735.149 1424.13 L735.149 1445.72 L752.638 1445.72 L752.638 1424.13 L735.149 1424.13 L735.149 1424.13  Z\n  \" fill=\"#009af9\" fill-rule=\"evenodd\" fill-opacity=\"1\"/>\n<polyline clip-path=\"url(#clip062)\" style=\"stroke:#000000; stroke-width:4; stroke-opacity:1; fill:none\" points=\"\n  735.149,1424.13 735.149,1445.72 752.638,1445.72 752.638,1424.13 735.149,1424.13 \n  \"/>\n<path clip-path=\"url(#clip062)\" d=\"\nM752.638 1430.02 L752.638 1445.72 L770.127 1445.72 L770.127 1430.02 L752.638 1430.02 L752.638 1430.02  Z\n  \" fill=\"#009af9\" fill-rule=\"evenodd\" fill-opacity=\"1\"/>\n<polyline clip-path=\"url(#clip062)\" style=\"stroke:#000000; stroke-width:4; stroke-opacity:1; fill:none\" points=\"\n  752.638,1430.02 752.638,1445.72 770.127,1445.72 770.127,1430.02 752.638,1430.02 \n  \"/>\n<path clip-path=\"url(#clip062)\" d=\"\nM770.127 1404.5 L770.127 1445.72 L787.615 1445.72 L787.615 1404.5 L770.127 1404.5 L770.127 1404.5  Z\n  \" fill=\"#009af9\" fill-rule=\"evenodd\" fill-opacity=\"1\"/>\n<polyline clip-path=\"url(#clip062)\" style=\"stroke:#000000; stroke-width:4; stroke-opacity:1; fill:none\" points=\"\n  770.127,1404.5 770.127,1445.72 787.615,1445.72 787.615,1404.5 770.127,1404.5 \n  \"/>\n<path clip-path=\"url(#clip062)\" d=\"\nM787.615 1394.69 L787.615 1445.72 L805.104 1445.72 L805.104 1394.69 L787.615 1394.69 L787.615 1394.69  Z\n  \" fill=\"#009af9\" fill-rule=\"evenodd\" fill-opacity=\"1\"/>\n<polyline clip-path=\"url(#clip062)\" style=\"stroke:#000000; stroke-width:4; stroke-opacity:1; fill:none\" points=\"\n  787.615,1394.69 787.615,1445.72 805.104,1445.72 805.104,1394.69 787.615,1394.69 \n  \"/>\n<path clip-path=\"url(#clip062)\" d=\"\nM805.104 1367.22 L805.104 1445.72 L822.593 1445.72 L822.593 1367.22 L805.104 1367.22 L805.104 1367.22  Z\n  \" fill=\"#009af9\" fill-rule=\"evenodd\" fill-opacity=\"1\"/>\n<polyline clip-path=\"url(#clip062)\" style=\"stroke:#000000; stroke-width:4; stroke-opacity:1; fill:none\" points=\"\n  805.104,1367.22 805.104,1445.72 822.593,1445.72 822.593,1367.22 805.104,1367.22 \n  \"/>\n<path clip-path=\"url(#clip062)\" d=\"\nM822.593 1333.86 L822.593 1445.72 L840.082 1445.72 L840.082 1333.86 L822.593 1333.86 L822.593 1333.86  Z\n  \" fill=\"#009af9\" fill-rule=\"evenodd\" fill-opacity=\"1\"/>\n<polyline clip-path=\"url(#clip062)\" style=\"stroke:#000000; stroke-width:4; stroke-opacity:1; fill:none\" points=\"\n  822.593,1333.86 822.593,1445.72 840.082,1445.72 840.082,1333.86 822.593,1333.86 \n  \"/>\n<path clip-path=\"url(#clip062)\" d=\"\nM840.082 1312.27 L840.082 1445.72 L857.571 1445.72 L857.571 1312.27 L840.082 1312.27 L840.082 1312.27  Z\n  \" fill=\"#009af9\" fill-rule=\"evenodd\" fill-opacity=\"1\"/>\n<polyline clip-path=\"url(#clip062)\" style=\"stroke:#000000; stroke-width:4; stroke-opacity:1; fill:none\" points=\"\n  840.082,1312.27 840.082,1445.72 857.571,1445.72 857.571,1312.27 840.082,1312.27 \n  \"/>\n<path clip-path=\"url(#clip062)\" d=\"\nM857.571 1225.92 L857.571 1445.72 L875.06 1445.72 L875.06 1225.92 L857.571 1225.92 L857.571 1225.92  Z\n  \" fill=\"#009af9\" fill-rule=\"evenodd\" fill-opacity=\"1\"/>\n<polyline clip-path=\"url(#clip062)\" style=\"stroke:#000000; stroke-width:4; stroke-opacity:1; fill:none\" points=\"\n  857.571,1225.92 857.571,1445.72 875.06,1445.72 875.06,1225.92 857.571,1225.92 \n  \"/>\n<path clip-path=\"url(#clip062)\" d=\"\nM875.06 1202.38 L875.06 1445.72 L892.549 1445.72 L892.549 1202.38 L875.06 1202.38 L875.06 1202.38  Z\n  \" fill=\"#009af9\" fill-rule=\"evenodd\" fill-opacity=\"1\"/>\n<polyline clip-path=\"url(#clip062)\" style=\"stroke:#000000; stroke-width:4; stroke-opacity:1; fill:none\" points=\"\n  875.06,1202.38 875.06,1445.72 892.549,1445.72 892.549,1202.38 875.06,1202.38 \n  \"/>\n<path clip-path=\"url(#clip062)\" d=\"\nM892.549 1137.62 L892.549 1445.72 L910.038 1445.72 L910.038 1137.62 L892.549 1137.62 L892.549 1137.62  Z\n  \" fill=\"#009af9\" fill-rule=\"evenodd\" fill-opacity=\"1\"/>\n<polyline clip-path=\"url(#clip062)\" style=\"stroke:#000000; stroke-width:4; stroke-opacity:1; fill:none\" points=\"\n  892.549,1137.62 892.549,1445.72 910.038,1445.72 910.038,1137.62 892.549,1137.62 \n  \"/>\n<path clip-path=\"url(#clip062)\" d=\"\nM910.038 1068.93 L910.038 1445.72 L927.527 1445.72 L927.527 1068.93 L910.038 1068.93 L910.038 1068.93  Z\n  \" fill=\"#009af9\" fill-rule=\"evenodd\" fill-opacity=\"1\"/>\n<polyline clip-path=\"url(#clip062)\" style=\"stroke:#000000; stroke-width:4; stroke-opacity:1; fill:none\" points=\"\n  910.038,1068.93 910.038,1445.72 927.527,1445.72 927.527,1068.93 910.038,1068.93 \n  \"/>\n<path clip-path=\"url(#clip062)\" d=\"\nM927.527 874.651 L927.527 1445.72 L945.016 1445.72 L945.016 874.651 L927.527 874.651 L927.527 874.651  Z\n  \" fill=\"#009af9\" fill-rule=\"evenodd\" fill-opacity=\"1\"/>\n<polyline clip-path=\"url(#clip062)\" style=\"stroke:#000000; stroke-width:4; stroke-opacity:1; fill:none\" points=\"\n  927.527,874.651 927.527,1445.72 945.016,1445.72 945.016,874.651 927.527,874.651 \n  \"/>\n<path clip-path=\"url(#clip062)\" d=\"\nM945.016 809.891 L945.016 1445.72 L962.505 1445.72 L962.505 809.891 L945.016 809.891 L945.016 809.891  Z\n  \" fill=\"#009af9\" fill-rule=\"evenodd\" fill-opacity=\"1\"/>\n<polyline clip-path=\"url(#clip062)\" style=\"stroke:#000000; stroke-width:4; stroke-opacity:1; fill:none\" points=\"\n  945.016,809.891 945.016,1445.72 962.505,1445.72 962.505,809.891 945.016,809.891 \n  \"/>\n<path clip-path=\"url(#clip062)\" d=\"\nM962.505 682.333 L962.505 1445.72 L979.994 1445.72 L979.994 682.333 L962.505 682.333 L962.505 682.333  Z\n  \" fill=\"#009af9\" fill-rule=\"evenodd\" fill-opacity=\"1\"/>\n<polyline clip-path=\"url(#clip062)\" style=\"stroke:#000000; stroke-width:4; stroke-opacity:1; fill:none\" points=\"\n  962.505,682.333 962.505,1445.72 979.994,1445.72 979.994,682.333 962.505,682.333 \n  \"/>\n<path clip-path=\"url(#clip062)\" d=\"\nM979.994 599.912 L979.994 1445.72 L997.483 1445.72 L997.483 599.912 L979.994 599.912 L979.994 599.912  Z\n  \" fill=\"#009af9\" fill-rule=\"evenodd\" fill-opacity=\"1\"/>\n<polyline clip-path=\"url(#clip062)\" style=\"stroke:#000000; stroke-width:4; stroke-opacity:1; fill:none\" points=\"\n  979.994,599.912 979.994,1445.72 997.483,1445.72 997.483,599.912 979.994,599.912 \n  \"/>\n<path clip-path=\"url(#clip062)\" d=\"\nM997.483 519.452 L997.483 1445.72 L1014.97 1445.72 L1014.97 519.452 L997.483 519.452 L997.483 519.452  Z\n  \" fill=\"#009af9\" fill-rule=\"evenodd\" fill-opacity=\"1\"/>\n<polyline clip-path=\"url(#clip062)\" style=\"stroke:#000000; stroke-width:4; stroke-opacity:1; fill:none\" points=\"\n  997.483,519.452 997.483,1445.72 1014.97,1445.72 1014.97,519.452 997.483,519.452 \n  \"/>\n<path clip-path=\"url(#clip062)\" d=\"\nM1014.97 529.264 L1014.97 1445.72 L1032.46 1445.72 L1032.46 529.264 L1014.97 529.264 L1014.97 529.264  Z\n  \" fill=\"#009af9\" fill-rule=\"evenodd\" fill-opacity=\"1\"/>\n<polyline clip-path=\"url(#clip062)\" style=\"stroke:#000000; stroke-width:4; stroke-opacity:1; fill:none\" points=\"\n  1014.97,529.264 1014.97,1445.72 1032.46,1445.72 1032.46,529.264 1014.97,529.264 \n  \"/>\n<path clip-path=\"url(#clip062)\" d=\"\nM1032.46 370.308 L1032.46 1445.72 L1049.95 1445.72 L1049.95 370.308 L1032.46 370.308 L1032.46 370.308  Z\n  \" fill=\"#009af9\" fill-rule=\"evenodd\" fill-opacity=\"1\"/>\n<polyline clip-path=\"url(#clip062)\" style=\"stroke:#000000; stroke-width:4; stroke-opacity:1; fill:none\" points=\"\n  1032.46,370.308 1032.46,1445.72 1049.95,1445.72 1049.95,370.308 1032.46,370.308 \n  \"/>\n<path clip-path=\"url(#clip062)\" d=\"\nM1049.95 393.857 L1049.95 1445.72 L1067.44 1445.72 L1067.44 393.857 L1049.95 393.857 L1049.95 393.857  Z\n  \" fill=\"#009af9\" fill-rule=\"evenodd\" fill-opacity=\"1\"/>\n<polyline clip-path=\"url(#clip062)\" style=\"stroke:#000000; stroke-width:4; stroke-opacity:1; fill:none\" points=\"\n  1049.95,393.857 1049.95,1445.72 1067.44,1445.72 1067.44,393.857 1049.95,393.857 \n  \"/>\n<path clip-path=\"url(#clip062)\" d=\"\nM1067.44 354.609 L1067.44 1445.72 L1084.93 1445.72 L1084.93 354.609 L1067.44 354.609 L1067.44 354.609  Z\n  \" fill=\"#009af9\" fill-rule=\"evenodd\" fill-opacity=\"1\"/>\n<polyline clip-path=\"url(#clip062)\" style=\"stroke:#000000; stroke-width:4; stroke-opacity:1; fill:none\" points=\"\n  1067.44,354.609 1067.44,1445.72 1084.93,1445.72 1084.93,354.609 1067.44,354.609 \n  \"/>\n<path clip-path=\"url(#clip062)\" d=\"\nM1084.93 295.736 L1084.93 1445.72 L1102.42 1445.72 L1102.42 295.736 L1084.93 295.736 L1084.93 295.736  Z\n  \" fill=\"#009af9\" fill-rule=\"evenodd\" fill-opacity=\"1\"/>\n<polyline clip-path=\"url(#clip062)\" style=\"stroke:#000000; stroke-width:4; stroke-opacity:1; fill:none\" points=\"\n  1084.93,295.736 1084.93,1445.72 1102.42,1445.72 1102.42,295.736 1084.93,295.736 \n  \"/>\n<path clip-path=\"url(#clip062)\" d=\"\nM1102.42 442.918 L1102.42 1445.72 L1119.91 1445.72 L1119.91 442.918 L1102.42 442.918 L1102.42 442.918  Z\n  \" fill=\"#009af9\" fill-rule=\"evenodd\" fill-opacity=\"1\"/>\n<polyline clip-path=\"url(#clip062)\" style=\"stroke:#000000; stroke-width:4; stroke-opacity:1; fill:none\" points=\"\n  1102.42,442.918 1102.42,1445.72 1119.91,1445.72 1119.91,442.918 1102.42,442.918 \n  \"/>\n<path clip-path=\"url(#clip062)\" d=\"\nM1119.91 476.279 L1119.91 1445.72 L1137.39 1445.72 L1137.39 476.279 L1119.91 476.279 L1119.91 476.279  Z\n  \" fill=\"#009af9\" fill-rule=\"evenodd\" fill-opacity=\"1\"/>\n<polyline clip-path=\"url(#clip062)\" style=\"stroke:#000000; stroke-width:4; stroke-opacity:1; fill:none\" points=\"\n  1119.91,476.279 1119.91,1445.72 1137.39,1445.72 1137.39,476.279 1119.91,476.279 \n  \"/>\n<path clip-path=\"url(#clip062)\" d=\"\nM1137.39 525.339 L1137.39 1445.72 L1154.88 1445.72 L1154.88 525.339 L1137.39 525.339 L1137.39 525.339  Z\n  \" fill=\"#009af9\" fill-rule=\"evenodd\" fill-opacity=\"1\"/>\n<polyline clip-path=\"url(#clip062)\" style=\"stroke:#000000; stroke-width:4; stroke-opacity:1; fill:none\" points=\"\n  1137.39,525.339 1137.39,1445.72 1154.88,1445.72 1154.88,525.339 1137.39,525.339 \n  \"/>\n<path clip-path=\"url(#clip062)\" d=\"\nM1154.88 621.498 L1154.88 1445.72 L1172.37 1445.72 L1172.37 621.498 L1154.88 621.498 L1154.88 621.498  Z\n  \" fill=\"#009af9\" fill-rule=\"evenodd\" fill-opacity=\"1\"/>\n<polyline clip-path=\"url(#clip062)\" style=\"stroke:#000000; stroke-width:4; stroke-opacity:1; fill:none\" points=\"\n  1154.88,621.498 1154.88,1445.72 1172.37,1445.72 1172.37,621.498 1154.88,621.498 \n  \"/>\n<path clip-path=\"url(#clip062)\" d=\"\nM1172.37 670.559 L1172.37 1445.72 L1189.86 1445.72 L1189.86 670.559 L1172.37 670.559 L1172.37 670.559  Z\n  \" fill=\"#009af9\" fill-rule=\"evenodd\" fill-opacity=\"1\"/>\n<polyline clip-path=\"url(#clip062)\" style=\"stroke:#000000; stroke-width:4; stroke-opacity:1; fill:none\" points=\"\n  1172.37,670.559 1172.37,1445.72 1189.86,1445.72 1189.86,670.559 1172.37,670.559 \n  \"/>\n<path clip-path=\"url(#clip062)\" d=\"\nM1189.86 743.168 L1189.86 1445.72 L1207.35 1445.72 L1207.35 743.168 L1189.86 743.168 L1189.86 743.168  Z\n  \" fill=\"#009af9\" fill-rule=\"evenodd\" fill-opacity=\"1\"/>\n<polyline clip-path=\"url(#clip062)\" style=\"stroke:#000000; stroke-width:4; stroke-opacity:1; fill:none\" points=\"\n  1189.86,743.168 1189.86,1445.72 1207.35,1445.72 1207.35,743.168 1189.86,743.168 \n  \"/>\n<path clip-path=\"url(#clip062)\" d=\"\nM1207.35 837.365 L1207.35 1445.72 L1224.84 1445.72 L1224.84 837.365 L1207.35 837.365 L1207.35 837.365  Z\n  \" fill=\"#009af9\" fill-rule=\"evenodd\" fill-opacity=\"1\"/>\n<polyline clip-path=\"url(#clip062)\" style=\"stroke:#000000; stroke-width:4; stroke-opacity:1; fill:none\" points=\"\n  1207.35,837.365 1207.35,1445.72 1224.84,1445.72 1224.84,837.365 1207.35,837.365 \n  \"/>\n<path clip-path=\"url(#clip062)\" d=\"\nM1224.84 904.087 L1224.84 1445.72 L1242.33 1445.72 L1242.33 904.087 L1224.84 904.087 L1224.84 904.087  Z\n  \" fill=\"#009af9\" fill-rule=\"evenodd\" fill-opacity=\"1\"/>\n<polyline clip-path=\"url(#clip062)\" style=\"stroke:#000000; stroke-width:4; stroke-opacity:1; fill:none\" points=\"\n  1224.84,904.087 1224.84,1445.72 1242.33,1445.72 1242.33,904.087 1224.84,904.087 \n  \"/>\n<path clip-path=\"url(#clip062)\" d=\"\nM1242.33 988.471 L1242.33 1445.72 L1259.82 1445.72 L1259.82 988.471 L1242.33 988.471 L1242.33 988.471  Z\n  \" fill=\"#009af9\" fill-rule=\"evenodd\" fill-opacity=\"1\"/>\n<polyline clip-path=\"url(#clip062)\" style=\"stroke:#000000; stroke-width:4; stroke-opacity:1; fill:none\" points=\"\n  1242.33,988.471 1242.33,1445.72 1259.82,1445.72 1259.82,988.471 1242.33,988.471 \n  \"/>\n<path clip-path=\"url(#clip062)\" d=\"\nM1259.82 1108.18 L1259.82 1445.72 L1277.31 1445.72 L1277.31 1108.18 L1259.82 1108.18 L1259.82 1108.18  Z\n  \" fill=\"#009af9\" fill-rule=\"evenodd\" fill-opacity=\"1\"/>\n<polyline clip-path=\"url(#clip062)\" style=\"stroke:#000000; stroke-width:4; stroke-opacity:1; fill:none\" points=\"\n  1259.82,1108.18 1259.82,1445.72 1277.31,1445.72 1277.31,1108.18 1259.82,1108.18 \n  \"/>\n<path clip-path=\"url(#clip062)\" d=\"\nM1277.31 1145.47 L1277.31 1445.72 L1294.8 1445.72 L1294.8 1145.47 L1277.31 1145.47 L1277.31 1145.47  Z\n  \" fill=\"#009af9\" fill-rule=\"evenodd\" fill-opacity=\"1\"/>\n<polyline clip-path=\"url(#clip062)\" style=\"stroke:#000000; stroke-width:4; stroke-opacity:1; fill:none\" points=\"\n  1277.31,1145.47 1277.31,1445.72 1294.8,1445.72 1294.8,1145.47 1277.31,1145.47 \n  \"/>\n<path clip-path=\"url(#clip062)\" d=\"\nM1294.8 1198.45 L1294.8 1445.72 L1312.28 1445.72 L1312.28 1198.45 L1294.8 1198.45 L1294.8 1198.45  Z\n  \" fill=\"#009af9\" fill-rule=\"evenodd\" fill-opacity=\"1\"/>\n<polyline clip-path=\"url(#clip062)\" style=\"stroke:#000000; stroke-width:4; stroke-opacity:1; fill:none\" points=\"\n  1294.8,1198.45 1294.8,1445.72 1312.28,1445.72 1312.28,1198.45 1294.8,1198.45 \n  \"/>\n<path clip-path=\"url(#clip062)\" d=\"\nM1312.28 1251.44 L1312.28 1445.72 L1329.77 1445.72 L1329.77 1251.44 L1312.28 1251.44 L1312.28 1251.44  Z\n  \" fill=\"#009af9\" fill-rule=\"evenodd\" fill-opacity=\"1\"/>\n<polyline clip-path=\"url(#clip062)\" style=\"stroke:#000000; stroke-width:4; stroke-opacity:1; fill:none\" points=\"\n  1312.28,1251.44 1312.28,1445.72 1329.77,1445.72 1329.77,1251.44 1312.28,1251.44 \n  \"/>\n<path clip-path=\"url(#clip062)\" d=\"\nM1329.77 1294.61 L1329.77 1445.72 L1347.26 1445.72 L1347.26 1294.61 L1329.77 1294.61 L1329.77 1294.61  Z\n  \" fill=\"#009af9\" fill-rule=\"evenodd\" fill-opacity=\"1\"/>\n<polyline clip-path=\"url(#clip062)\" style=\"stroke:#000000; stroke-width:4; stroke-opacity:1; fill:none\" points=\"\n  1329.77,1294.61 1329.77,1445.72 1347.26,1445.72 1347.26,1294.61 1329.77,1294.61 \n  \"/>\n<path clip-path=\"url(#clip062)\" d=\"\nM1347.26 1267.14 L1347.26 1445.72 L1364.75 1445.72 L1364.75 1267.14 L1347.26 1267.14 L1347.26 1267.14  Z\n  \" fill=\"#009af9\" fill-rule=\"evenodd\" fill-opacity=\"1\"/>\n<polyline clip-path=\"url(#clip062)\" style=\"stroke:#000000; stroke-width:4; stroke-opacity:1; fill:none\" points=\"\n  1347.26,1267.14 1347.26,1445.72 1364.75,1445.72 1364.75,1267.14 1347.26,1267.14 \n  \"/>\n<path clip-path=\"url(#clip062)\" d=\"\nM1364.75 1300.5 L1364.75 1445.72 L1382.24 1445.72 L1382.24 1300.5 L1364.75 1300.5 L1364.75 1300.5  Z\n  \" fill=\"#009af9\" fill-rule=\"evenodd\" fill-opacity=\"1\"/>\n<polyline clip-path=\"url(#clip062)\" style=\"stroke:#000000; stroke-width:4; stroke-opacity:1; fill:none\" points=\"\n  1364.75,1300.5 1364.75,1445.72 1382.24,1445.72 1382.24,1300.5 1364.75,1300.5 \n  \"/>\n<path clip-path=\"url(#clip062)\" d=\"\nM1382.24 1343.67 L1382.24 1445.72 L1399.73 1445.72 L1399.73 1343.67 L1382.24 1343.67 L1382.24 1343.67  Z\n  \" fill=\"#009af9\" fill-rule=\"evenodd\" fill-opacity=\"1\"/>\n<polyline clip-path=\"url(#clip062)\" style=\"stroke:#000000; stroke-width:4; stroke-opacity:1; fill:none\" points=\"\n  1382.24,1343.67 1382.24,1445.72 1399.73,1445.72 1399.73,1343.67 1382.24,1343.67 \n  \"/>\n<path clip-path=\"url(#clip062)\" d=\"\nM1399.73 1359.37 L1399.73 1445.72 L1417.22 1445.72 L1417.22 1359.37 L1399.73 1359.37 L1399.73 1359.37  Z\n  \" fill=\"#009af9\" fill-rule=\"evenodd\" fill-opacity=\"1\"/>\n<polyline clip-path=\"url(#clip062)\" style=\"stroke:#000000; stroke-width:4; stroke-opacity:1; fill:none\" points=\"\n  1399.73,1359.37 1399.73,1445.72 1417.22,1445.72 1417.22,1359.37 1399.73,1359.37 \n  \"/>\n<path clip-path=\"url(#clip062)\" d=\"\nM1417.22 1384.88 L1417.22 1445.72 L1434.71 1445.72 L1434.71 1384.88 L1417.22 1384.88 L1417.22 1384.88  Z\n  \" fill=\"#009af9\" fill-rule=\"evenodd\" fill-opacity=\"1\"/>\n<polyline clip-path=\"url(#clip062)\" style=\"stroke:#000000; stroke-width:4; stroke-opacity:1; fill:none\" points=\"\n  1417.22,1384.88 1417.22,1445.72 1434.71,1445.72 1434.71,1384.88 1417.22,1384.88 \n  \"/>\n<path clip-path=\"url(#clip062)\" d=\"\nM1434.71 1377.03 L1434.71 1445.72 L1452.2 1445.72 L1452.2 1377.03 L1434.71 1377.03 L1434.71 1377.03  Z\n  \" fill=\"#009af9\" fill-rule=\"evenodd\" fill-opacity=\"1\"/>\n<polyline clip-path=\"url(#clip062)\" style=\"stroke:#000000; stroke-width:4; stroke-opacity:1; fill:none\" points=\"\n  1434.71,1377.03 1434.71,1445.72 1452.2,1445.72 1452.2,1377.03 1434.71,1377.03 \n  \"/>\n<path clip-path=\"url(#clip062)\" d=\"\nM1452.2 1394.69 L1452.2 1445.72 L1469.68 1445.72 L1469.68 1394.69 L1452.2 1394.69 L1452.2 1394.69  Z\n  \" fill=\"#009af9\" fill-rule=\"evenodd\" fill-opacity=\"1\"/>\n<polyline clip-path=\"url(#clip062)\" style=\"stroke:#000000; stroke-width:4; stroke-opacity:1; fill:none\" points=\"\n  1452.2,1394.69 1452.2,1445.72 1469.68,1445.72 1469.68,1394.69 1452.2,1394.69 \n  \"/>\n<path clip-path=\"url(#clip062)\" d=\"\nM1469.68 1404.5 L1469.68 1445.72 L1487.17 1445.72 L1487.17 1404.5 L1469.68 1404.5 L1469.68 1404.5  Z\n  \" fill=\"#009af9\" fill-rule=\"evenodd\" fill-opacity=\"1\"/>\n<polyline clip-path=\"url(#clip062)\" style=\"stroke:#000000; stroke-width:4; stroke-opacity:1; fill:none\" points=\"\n  1469.68,1404.5 1469.68,1445.72 1487.17,1445.72 1487.17,1404.5 1469.68,1404.5 \n  \"/>\n<path clip-path=\"url(#clip062)\" d=\"\nM1487.17 1416.28 L1487.17 1445.72 L1504.66 1445.72 L1504.66 1416.28 L1487.17 1416.28 L1487.17 1416.28  Z\n  \" fill=\"#009af9\" fill-rule=\"evenodd\" fill-opacity=\"1\"/>\n<polyline clip-path=\"url(#clip062)\" style=\"stroke:#000000; stroke-width:4; stroke-opacity:1; fill:none\" points=\"\n  1487.17,1416.28 1487.17,1445.72 1504.66,1445.72 1504.66,1416.28 1487.17,1416.28 \n  \"/>\n<path clip-path=\"url(#clip062)\" d=\"\nM1504.66 1435.9 L1504.66 1445.72 L1522.15 1445.72 L1522.15 1435.9 L1504.66 1435.9 L1504.66 1435.9  Z\n  \" fill=\"#009af9\" fill-rule=\"evenodd\" fill-opacity=\"1\"/>\n<polyline clip-path=\"url(#clip062)\" style=\"stroke:#000000; stroke-width:4; stroke-opacity:1; fill:none\" points=\"\n  1504.66,1435.9 1504.66,1445.72 1522.15,1445.72 1522.15,1435.9 1504.66,1435.9 \n  \"/>\n<path clip-path=\"url(#clip062)\" d=\"\nM1522.15 1426.09 L1522.15 1445.72 L1539.64 1445.72 L1539.64 1426.09 L1522.15 1426.09 L1522.15 1426.09  Z\n  \" fill=\"#009af9\" fill-rule=\"evenodd\" fill-opacity=\"1\"/>\n<polyline clip-path=\"url(#clip062)\" style=\"stroke:#000000; stroke-width:4; stroke-opacity:1; fill:none\" points=\"\n  1522.15,1426.09 1522.15,1445.72 1539.64,1445.72 1539.64,1426.09 1522.15,1426.09 \n  \"/>\n<path clip-path=\"url(#clip062)\" d=\"\nM1539.64 1416.28 L1539.64 1445.72 L1557.13 1445.72 L1557.13 1416.28 L1539.64 1416.28 L1539.64 1416.28  Z\n  \" fill=\"#009af9\" fill-rule=\"evenodd\" fill-opacity=\"1\"/>\n<polyline clip-path=\"url(#clip062)\" style=\"stroke:#000000; stroke-width:4; stroke-opacity:1; fill:none\" points=\"\n  1539.64,1416.28 1539.64,1445.72 1557.13,1445.72 1557.13,1416.28 1539.64,1416.28 \n  \"/>\n<path clip-path=\"url(#clip062)\" d=\"\nM1557.13 1428.05 L1557.13 1445.72 L1574.62 1445.72 L1574.62 1428.05 L1557.13 1428.05 L1557.13 1428.05  Z\n  \" fill=\"#009af9\" fill-rule=\"evenodd\" fill-opacity=\"1\"/>\n<polyline clip-path=\"url(#clip062)\" style=\"stroke:#000000; stroke-width:4; stroke-opacity:1; fill:none\" points=\"\n  1557.13,1428.05 1557.13,1445.72 1574.62,1445.72 1574.62,1428.05 1557.13,1428.05 \n  \"/>\n<path clip-path=\"url(#clip062)\" d=\"\nM1574.62 1433.94 L1574.62 1445.72 L1592.11 1445.72 L1592.11 1433.94 L1574.62 1433.94 L1574.62 1433.94  Z\n  \" fill=\"#009af9\" fill-rule=\"evenodd\" fill-opacity=\"1\"/>\n<polyline clip-path=\"url(#clip062)\" style=\"stroke:#000000; stroke-width:4; stroke-opacity:1; fill:none\" points=\"\n  1574.62,1433.94 1574.62,1445.72 1592.11,1445.72 1592.11,1433.94 1574.62,1433.94 \n  \"/>\n<path clip-path=\"url(#clip062)\" d=\"\nM1592.11 1431.98 L1592.11 1445.72 L1609.6 1445.72 L1609.6 1431.98 L1592.11 1431.98 L1592.11 1431.98  Z\n  \" fill=\"#009af9\" fill-rule=\"evenodd\" fill-opacity=\"1\"/>\n<polyline clip-path=\"url(#clip062)\" style=\"stroke:#000000; stroke-width:4; stroke-opacity:1; fill:none\" points=\"\n  1592.11,1431.98 1592.11,1445.72 1609.6,1445.72 1609.6,1431.98 1592.11,1431.98 \n  \"/>\n<path clip-path=\"url(#clip062)\" d=\"\nM1609.6 1437.87 L1609.6 1445.72 L1627.09 1445.72 L1627.09 1437.87 L1609.6 1437.87 L1609.6 1437.87  Z\n  \" fill=\"#009af9\" fill-rule=\"evenodd\" fill-opacity=\"1\"/>\n<polyline clip-path=\"url(#clip062)\" style=\"stroke:#000000; stroke-width:4; stroke-opacity:1; fill:none\" points=\"\n  1609.6,1437.87 1609.6,1445.72 1627.09,1445.72 1627.09,1437.87 1609.6,1437.87 \n  \"/>\n<path clip-path=\"url(#clip062)\" d=\"\nM1627.09 1428.05 L1627.09 1445.72 L1644.57 1445.72 L1644.57 1428.05 L1627.09 1428.05 L1627.09 1428.05  Z\n  \" fill=\"#009af9\" fill-rule=\"evenodd\" fill-opacity=\"1\"/>\n<polyline clip-path=\"url(#clip062)\" style=\"stroke:#000000; stroke-width:4; stroke-opacity:1; fill:none\" points=\"\n  1627.09,1428.05 1627.09,1445.72 1644.57,1445.72 1644.57,1428.05 1627.09,1428.05 \n  \"/>\n<path clip-path=\"url(#clip062)\" d=\"\nM1644.57 1437.87 L1644.57 1445.72 L1662.06 1445.72 L1662.06 1437.87 L1644.57 1437.87 L1644.57 1437.87  Z\n  \" fill=\"#009af9\" fill-rule=\"evenodd\" fill-opacity=\"1\"/>\n<polyline clip-path=\"url(#clip062)\" style=\"stroke:#000000; stroke-width:4; stroke-opacity:1; fill:none\" points=\"\n  1644.57,1437.87 1644.57,1445.72 1662.06,1445.72 1662.06,1437.87 1644.57,1437.87 \n  \"/>\n<path clip-path=\"url(#clip062)\" d=\"\nM1662.06 1439.83 L1662.06 1445.72 L1679.55 1445.72 L1679.55 1439.83 L1662.06 1439.83 L1662.06 1439.83  Z\n  \" fill=\"#009af9\" fill-rule=\"evenodd\" fill-opacity=\"1\"/>\n<polyline clip-path=\"url(#clip062)\" style=\"stroke:#000000; stroke-width:4; stroke-opacity:1; fill:none\" points=\"\n  1662.06,1439.83 1662.06,1445.72 1679.55,1445.72 1679.55,1439.83 1662.06,1439.83 \n  \"/>\n<path clip-path=\"url(#clip062)\" d=\"\nM1679.55 1445.72 L1679.55 1445.72 L1697.04 1445.72 L1697.04 1445.72 L1679.55 1445.72 L1679.55 1445.72  Z\n  \" fill=\"#009af9\" fill-rule=\"evenodd\" fill-opacity=\"1\"/>\n<polyline clip-path=\"url(#clip062)\" style=\"stroke:#000000; stroke-width:4; stroke-opacity:1; fill:none\" points=\"\n  1679.55,1445.72 1679.55,1445.72 1697.04,1445.72 1679.55,1445.72 \n  \"/>\n<path clip-path=\"url(#clip062)\" d=\"\nM1697.04 1445.72 L1697.04 1445.72 L1714.53 1445.72 L1714.53 1445.72 L1697.04 1445.72 L1697.04 1445.72  Z\n  \" fill=\"#009af9\" fill-rule=\"evenodd\" fill-opacity=\"1\"/>\n<polyline clip-path=\"url(#clip062)\" style=\"stroke:#000000; stroke-width:4; stroke-opacity:1; fill:none\" points=\"\n  1697.04,1445.72 1697.04,1445.72 1714.53,1445.72 1697.04,1445.72 \n  \"/>\n<path clip-path=\"url(#clip062)\" d=\"\nM1714.53 1443.75 L1714.53 1445.72 L1732.02 1445.72 L1732.02 1443.75 L1714.53 1443.75 L1714.53 1443.75  Z\n  \" fill=\"#009af9\" fill-rule=\"evenodd\" fill-opacity=\"1\"/>\n<polyline clip-path=\"url(#clip062)\" style=\"stroke:#000000; stroke-width:4; stroke-opacity:1; fill:none\" points=\"\n  1714.53,1443.75 1714.53,1445.72 1732.02,1445.72 1732.02,1443.75 1714.53,1443.75 \n  \"/>\n<path clip-path=\"url(#clip062)\" d=\"\nM1732.02 1441.79 L1732.02 1445.72 L1749.51 1445.72 L1749.51 1441.79 L1732.02 1441.79 L1732.02 1441.79  Z\n  \" fill=\"#009af9\" fill-rule=\"evenodd\" fill-opacity=\"1\"/>\n<polyline clip-path=\"url(#clip062)\" style=\"stroke:#000000; stroke-width:4; stroke-opacity:1; fill:none\" points=\"\n  1732.02,1441.79 1732.02,1445.72 1749.51,1445.72 1749.51,1441.79 1732.02,1441.79 \n  \"/>\n<path clip-path=\"url(#clip062)\" d=\"\nM1749.51 1441.79 L1749.51 1445.72 L1767 1445.72 L1767 1441.79 L1749.51 1441.79 L1749.51 1441.79  Z\n  \" fill=\"#009af9\" fill-rule=\"evenodd\" fill-opacity=\"1\"/>\n<polyline clip-path=\"url(#clip062)\" style=\"stroke:#000000; stroke-width:4; stroke-opacity:1; fill:none\" points=\"\n  1749.51,1441.79 1749.51,1445.72 1767,1445.72 1767,1441.79 1749.51,1441.79 \n  \"/>\n<path clip-path=\"url(#clip062)\" d=\"\nM1767 1441.79 L1767 1445.72 L1784.49 1445.72 L1784.49 1441.79 L1767 1441.79 L1767 1441.79  Z\n  \" fill=\"#009af9\" fill-rule=\"evenodd\" fill-opacity=\"1\"/>\n<polyline clip-path=\"url(#clip062)\" style=\"stroke:#000000; stroke-width:4; stroke-opacity:1; fill:none\" points=\"\n  1767,1441.79 1767,1445.72 1784.49,1445.72 1784.49,1441.79 1767,1441.79 \n  \"/>\n<path clip-path=\"url(#clip062)\" d=\"\nM1784.49 1443.75 L1784.49 1445.72 L1801.97 1445.72 L1801.97 1443.75 L1784.49 1443.75 L1784.49 1443.75  Z\n  \" fill=\"#009af9\" fill-rule=\"evenodd\" fill-opacity=\"1\"/>\n<polyline clip-path=\"url(#clip062)\" style=\"stroke:#000000; stroke-width:4; stroke-opacity:1; fill:none\" points=\"\n  1784.49,1443.75 1784.49,1445.72 1801.97,1445.72 1801.97,1443.75 1784.49,1443.75 \n  \"/>\n<path clip-path=\"url(#clip062)\" d=\"\nM1801.97 1445.72 L1801.97 1445.72 L1819.46 1445.72 L1819.46 1445.72 L1801.97 1445.72 L1801.97 1445.72  Z\n  \" fill=\"#009af9\" fill-rule=\"evenodd\" fill-opacity=\"1\"/>\n<polyline clip-path=\"url(#clip062)\" style=\"stroke:#000000; stroke-width:4; stroke-opacity:1; fill:none\" points=\"\n  1801.97,1445.72 1801.97,1445.72 1819.46,1445.72 1801.97,1445.72 \n  \"/>\n<path clip-path=\"url(#clip062)\" d=\"\nM1819.46 1441.79 L1819.46 1445.72 L1836.95 1445.72 L1836.95 1441.79 L1819.46 1441.79 L1819.46 1441.79  Z\n  \" fill=\"#009af9\" fill-rule=\"evenodd\" fill-opacity=\"1\"/>\n<polyline clip-path=\"url(#clip062)\" style=\"stroke:#000000; stroke-width:4; stroke-opacity:1; fill:none\" points=\"\n  1819.46,1441.79 1819.46,1445.72 1836.95,1445.72 1836.95,1441.79 1819.46,1441.79 \n  \"/>\n<path clip-path=\"url(#clip062)\" d=\"\nM1836.95 1445.72 L1836.95 1445.72 L1854.44 1445.72 L1854.44 1445.72 L1836.95 1445.72 L1836.95 1445.72  Z\n  \" fill=\"#009af9\" fill-rule=\"evenodd\" fill-opacity=\"1\"/>\n<polyline clip-path=\"url(#clip062)\" style=\"stroke:#000000; stroke-width:4; stroke-opacity:1; fill:none\" points=\"\n  1836.95,1445.72 1836.95,1445.72 1854.44,1445.72 1836.95,1445.72 \n  \"/>\n<path clip-path=\"url(#clip062)\" d=\"\nM1854.44 1443.75 L1854.44 1445.72 L1871.93 1445.72 L1871.93 1443.75 L1854.44 1443.75 L1854.44 1443.75  Z\n  \" fill=\"#009af9\" fill-rule=\"evenodd\" fill-opacity=\"1\"/>\n<polyline clip-path=\"url(#clip062)\" style=\"stroke:#000000; stroke-width:4; stroke-opacity:1; fill:none\" points=\"\n  1854.44,1443.75 1854.44,1445.72 1871.93,1445.72 1871.93,1443.75 1854.44,1443.75 \n  \"/>\n<path clip-path=\"url(#clip062)\" d=\"\nM1871.93 1445.72 L1871.93 1445.72 L1889.42 1445.72 L1889.42 1445.72 L1871.93 1445.72 L1871.93 1445.72  Z\n  \" fill=\"#009af9\" fill-rule=\"evenodd\" fill-opacity=\"1\"/>\n<polyline clip-path=\"url(#clip062)\" style=\"stroke:#000000; stroke-width:4; stroke-opacity:1; fill:none\" points=\"\n  1871.93,1445.72 1871.93,1445.72 1889.42,1445.72 1871.93,1445.72 \n  \"/>\n<path clip-path=\"url(#clip062)\" d=\"\nM1889.42 1443.75 L1889.42 1445.72 L1906.91 1445.72 L1906.91 1443.75 L1889.42 1443.75 L1889.42 1443.75  Z\n  \" fill=\"#009af9\" fill-rule=\"evenodd\" fill-opacity=\"1\"/>\n<polyline clip-path=\"url(#clip062)\" style=\"stroke:#000000; stroke-width:4; stroke-opacity:1; fill:none\" points=\"\n  1889.42,1443.75 1889.42,1445.72 1906.91,1445.72 1906.91,1443.75 1889.42,1443.75 \n  \"/>\n<path clip-path=\"url(#clip062)\" d=\"\nM1906.91 1443.75 L1906.91 1445.72 L1924.4 1445.72 L1924.4 1443.75 L1906.91 1443.75 L1906.91 1443.75  Z\n  \" fill=\"#009af9\" fill-rule=\"evenodd\" fill-opacity=\"1\"/>\n<polyline clip-path=\"url(#clip062)\" style=\"stroke:#000000; stroke-width:4; stroke-opacity:1; fill:none\" points=\"\n  1906.91,1443.75 1906.91,1445.72 1924.4,1445.72 1924.4,1443.75 1906.91,1443.75 \n  \"/>\n<path clip-path=\"url(#clip062)\" d=\"\nM1924.4 1443.75 L1924.4 1445.72 L1941.89 1445.72 L1941.89 1443.75 L1924.4 1443.75 L1924.4 1443.75  Z\n  \" fill=\"#009af9\" fill-rule=\"evenodd\" fill-opacity=\"1\"/>\n<polyline clip-path=\"url(#clip062)\" style=\"stroke:#000000; stroke-width:4; stroke-opacity:1; fill:none\" points=\"\n  1924.4,1443.75 1924.4,1445.72 1941.89,1445.72 1941.89,1443.75 1924.4,1443.75 \n  \"/>\n<path clip-path=\"url(#clip062)\" d=\"\nM1941.89 1445.72 L1941.89 1445.72 L1959.38 1445.72 L1959.38 1445.72 L1941.89 1445.72 L1941.89 1445.72  Z\n  \" fill=\"#009af9\" fill-rule=\"evenodd\" fill-opacity=\"1\"/>\n<polyline clip-path=\"url(#clip062)\" style=\"stroke:#000000; stroke-width:4; stroke-opacity:1; fill:none\" points=\"\n  1941.89,1445.72 1941.89,1445.72 1959.38,1445.72 1941.89,1445.72 \n  \"/>\n<path clip-path=\"url(#clip062)\" d=\"\nM1959.38 1445.72 L1959.38 1445.72 L1976.86 1445.72 L1976.86 1445.72 L1959.38 1445.72 L1959.38 1445.72  Z\n  \" fill=\"#009af9\" fill-rule=\"evenodd\" fill-opacity=\"1\"/>\n<polyline clip-path=\"url(#clip062)\" style=\"stroke:#000000; stroke-width:4; stroke-opacity:1; fill:none\" points=\"\n  1959.38,1445.72 1959.38,1445.72 1976.86,1445.72 1959.38,1445.72 \n  \"/>\n<path clip-path=\"url(#clip062)\" d=\"\nM1976.86 1445.72 L1976.86 1445.72 L1994.35 1445.72 L1994.35 1445.72 L1976.86 1445.72 L1976.86 1445.72  Z\n  \" fill=\"#009af9\" fill-rule=\"evenodd\" fill-opacity=\"1\"/>\n<polyline clip-path=\"url(#clip062)\" style=\"stroke:#000000; stroke-width:4; stroke-opacity:1; fill:none\" points=\"\n  1976.86,1445.72 1976.86,1445.72 1994.35,1445.72 1976.86,1445.72 \n  \"/>\n<path clip-path=\"url(#clip062)\" d=\"\nM1994.35 1445.72 L1994.35 1445.72 L2011.84 1445.72 L2011.84 1445.72 L1994.35 1445.72 L1994.35 1445.72  Z\n  \" fill=\"#009af9\" fill-rule=\"evenodd\" fill-opacity=\"1\"/>\n<polyline clip-path=\"url(#clip062)\" style=\"stroke:#000000; stroke-width:4; stroke-opacity:1; fill:none\" points=\"\n  1994.35,1445.72 1994.35,1445.72 2011.84,1445.72 1994.35,1445.72 \n  \"/>\n<path clip-path=\"url(#clip062)\" d=\"\nM2011.84 1445.72 L2011.84 1445.72 L2029.33 1445.72 L2029.33 1445.72 L2011.84 1445.72 L2011.84 1445.72  Z\n  \" fill=\"#009af9\" fill-rule=\"evenodd\" fill-opacity=\"1\"/>\n<polyline clip-path=\"url(#clip062)\" style=\"stroke:#000000; stroke-width:4; stroke-opacity:1; fill:none\" points=\"\n  2011.84,1445.72 2011.84,1445.72 2029.33,1445.72 2011.84,1445.72 \n  \"/>\n<path clip-path=\"url(#clip062)\" d=\"\nM2029.33 1445.72 L2029.33 1445.72 L2046.82 1445.72 L2046.82 1445.72 L2029.33 1445.72 L2029.33 1445.72  Z\n  \" fill=\"#009af9\" fill-rule=\"evenodd\" fill-opacity=\"1\"/>\n<polyline clip-path=\"url(#clip062)\" style=\"stroke:#000000; stroke-width:4; stroke-opacity:1; fill:none\" points=\"\n  2029.33,1445.72 2029.33,1445.72 2046.82,1445.72 2029.33,1445.72 \n  \"/>\n<path clip-path=\"url(#clip062)\" d=\"\nM2046.82 1445.72 L2046.82 1445.72 L2064.31 1445.72 L2064.31 1445.72 L2046.82 1445.72 L2046.82 1445.72  Z\n  \" fill=\"#009af9\" fill-rule=\"evenodd\" fill-opacity=\"1\"/>\n<polyline clip-path=\"url(#clip062)\" style=\"stroke:#000000; stroke-width:4; stroke-opacity:1; fill:none\" points=\"\n  2046.82,1445.72 2046.82,1445.72 2064.31,1445.72 2046.82,1445.72 \n  \"/>\n<path clip-path=\"url(#clip062)\" d=\"\nM2064.31 1445.72 L2064.31 1445.72 L2081.8 1445.72 L2081.8 1445.72 L2064.31 1445.72 L2064.31 1445.72  Z\n  \" fill=\"#009af9\" fill-rule=\"evenodd\" fill-opacity=\"1\"/>\n<polyline clip-path=\"url(#clip062)\" style=\"stroke:#000000; stroke-width:4; stroke-opacity:1; fill:none\" points=\"\n  2064.31,1445.72 2064.31,1445.72 2081.8,1445.72 2064.31,1445.72 \n  \"/>\n<path clip-path=\"url(#clip062)\" d=\"\nM2081.8 1443.75 L2081.8 1445.72 L2099.29 1445.72 L2099.29 1443.75 L2081.8 1443.75 L2081.8 1443.75  Z\n  \" fill=\"#009af9\" fill-rule=\"evenodd\" fill-opacity=\"1\"/>\n<polyline clip-path=\"url(#clip062)\" style=\"stroke:#000000; stroke-width:4; stroke-opacity:1; fill:none\" points=\"\n  2081.8,1443.75 2081.8,1445.72 2099.29,1445.72 2099.29,1443.75 2081.8,1443.75 \n  \"/>\n<polyline clip-path=\"url(#clip062)\" style=\"stroke:#e26f46; stroke-width:4; stroke-opacity:1; fill:none\" points=\"\n  236.501,1445.72 246.825,1445.71 257.15,1445.68 267.475,1445.55 277.799,1445.22 288.124,1444.66 298.449,1444.18 308.773,1444.17 319.098,1444.62 329.423,1445.1 \n  339.748,1445.23 350.072,1445.02 360.397,1444.84 370.722,1444.97 381.046,1445.28 391.371,1445.48 401.696,1445.39 412.021,1444.98 422.345,1444.4 432.67,1443.87 \n  442.995,1443.5 453.319,1443.12 463.644,1442.4 473.969,1441.48 484.294,1440.96 494.618,1441.12 504.943,1441.34 515.268,1440.68 525.592,1439.18 535.917,1437.89 \n  546.242,1437.91 556.566,1439.17 566.891,1440.52 577.216,1441.34 587.541,1442.04 597.865,1442.47 608.19,1442.01 618.515,1440.88 628.839,1439.63 639.164,1438.04 \n  649.489,1436.2 659.814,1434.89 670.138,1434.01 680.463,1432.56 690.788,1430.86 701.112,1430 711.437,1429.14 721.762,1425.99 732.087,1420.01 742.411,1413.47 \n  752.736,1408.86 763.061,1405.78 773.385,1402.37 783.71,1398.54 794.035,1394.67 804.359,1389.3 814.684,1381.08 825.009,1370.33 835.334,1357.87 845.658,1344.6 \n  855.983,1330.19 866.308,1311.53 876.632,1286.85 886.957,1259.05 897.282,1230.75 907.607,1199.74 917.931,1163.29 928.256,1123.36 938.581,1082.13 948.905,1036.84 \n  959.23,984.534 969.555,923.942 979.879,851.716 990.204,765.248 1000.53,669.198 1010.85,575.259 1021.18,493.559 1031.5,426.14 1041.83,369.343 1052.15,318.203 \n  1062.48,264.759 1072.8,200.382 1083.13,132.344 1093.45,87.9763 1103.78,88.6925 1114.1,128.653 1124.43,186.247 1134.75,246.971 1145.07,309.636 1155.4,376.053 \n  1165.72,443.525 1176.05,510.66 1186.37,582.36 1196.7,660.548 1207.02,737.31 1217.35,804.291 1227.67,863.195 1238,923.388 1248.32,989.534 1258.65,1055.51 \n  1268.97,1113.38 1279.3,1161.97 1289.62,1203.72 1299.95,1240.1 1310.27,1271.96 1320.59,1299.17 1330.92,1320.01 1341.24,1333.54 1351.57,1342.3 1361.89,1351.58 \n  1372.22,1364.52 1382.54,1378.49 1392.87,1389.08 1403.19,1395.52 1413.52,1399.51 1423.84,1402.4 1434.17,1405.71 1444.49,1410.55 1454.82,1415.93 1465.14,1420.33 \n  1475.47,1423.55 1485.79,1425.91 1496.11,1427.73 1506.44,1429.56 1516.76,1431.6 1527.09,1433.29 1537.41,1434.43 1547.74,1435.78 1558.06,1437.73 1568.39,1439.58 \n  1578.71,1440.73 1589.04,1441.25 1599.36,1441.12 1609.69,1440.5 1620.01,1439.89 1630.34,1439.44 1640.66,1439.42 1650.99,1440.37 1661.31,1442.01 1671.63,1443.29 \n  1681.96,1443.73 1692.28,1443.67 1702.61,1443.62 1712.93,1443.66 1723.26,1443.7 1733.58,1443.93 1743.91,1444.5 1754.23,1445.13 1764.56,1445.5 1774.88,1445.55 \n  1785.21,1445.27 1795.53,1444.69 1805.86,1444.13 1816.18,1444.08 1826.51,1444.59 1836.83,1445.16 1847.15,1445.38 1857.48,1445.23 1867.8,1444.94 1878.13,1444.87 \n  1888.45,1445.1 1898.78,1445.42 1909.1,1445.58 1919.43,1445.5 1929.75,1445.23 1940.08,1444.94 1950.4,1444.88 1960.73,1445.12 1971.05,1445.43 1981.38,1445.59 \n  1991.7,1445.52 2002.03,1445.25 2012.35,1444.95 2022.67,1444.86 2033,1445.05 2043.32,1445.25 2053.65,1445.18 2063.97,1444.93 2074.3,1444.86 2084.62,1445.1 \n  2094.95,1445.42 2105.27,1445.63 2115.6,1445.7 2125.92,1445.71 2136.25,1445.72 2146.57,1445.72 2156.9,1445.72 2167.22,1445.72 2177.55,1445.71 2187.87,1445.7 \n  2198.2,1445.61 2208.52,1445.39 2218.84,1445.04 2229.17,1444.84 2239.49,1444.98 2249.82,1445.31 2260.14,1445.57 2270.47,1445.68 2280.79,1445.71 2291.12,1445.72 \n  \n  \"/>\n<path clip-path=\"url(#clip060)\" d=\"\nM1987.15 276.658 L2280.16 276.658 L2280.16 95.2176 L1987.15 95.2176  Z\n  \" fill=\"#ffffff\" fill-rule=\"evenodd\" fill-opacity=\"1\"/>\n<polyline clip-path=\"url(#clip060)\" style=\"stroke:#000000; stroke-width:4; stroke-opacity:1; fill:none\" points=\"\n  1987.15,276.658 2280.16,276.658 2280.16,95.2176 1987.15,95.2176 1987.15,276.658 \n  \"/>\n<path clip-path=\"url(#clip060)\" d=\"\nM2011.35 179.89 L2156.54 179.89 L2156.54 131.506 L2011.35 131.506 L2011.35 179.89  Z\n  \" fill=\"#009af9\" fill-rule=\"evenodd\" fill-opacity=\"1\"/>\n<polyline clip-path=\"url(#clip060)\" style=\"stroke:#000000; stroke-width:4; stroke-opacity:1; fill:none\" points=\"\n  2011.35,179.89 2156.54,179.89 2156.54,131.506 2011.35,131.506 2011.35,179.89 \n  \"/>\n<path clip-path=\"url(#clip060)\" d=\"M 0 0 M2194.59 175.385 Q2192.78 180.015 2191.07 181.427 Q2189.35 182.839 2186.48 182.839 L2183.08 182.839 L2183.08 179.274 L2185.58 179.274 Q2187.34 179.274 2188.31 178.44 Q2189.29 177.607 2190.47 174.505 L2191.23 172.561 L2180.74 147.052 L2185.26 147.052 L2193.36 167.329 L2201.46 147.052 L2205.97 147.052 L2194.59 175.385 Z\" fill=\"#000000\" fill-rule=\"evenodd\" fill-opacity=\"1\" /><path clip-path=\"url(#clip060)\" d=\"M 0 0 M2211.85 169.042 L2219.49 169.042 L2219.49 142.677 L2211.18 144.343 L2211.18 140.084 L2219.45 138.418 L2224.12 138.418 L2224.12 169.042 L2231.76 169.042 L2231.76 172.978 L2211.85 172.978 L2211.85 169.042 Z\" fill=\"#000000\" fill-rule=\"evenodd\" fill-opacity=\"1\" /><polyline clip-path=\"url(#clip060)\" style=\"stroke:#e26f46; stroke-width:4; stroke-opacity:1; fill:none\" points=\"\n  2011.35,216.178 2156.54,216.178 \n  \"/>\n<path clip-path=\"url(#clip060)\" d=\"M 0 0 M2194.59 235.865 Q2192.78 240.495 2191.07 241.907 Q2189.35 243.319 2186.48 243.319 L2183.08 243.319 L2183.08 239.754 L2185.58 239.754 Q2187.34 239.754 2188.31 238.92 Q2189.29 238.087 2190.47 234.985 L2191.23 233.041 L2180.74 207.532 L2185.26 207.532 L2193.36 227.809 L2201.46 207.532 L2205.97 207.532 L2194.59 235.865 Z\" fill=\"#000000\" fill-rule=\"evenodd\" fill-opacity=\"1\" /><path clip-path=\"url(#clip060)\" d=\"M 0 0 M2215.07 229.522 L2231.39 229.522 L2231.39 233.458 L2209.45 233.458 L2209.45 229.522 Q2212.11 226.768 2216.69 222.138 Q2221.3 217.485 2222.48 216.143 Q2224.72 213.62 2225.6 211.884 Q2226.51 210.124 2226.51 208.435 Q2226.51 205.68 2224.56 203.944 Q2222.64 202.208 2219.54 202.208 Q2217.34 202.208 2214.89 202.972 Q2212.46 203.735 2209.68 205.286 L2209.68 200.564 Q2212.5 199.43 2214.96 198.851 Q2217.41 198.273 2219.45 198.273 Q2224.82 198.273 2228.01 200.958 Q2231.21 203.643 2231.21 208.134 Q2231.21 210.263 2230.4 212.185 Q2229.61 214.083 2227.5 216.675 Q2226.92 217.347 2223.82 220.564 Q2220.72 223.759 2215.07 229.522 Z\" fill=\"#000000\" fill-rule=\"evenodd\" fill-opacity=\"1\" /></svg>\n"
     },
     "execution_count": 11,
     "metadata": {},
     "output_type": "execute_result"
    }
   ],
   "source": [
    "histogram(log.(S[1]), normalize= true)\n",
    "density!(rand(LocationScale(μ0, 1/sqrt(13.44940881369001), TDist(4.672189981883816)), 10_000))"
   ]
  },
  {
   "cell_type": "code",
   "execution_count": 12,
   "id": "ca74f6f4",
   "metadata": {},
   "outputs": [
    {
     "data": {
      "text/plain": [
       "10000-element Array{Float64,1}:\n",
       " 10.533378777696424\n",
       " 10.51220912319722\n",
       " 10.840753254916402\n",
       " 10.258484774164932\n",
       " 10.7068519738054\n",
       " 10.23048879347312\n",
       " 11.402015790615659\n",
       "  9.912041315116843\n",
       " 10.324479786048457\n",
       " 10.951262624194957\n",
       " 10.799749856117359\n",
       " 10.434602058008911\n",
       " 11.047401997995248\n",
       "  ⋮\n",
       " 10.12336655495165\n",
       " 10.17671086231535\n",
       " 11.049126270234598\n",
       " 10.522178475073932\n",
       " 10.548335719022662\n",
       " 10.57630709204749\n",
       " 10.765478880893832\n",
       " 10.357391242470356\n",
       "  9.982725992254643\n",
       " 10.857747091859915\n",
       " 10.678827561735469\n",
       " 10.361493717961169"
      ]
     },
     "execution_count": 12,
     "metadata": {},
     "output_type": "execute_result"
    }
   ],
   "source": [
    "lns= log.(S[1])"
   ]
  },
  {
   "cell_type": "markdown",
   "id": "d1ea8343",
   "metadata": {},
   "source": [
    " We use the M(S)"
   ]
  },
  {
   "cell_type": "code",
   "execution_count": 13,
   "id": "d480512a",
   "metadata": {},
   "outputs": [
    {
     "data": {
      "text/plain": [
       "10.664167805968546"
      ]
     },
     "execution_count": 13,
     "metadata": {},
     "output_type": "execute_result"
    }
   ],
   "source": [
    "med= median(lns)"
   ]
  },
  {
   "cell_type": "markdown",
   "id": "f8b592af",
   "metadata": {},
   "source": [
    "Let T be a r.v. with distribution t-student ($\\alpha$)\n",
    "$$F_{lnS} ^{-1}(u | \\mu,\\lambda,\\alpha)=\\mu + \\frac\n",
    "{1}{\\sqrt{\\lambda}}F_{T} ^{-1}(u | \\mu)$$"
   ]
  },
  {
   "cell_type": "code",
   "execution_count": null,
   "id": "23a0fffc",
   "metadata": {},
   "outputs": [
    {
     "name": "stdout",
     "output_type": "stream",
     "text": [
      "The VaR at 75% of our sample's log is 10.807592910283638 and the VaR at 99.5% is 11.878150641559982"
     ]
    }
   ],
   "source": [
    "Var75,Var995=quantile(log.(S[1]),0.75),quantile(log.(S[1]),0.995)\n",
    "print(\"The VaR at 75% of our sample's log is \", Var75 , \" and the VaR at 99.5% is \" , Var995)"
   ]
  },
  {
   "cell_type": "markdown",
   "id": "798248e2",
   "metadata": {},
   "source": [
    "This implies,\n",
    "$$10.655=10.429+ \\frac\n",
    "{1}{\\sqrt{\\lambda}}F_{T} ^{-1}(0.75 | \\alpha)$$\n",
    "\n",
    "$$11.62=10.429+ \\frac\n",
    "{1}{\\sqrt{\\lambda}}F_{T} ^{-1}(0.995 | \\alpha)$$"
   ]
  },
  {
   "cell_type": "code",
   "execution_count": null,
   "id": "915e9415",
   "metadata": {},
   "outputs": [
    {
     "data": {
      "text/plain": [
       "(0.24376650113266152, 1.314324232409005)"
      ]
     },
     "execution_count": 49,
     "metadata": {},
     "output_type": "execute_result"
    }
   ],
   "source": [
    "difference1,difference2=Var75-med,Var995-med # in order to minimice the difference"
   ]
  },
  {
   "cell_type": "code",
   "execution_count": null,
   "id": "a2728446",
   "metadata": {},
   "outputs": [
    {
     "data": {
      "text/plain": [
       "2.6345291094060013"
      ]
     },
     "execution_count": 57,
     "metadata": {},
     "output_type": "execute_result"
    }
   ],
   "source": [
    "difference1*10.807592910283638"
   ]
  },
  {
   "cell_type": "code",
   "execution_count": null,
   "id": "c30fbafe",
   "metadata": {},
   "outputs": [
    {
     "data": {
      "text/plain": [
       "15.611741224406853"
      ]
     },
     "execution_count": 58,
     "metadata": {},
     "output_type": "execute_result"
    }
   ],
   "source": [
    "difference2*11.878150641559982"
   ]
  },
  {
   "cell_type": "markdown",
   "id": "f1d1decb",
   "metadata": {},
   "source": [
    "Now we estimate the second parameter of the distribution LogNormal. Let \n",
    "\n",
    "\n",
    "$$\\lambda = \\frac{n_{0} \\alpha}{(n_{0}+1) \\beta }  $$\n",
    "\n",
    "We use the following expressions \n",
    "\n",
    "$$  \\alpha = \\frac{1}{\\sqrt{\\lambda}} F^{-1}_{T} (0.75 | \\alpha)  $$\n",
    "\n",
    "$$ 0.2437 = \\frac{1}{\\sqrt{\\lambda}} F^{-1}_{T} (0.75 | \\alpha) $$\n",
    "\n",
    "and \n",
    "\n",
    "$$  \\sigma = \\frac{1}{\\sqrt{\\lambda}} F^{-1}_{T} (0.995 | \\alpha)  $$\n",
    "\n",
    "$$ 1.3143 = \\frac{1}{\\sqrt{\\lambda}} F^{-1}_{T} (0.995 | \\alpha) $$\n",
    "\n",
    "so\n",
    "\n",
    "$$ 0.2437  =   \\frac{1}{\\sqrt{\\lambda}} F^{-1}_{T} (0.75 | \\alpha) $$\n",
    "$$  1.3143 = \\frac{1}{\\sqrt{\\lambda}} F^{-1}_{T} (0.995 | \\alpha) $$\n",
    "\n",
    "Insolate the variable lambda \n",
    "\n",
    "$$  \\lambda =  (\\frac{F^{-1}_{T} (0.75 | \\alpha)}{0.2437})^2 $$\n",
    "\n",
    "\n",
    "$$\\lambda =  (\\frac{F^{-1}_{T} (0.995 | \\alpha)}{1.3143})^2$$\n",
    "\n",
    "\n",
    "\n",
    "We obtain \n",
    "\n",
    "$$(\\frac{F^{-1}{T} (0.75 | \\alpha)}{0.2437})^2 = (\\frac{F^{-1}{T} (0.995 | \\alpha)}{1.3143})^2 $$\n",
    "\n",
    "So now we calculte \n",
    "\n",
    "\n",
    "$$ | (\\frac{F^{-1}{T} (0.75 | \\alpha)}{0.2437})^2 - (\\frac{F^{-1}{T} (0.995 | \\alpha)}{1.3143})^2 | =0 $$"
   ]
  },
  {
   "cell_type": "markdown",
   "id": "8e11d000",
   "metadata": {},
   "source": [
    "Now, let's see the graph :\n"
   ]
  },
  {
   "cell_type": "code",
   "execution_count": 16,
   "id": "895d2aee",
   "metadata": {},
   "outputs": [
    {
     "ename": "LoadError",
     "evalue": "\u001b[91mUndefVarError: @L_str not defined\u001b[39m",
     "output_type": "error",
     "traceback": [
      "\u001b[91mUndefVarError: @L_str not defined\u001b[39m",
      ""
     ]
    }
   ],
   "source": [
    "f(x)=abs(quantile(TDist(x),0.75)/difference1-quantile(TDist(x),0.995)/difference2)\n",
    "x=collect(range(2,8,length=1_000))\n",
    "plot(x,f.(x),legend=false,lw=3,xlabel=L\"x\",ylabel=L\"f(x)\")"
   ]
  },
  {
   "cell_type": "markdown",
   "id": "157581a2",
   "metadata": {},
   "source": [
    "As we can see, the root must be among 5 and 6, so "
   ]
  },
  {
   "cell_type": "code",
   "execution_count": 14,
   "id": "d9e1d57f",
   "metadata": {},
   "outputs": [
    {
     "ename": "UndefVarError",
     "evalue": "\u001b[91mUndefVarError: f not defined\u001b[39m",
     "output_type": "error",
     "traceback": [
      "\u001b[91mUndefVarError: f not defined\u001b[39m",
      "",
      "Stacktrace:",
      " [1] top-level scope at ./In[14]:2"
     ]
    }
   ],
   "source": [
    "α=5\n",
    "while f(α)>0.0000001 && α<6\n",
    "    α+= 0.0000001\n",
    "end \n",
    "print(α)"
   ]
  },
  {
   "cell_type": "markdown",
   "id": "cb0a866f",
   "metadata": {},
   "source": [
    "Thanks to the equations above, we can solve for $\\lambda$\n",
    "\n",
    "$$ \\lambda = \\left( \\frac {F_{T} ^{-1}(0.75 | \\alpha=5.3536)}{0.2437}\\right)^{2} $$"
   ]
  },
  {
   "cell_type": "code",
   "execution_count": 15,
   "id": "1d52b90a",
   "metadata": {},
   "outputs": [
    {
     "ename": "UndefVarError",
     "evalue": "\u001b[91mUndefVarError: difference2 not defined\u001b[39m",
     "output_type": "error",
     "traceback": [
      "\u001b[91mUndefVarError: difference2 not defined\u001b[39m",
      "",
      "Stacktrace:",
      " [1] top-level scope at In[15]:1"
     ]
    }
   ],
   "source": [
    "λ=(quantile(TDist(α),0.995)/difference2)^2"
   ]
  },
  {
   "cell_type": "markdown",
   "id": "d11b4293",
   "metadata": {},
   "source": [
    "Now, we obtain $\\beta$ \n",
    "\n",
    "$$\\lambda = \\frac{n_{0} \\alpha}{(n_{0}+1) \\beta }  $$\n",
    "\n",
    "\n",
    "$$ \\beta = \\frac{n_{0} \\alpha}{(n_{0}+1) \\lambda }  $$"
   ]
  },
  {
   "cell_type": "code",
   "execution_count": null,
   "id": "9ddeb413",
   "metadata": {},
   "outputs": [
    {
     "data": {
      "text/plain": [
       "3.2867751629060935"
      ]
     },
     "execution_count": 85,
     "metadata": {},
     "output_type": "execute_result"
    }
   ],
   "source": [
    "γ= α/2\n",
    "difference3= λ/γ"
   ]
  },
  {
   "cell_type": "markdown",
   "id": "4d7990a6",
   "metadata": {},
   "source": [
    "We know \n",
    "\n",
    "$$2 \\alpha = 5.3536 , \\lambda = 8.7980 $$\n",
    "\n",
    "so \n",
    "\n",
    "$$\\alpha = 2.6768$$\n",
    "\n",
    "$$ \\beta = \\frac{n_{0} (5.3536)}{(n_{0}+1) (8.7980) }  $$"
   ]
  },
  {
   "cell_type": "code",
   "execution_count": null,
   "id": "e0a4a69c",
   "metadata": {},
   "outputs": [
    {
     "data": {
      "text/plain": [
       "g (generic function with 1 method)"
      ]
     },
     "execution_count": 87,
     "metadata": {},
     "output_type": "execute_result"
    }
   ],
   "source": [
    "g(x)= abs(x[1]*(γ)/((x[1]+1)*λ)-x[2]) #x[1] is n_0 and x[2] is beta "
   ]
  },
  {
   "cell_type": "code",
   "execution_count": null,
   "id": "5e1befe7",
   "metadata": {},
   "outputs": [
    {
     "name": "stdout",
     "output_type": "stream",
     "text": [
      "Iterando... \n",
      "...fin\n"
     ]
    },
    {
     "data": {
      "text/plain": [
       "2-element Vector{Float64}:\n",
       " 6.470399571243904\n",
       " 0.2635222394070607"
      ]
     },
     "execution_count": 83,
     "metadata": {},
     "output_type": "execute_result"
    }
   ],
   "source": [
    "accuracy = EDA(g,[0,0],[10,10])[1] "
   ]
  },
  {
   "cell_type": "code",
   "execution_count": null,
   "id": "02e881a9",
   "metadata": {},
   "outputs": [
    {
     "data": {
      "text/plain": [
       "3.286775164243201"
      ]
     },
     "execution_count": 88,
     "metadata": {},
     "output_type": "execute_result"
    }
   ],
   "source": [
    "accuracy[1]/(accuracy[2]*(accuracy[1]+1)) #prove the equality "
   ]
  },
  {
   "cell_type": "markdown",
   "id": "b8fe551b",
   "metadata": {},
   "source": [
    "at this point we already know the hyperparameters\n",
    "\n",
    "$$  \\mu_{0} = 10.563 $$\n",
    "$$ \\lambda = 8.798 $$\n",
    "$$\\beta = 0.263$$\n",
    "$$n_{0}= 6.470 $$\n",
    "$$2\\alpha =5.353 $$\n",
    "\n",
    "With distribution \n",
    "\n",
    "$$Student(10.563,8.798,5.7197) $$"
   ]
  },
  {
   "cell_type": "markdown",
   "id": "c1d8c334",
   "metadata": {},
   "source": [
    "Let´s find the a posteriori\n",
    "\n",
    "$$  St (\\mu_{m} ,  \\frac{(n_{0}+m )(\\alpha + m/2)}{(n_{0}+m+1) \\beta_{m}} ,  2 \\alpha +m)  $$\n",
    "\n",
    "$$\\mu_{m} =  \\frac{n_{0} \\mu_{0}+m \\bar{S} }{n_{0}+m} $$ \n",
    "\n",
    "with $m=5$"
   ]
  },
  {
   "cell_type": "code",
   "execution_count": 19,
   "id": "9fd2ef15",
   "metadata": {},
   "outputs": [
    {
     "data": {
      "text/plain": [
       "5-element Array{Float64,1}:\n",
       "  8.560827228436299\n",
       " 10.291704767234739\n",
       "  9.510296805303351\n",
       "  9.876219125381935\n",
       " 10.14509950813338"
      ]
     },
     "execution_count": 19,
     "metadata": {},
     "output_type": "execute_result"
    }
   ],
   "source": [
    "obs= log.([5223,29487,13498,19462,25466])"
   ]
  },
  {
   "cell_type": "code",
   "execution_count": null,
   "id": "ef38721c",
   "metadata": {},
   "outputs": [
    {
     "data": {
      "text/plain": [
       "4-element Vector{Float64}:\n",
       " 10.563826409150977\n",
       "  6.470399571243904\n",
       "  0.2635222394070607\n",
       "  5.353615500991649"
      ]
     },
     "execution_count": 92,
     "metadata": {},
     "output_type": "execute_result"
    }
   ],
   "source": [
    "param=[med, accuracy[1], accuracy[2], α]"
   ]
  },
  {
   "cell_type": "code",
   "execution_count": null,
   "id": "a231d9d2",
   "metadata": {},
   "outputs": [
    {
     "data": {
      "text/plain": [
       "10.177180365678907"
      ]
     },
     "execution_count": 100,
     "metadata": {},
     "output_type": "execute_result"
    }
   ],
   "source": [
    "μ_m= (param[2]*param[1]+m*M)/(param[2]+m)"
   ]
  },
  {
   "cell_type": "code",
   "execution_count": null,
   "id": "34d65bfc",
   "metadata": {},
   "outputs": [
    {
     "data": {
      "text/plain": [
       "(9.67682948689794, 5)"
      ]
     },
     "execution_count": 93,
     "metadata": {},
     "output_type": "execute_result"
    }
   ],
   "source": [
    "M,m=mean(obs),5"
   ]
  },
  {
   "cell_type": "code",
   "execution_count": null,
   "id": "fec483c6",
   "metadata": {},
   "outputs": [
    {
     "data": {
      "text/plain": [
       "0.47757470650577744"
      ]
     },
     "execution_count": 94,
     "metadata": {},
     "output_type": "execute_result"
    }
   ],
   "source": [
    "varest= (1/(m-1))*((8.560827228436-M)^2+( 10.291704767234739-M)^2+(9.510296805303351-M)^2+(9.876219125381935-M)^2+(10.14509950813338-M)^2)"
   ]
  },
  {
   "cell_type": "markdown",
   "id": "05656860",
   "metadata": {},
   "source": [
    "Now we calculate $\\beta_m$\n",
    "\n",
    "$$\\beta_m = \\beta +\\frac{1}{2} m \\hat\\sigma^{2} + \\frac{1}{2} \\frac{n_{0}m(\\mu_{0}-\\bar{s})^2}{n_{0}+m}$$\n",
    "\n",
    "and $\\sigma^2$\n",
    "\n",
    "$$\\sigma^2=\\frac{1}{m-1} \\sum_{k=1}^{m} (s_{k}-\\bar{s})^2 = 0.477574$$"
   ]
  },
  {
   "cell_type": "code",
   "execution_count": null,
   "id": "142592de",
   "metadata": {},
   "outputs": [],
   "source": [
    "#varest= (1/(m-1))* sum(obs[])"
   ]
  },
  {
   "cell_type": "code",
   "execution_count": null,
   "id": "6875258f",
   "metadata": {},
   "outputs": [],
   "source": [
    "#for i in 1:5 \n",
    " #   Sum[i] += (obs[i]-M)^2\n",
    "#end\n",
    "#return Sum"
   ]
  },
  {
   "cell_type": "code",
   "execution_count": null,
   "id": "39312254",
   "metadata": {},
   "outputs": [
    {
     "data": {
      "text/plain": [
       "2.566983229484803"
      ]
     },
     "execution_count": 99,
     "metadata": {},
     "output_type": "execute_result"
    }
   ],
   "source": [
    "β_m= param[3]+m*varest/2 +(1/2)*(param[2]*m*(param[1]-M)^2)/(param[2]+m)"
   ]
  },
  {
   "cell_type": "markdown",
   "id": "62ca173c",
   "metadata": {},
   "source": [
    "We calculate the second parameter of the a postirior \n",
    "$$\\frac{(n_{0}+m )(\\alpha + m/2)}{(n_{0}+m+1) \\beta_{m}}$$"
   ]
  },
  {
   "cell_type": "code",
   "execution_count": null,
   "id": "89b85f39",
   "metadata": {},
   "outputs": [
    {
     "data": {
      "text/plain": [
       "1.8549712515581942"
      ]
     },
     "execution_count": 101,
     "metadata": {},
     "output_type": "execute_result"
    }
   ],
   "source": [
    "λ_m = ((param[2]+m)*(γ+5/2))/((param[2]+m+1)*(β_m))"
   ]
  },
  {
   "cell_type": "code",
   "execution_count": null,
   "id": "0dab5fda",
   "metadata": {},
   "outputs": [
    {
     "data": {
      "text/plain": [
       "10.353615500991648"
      ]
     },
     "execution_count": 103,
     "metadata": {},
     "output_type": "execute_result"
    }
   ],
   "source": [
    "α_m = param[4]+m"
   ]
  },
  {
   "cell_type": "markdown",
   "id": "04ed694d",
   "metadata": {},
   "source": [
    "We know all parameters of the distribution T-Studen \n",
    "\n",
    "$$St (10.1771 , 1.8549  , 10.3536) $$"
   ]
  },
  {
   "cell_type": "markdown",
   "id": "b0f2c5e3",
   "metadata": {},
   "source": [
    "Now we´re going to calculate the SCR using the M(S)"
   ]
  },
  {
   "cell_type": "code",
   "execution_count": null,
   "id": "2ad52c8d",
   "metadata": {},
   "outputs": [
    {
     "ename": "LoadError",
     "evalue": "UndefVarError: S not defined",
     "output_type": "error",
     "traceback": [
      "UndefVarError: S not defined",
      "",
      "Stacktrace:",
      " [1] top-level scope",
      "   @ In[33]:1",
      " [2] eval",
      "   @ .\\boot.jl:360 [inlined]",
      " [3] include_string(mapexpr::typeof(REPL.softscope), mod::Module, code::String, filename::String)",
      "   @ Base .\\loading.jl:1116"
     ]
    }
   ],
   "source": [
    "MS = median(S)\n",
    "VaR = quantile(S, 0.995)\n",
    "println(\"M(S) = \", MS)\n",
    "println(\"99.5% VaR = \", VaR)"
   ]
  },
  {
   "cell_type": "code",
   "execution_count": null,
   "id": "48b35e1c",
   "metadata": {},
   "outputs": [
    {
     "ename": "LoadError",
     "evalue": "UndefVarError: VaR not defined",
     "output_type": "error",
     "traceback": [
      "UndefVarError: VaR not defined",
      "",
      "Stacktrace:",
      " [1] top-level scope",
      "   @ In[34]:1",
      " [2] eval",
      "   @ .\\boot.jl:360 [inlined]",
      " [3] include_string(mapexpr::typeof(REPL.softscope), mod::Module, code::String, filename::String)",
      "   @ Base .\\loading.jl:1116"
     ]
    }
   ],
   "source": [
    "SCR = VaR - MS\n",
    "println(\"SCR(S) = \", SCR)"
   ]
  },
  {
   "cell_type": "code",
   "execution_count": 24,
   "id": "9f14f1c3",
   "metadata": {},
   "outputs": [
    {
     "data": {
      "text/plain": [
       "(0.11, 0.049)"
      ]
     },
     "execution_count": 24,
     "metadata": {},
     "output_type": "execute_result"
    }
   ],
   "source": [
    "r,i = .11, .049"
   ]
  },
  {
   "cell_type": "code",
   "execution_count": 18,
   "id": "887cf9ca",
   "metadata": {},
   "outputs": [
    {
     "data": {
      "text/plain": [
       "LocationScale{Float64,Continuous,TDist{Float64}}(\n",
       "μ: 10.1771\n",
       "σ: 1.8549\n",
       "ρ: TDist{Float64}(ν=10.0)\n",
       ")\n"
      ]
     },
     "execution_count": 18,
     "metadata": {},
     "output_type": "execute_result"
    }
   ],
   "source": [
    "post = LocationScale(10.1771, 1.8549, TDist(10))"
   ]
  },
  {
   "cell_type": "code",
   "execution_count": 21,
   "id": "30988755",
   "metadata": {},
   "outputs": [
    {
     "data": {
      "text/plain": [
       "5-element Array{Float64,1}:\n",
       " 0.20199772200795768\n",
       " 0.5240242007900326\n",
       " 0.3633548424568892\n",
       " 0.4371861519006724\n",
       " 0.49328751938561954"
      ]
     },
     "execution_count": 21,
     "metadata": {},
     "output_type": "execute_result"
    }
   ],
   "source": [
    "cdf.(post, obs)"
   ]
  },
  {
   "cell_type": "code",
   "execution_count": 25,
   "id": "82c3e36a",
   "metadata": {},
   "outputs": [
    {
     "data": {
      "text/plain": [
       "10.535699716706667"
      ]
     },
     "execution_count": 25,
     "metadata": {},
     "output_type": "execute_result"
    }
   ],
   "source": [
    "VaR = quantile(post, 0.995)\n",
    "SCR = VaR - quantile(post, 0.5)\n",
    "prims = quantile(post, 0.5) + (r - i) * SCR"
   ]
  },
  {
   "cell_type": "code",
   "execution_count": 26,
   "id": "80e349be",
   "metadata": {},
   "outputs": [
    {
     "data": {
      "text/plain": [
       "5.5200841637305125"
      ]
     },
     "execution_count": 26,
     "metadata": {},
     "output_type": "execute_result"
    }
   ],
   "source": [
    "C0 = (1-(r-i))*SCR"
   ]
  },
  {
   "cell_type": "code",
   "execution_count": 61,
   "id": "3dc2e33e",
   "metadata": {},
   "outputs": [
    {
     "data": {
      "text/plain": [
       "risk_process (generic function with 2 methods)"
      ]
     },
     "execution_count": 61,
     "metadata": {},
     "output_type": "execute_result"
    }
   ],
   "source": [
    "function risk_process(t, C0, prims, post)\n",
    "    sum = 0\n",
    "    for k in 1:t\n",
    "       sum =+ rand(post, 1)[1]\n",
    "      \n",
    "    end\n",
    "return C0 + t*prims - sum \n",
    "end"
   ]
  },
  {
   "cell_type": "code",
   "execution_count": 62,
   "id": "4002df68",
   "metadata": {},
   "outputs": [
    {
     "data": {
      "text/plain": [
       "7.26135238896204"
      ]
     },
     "execution_count": 62,
     "metadata": {},
     "output_type": "execute_result"
    }
   ],
   "source": [
    "risk_process(1, C0, prims, post)"
   ]
  },
  {
   "cell_type": "code",
   "execution_count": 70,
   "id": "4ebb2b00",
   "metadata": {},
   "outputs": [
    {
     "data": {
      "text/plain": [
       "ruin_prob (generic function with 1 method)"
      ]
     },
     "execution_count": 70,
     "metadata": {},
     "output_type": "execute_result"
    }
   ],
   "source": [
    "function ruin_prob(simulations , years, C0, prims, post )\n",
    "    Ct = [risk_process(years, C0, prims, post) for _ in 1:simulations]\n",
    "    \n",
    "    return median(Ct)\n",
    "end"
   ]
  },
  {
   "cell_type": "code",
   "execution_count": 71,
   "id": "0bb3c6b5",
   "metadata": {},
   "outputs": [
    {
     "data": {
      "text/plain": [
       "5.827681931080869"
      ]
     },
     "execution_count": 71,
     "metadata": {},
     "output_type": "execute_result"
    }
   ],
   "source": [
    "ruin_prob(10_000, 1, C0, prims, post)"
   ]
  },
  {
   "cell_type": "code",
   "execution_count": null,
   "id": "40b7c6c9",
   "metadata": {},
   "outputs": [],
   "source": []
  }
 ],
 "metadata": {
  "kernelspec": {
   "display_name": "Julia 1.4.1",
   "language": "julia",
   "name": "julia-1.4"
  },
  "language_info": {
   "file_extension": ".jl",
   "mimetype": "application/julia",
   "name": "julia",
   "version": "1.4.1"
  }
 },
 "nbformat": 4,
 "nbformat_minor": 5
}
